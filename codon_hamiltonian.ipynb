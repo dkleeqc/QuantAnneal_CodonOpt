{
 "cells": [
  {
   "cell_type": "code",
   "execution_count": 1,
   "metadata": {},
   "outputs": [],
   "source": [
    "import os\n",
    "import functools\n",
    "from itertools import groupby\n",
    "import operator\n",
    "from collections import defaultdict\n",
    "\n",
    "import numpy as np\n",
    "import pandas as pd\n",
    "\n",
    "from dwave.system.samplers import DWaveSampler\n",
    "from dwave.system.composites import EmbeddingComposite\n",
    "\n",
    "from codon_hamiltonian import *"
   ]
  },
  {
   "cell_type": "markdown",
   "metadata": {},
   "source": [
    "---\n",
    "# Amino_acid_to Codon"
   ]
  },
  {
   "cell_type": "markdown",
   "metadata": {},
   "source": [
    "Input: Amino acid sequence"
   ]
  },
  {
   "cell_type": "code",
   "execution_count": 3,
   "metadata": {},
   "outputs": [],
   "source": [
    "\"\"\"\n",
    "def fragmenting_amino_acid_seq(Amino_acid_seq, length_frag, ith):\n",
    "    return Amino_acid_seq[length_frag * (ith-1):length_frag * (ith)]\n",
    "\"\"\""
   ]
  },
  {
   "cell_type": "code",
   "execution_count": 2,
   "metadata": {},
   "outputs": [
    {
     "data": {
      "text/plain": [
       "'MQS'"
      ]
     },
     "execution_count": 2,
     "metadata": {},
     "output_type": "execute_result"
    }
   ],
   "source": [
    "#spike_sars2_seq = 'MFVFLVLLPLVSSQCVNLTTRTQLPPAYTNSFTRGVYYPDKVFRSSVLHSTQDLFLPFFSNVTWFHAIHVSGTNGTKRFDNPVLPFNDGVYFASTEKSNIIRGWIFGTTLDSKTQSLLIVNNATNVVIKVCEFQFCNDPFLGVYYHKNNKSWMESEFRVYSSANNCTFEYVSQPFLMDLEGKQGNFKNLREFVFKNIDGYFKIYSKHTPINLVRDLPQGFSALEPLVDLPIGINITRFQTLLALHRSYLTPGDSSSGWTAGAAAYYVGYLQPRTFLLKYNENGTITDAVDCALDPLSETKCTLKSFTVEKGIYQTSNFRVQPTESIVRFPNITNLCPFGEVFNATRFASVYAWNRKRISNCVADYSVLYNSASFSTFKCYGVSPTKLNDLCFTNVYADSFVIRGDEVRQIAPGQTGKIADYNYKLPDDFTGCVIAWNSNNLDSKVGGNYNYLYRLFRKSNLKPFERDISTEIYQAGSTPCNGVEGFNCYFPLQSYGFQPTNGVGYQPYRVVVLSFELLHAPATVCGPKKSTNLVKNKCVNFNFNGLTGTGVLTESNKKFLPFQQFGRDIADTTDAVRDPQTLEILDITPCSFGGVSVITPGTNTSNQVAVLYQDVNCTEVPVAIHADQLTPTWRVYSTGSNVFQTRAGCLIGAEHVNNSYECDIPIGAGICASYQTQTNSPRRARSVASQSIIAYTMSLGAENSVAYSNNSIAIPTNFTISVTTEILPVSMTKTSVDCTMYICGDSTECSNLLLQYGSFCTQLNRALTGIAVEQDKNTQEVFAQVKQIYKTPPIKDFGGFNFSQILPDPSKPSKRSFIEDLLFNKVTLADAGFIKQYGDCLGDIAARDLICAQKFNGLTVLPPLLTDEMIAQYTSALLAGTITSGWTFGAGAALQIPFAMQMAYRFNGIGVTQNVLYENQKLIANQFNSAIGKIQDSLSSTASALGKLQDVVNQNAQALNTLVKQLSSNFGAISSVLNDILSRLDKVEAEVQIDRLITGRLQSLQTYVTQQLIRAAEIRASANLAATKMSECVLGQSKRVDFCGKGYHLMSFPQSAPHGVVFLHVTYVPAQEKNFTTAPAICHDGKAHFPREGVFVSNGTHWFVTQRNFYEPQIITTDNTFVSGNCDVVIGIVNNTVYDPLQPELDSFKEELDKYFKNHTSPDVDLGDISGINASVVNIQKEIDRLNEVAKNLNESLIDLQELGKYEQYIKWPWYIWLGFIAGLIAIVMVTIMLCCMTSCCSCLKGCCSCGSCCKFDEDDSEPVLKGVKLHYT'\n",
    "A0A2U1LIM9 = 'MQSTTSVKLSPFDLMTALLNGKVSFDTSNTSDTNIPLAVFMENRELLMILTTSVAVLIGCVVVLVWRRSSSAAKKAAESPVIVVPKKVTEDEVDDGRKKVTVFFGTQTGTAEGFAKALVEEAKARYEKAVFKVIDLDDYAAEDDEYEEKLKKESLAFFFLATYGDGEPTDNAARFYKWFTEGEEKGEWLEKLQYAVFGLGNRQYEHFNKIAKVVDEKLVEQGAKRLVPVGMGDDDQCIEDDFTAWKELVWPELDQLLRDEDDTSVATPYTAAVAEYRVVFHDKPETYDQDQLTNGHAVHDAQHPCRSNVAVKKELHSPLSDRSCTHLEFDISNTGLSYETGDHVGVYVENLSEVVDEAEKLIGLPPHTYFSVHTDNEDGTPLGGASLPPPFPPCTLRKALASYADVLSSPKKSALLALAAHATDSTEADRLKFLASPAGKDEYAQWIVASHRSLLEVMEAFPSAKPPLGVFFASVAPRLQPRYYSISSSPKFAPNRIHVTCALVYEQTPSGRVHKGVCSTWMKNAVPMTESQDCSWAPIYVRTSNFRLPSDPKVPVIMIGPGTGLAPFRGFLQERLAQKEAGTELGTAILFFGCRNRKVDFIYEDELNNFVETGALSELVTAFSREGATKEYVQHKMTQKASDIWNLLSEGAYLYVCGDAKGMAKDVHRTLHTIVQEQGSLDSSKAELYVKNLQMAGRYLRDVW'\n",
    "\n",
    "test_amino_seq = fragmenting_amino_acid_seq(A0A2U1LIM9, 3, 1)\n",
    "test_amino_seq"
   ]
  },
  {
   "cell_type": "markdown",
   "metadata": {},
   "source": [
    "Enumerating all poissible codons of an input"
   ]
  },
  {
   "cell_type": "code",
   "execution_count": 3,
   "metadata": {},
   "outputs": [
    {
     "data": {
      "text/plain": [
       "[['AUG'], ['CAA', 'CAG'], ['AGC', 'AGU', 'UCA', 'UCC', 'UCG', 'UCU']]"
      ]
     },
     "execution_count": 3,
     "metadata": {},
     "output_type": "execute_result"
    }
   ],
   "source": [
    "codon_seq = Amino_acid_to_Codon(test_amino_seq)\n",
    "codon_seq()"
   ]
  },
  {
   "cell_type": "markdown",
   "metadata": {},
   "source": [
    "Codon Seq. from RNA basis to DNA basis"
   ]
  },
  {
   "cell_type": "code",
   "execution_count": 4,
   "metadata": {},
   "outputs": [
    {
     "name": "stdout",
     "output_type": "stream",
     "text": [
      "[['AUG'], ['CAA', 'CAG'], ['AGC', 'AGU', 'UCA', 'UCC', 'UCG', 'UCU']]\n",
      "[['ATG'], ['CAA', 'CAG'], ['AGC', 'AGT', 'TCA', 'TCC', 'TCG', 'TCT']]\n"
     ]
    }
   ],
   "source": [
    "codon_seq_in_dna_base = codon_seq.in_dna_base()\n",
    "print(codon_seq())\n",
    "print(codon_seq_in_dna_base)"
   ]
  },
  {
   "cell_type": "markdown",
   "metadata": {},
   "source": [
    "---\n",
    "# Codon_Hamiltonian"
   ]
  },
  {
   "cell_type": "markdown",
   "metadata": {},
   "source": [
    "parameters"
   ]
  },
  {
   "cell_type": "code",
   "execution_count": 5,
   "metadata": {},
   "outputs": [],
   "source": [
    "weight_params = {'c_f': 0.1, 'c_GC': 1, 'c_R': 0.1, 'c_L': 1, 'epsilon_f': 0.001, 'rho_T': 0.5, 'epsilon': 1, 'infty': 10}\n",
    "H_codon = Codon_Hamiltonian(test_amino_seq, weight_params)"
   ]
  },
  {
   "cell_type": "markdown",
   "metadata": {},
   "source": [
    "## 1. Incorporating codon usage bias"
   ]
  },
  {
   "cell_type": "markdown",
   "metadata": {},
   "source": [
    "$$\n",
    "\\mathcal{H}_f = c_f\\sum^N_i\\log\\left[C_i + \\varepsilon_f\\right]q_i\n",
    "$$"
   ]
  },
  {
   "cell_type": "markdown",
   "metadata": {},
   "source": [
    "codon frequency table"
   ]
  },
  {
   "cell_type": "code",
   "execution_count": 6,
   "metadata": {},
   "outputs": [
    {
     "name": "stdout",
     "output_type": "stream",
     "text": [
      "Available tables: ['b_subtilis_1423', 'd_melanogaster_7227', 'm_musculus_domesticus_10092', 'm_musculus_10090', 'e_coli_316407', 'g_gallus_9031', 'c_elegans_6239', 's_cerevisiae_4932', 'h_sapiens_9606']\n",
      "  Amino acid sequence                  Frequences of all possible codons\n",
      "0                   M                                       {'ATG': 1.0}\n",
      "1                   Q                         {'CAA': 0.35, 'CAG': 0.65}\n",
      "2                   S  {'AGC': 0.28, 'AGT': 0.15, 'TCA': 0.12, 'TCC':...\n"
     ]
    }
   ],
   "source": [
    "import python_codon_tables as pct\n",
    "# PRINT THE LIST OF NAMES OF ALL AVAILABLE TABLES\n",
    "print ('Available tables:', pct.available_codon_tables_names)\n",
    "table = pct.get_codons_table('e_coli_316407')\n",
    "table['A']\n",
    "\n",
    "#Table\n",
    "col1 = test_amino_seq\n",
    "col2 = [table[x] for x in test_amino_seq]\n",
    "two_dim_list = [[col1[x], col2[x]] for x in range(len(test_amino_seq))]\n",
    "\n",
    "\n",
    "my_data = pd.DataFrame(two_dim_list, columns = ['Amino acid sequence', 'Frequences of all possible codons'])\n",
    "print(my_data)"
   ]
  },
  {
   "cell_type": "markdown",
   "metadata": {},
   "source": [
    "$\\vec{\\zeta}$, where $\\zeta_i = \\log(C_i+\\varepsilon_f)$"
   ]
  },
  {
   "cell_type": "code",
   "execution_count": 8,
   "metadata": {},
   "outputs": [
    {
     "data": {
      "text/plain": [
       "array([ 0.        , -1.04982212, -0.43078292, -1.27296568, -1.89711998,\n",
       "       -2.12026354, -1.89711998, -1.89711998, -1.89711998])"
      ]
     },
     "execution_count": 8,
     "metadata": {},
     "output_type": "execute_result"
    }
   ],
   "source": [
    "H_codon.vec_zeta(epsilon_f=0)"
   ]
  },
  {
   "cell_type": "markdown",
   "metadata": {},
   "source": [
    "$\\mathcal{H}_f$"
   ]
  },
  {
   "cell_type": "code",
   "execution_count": 9,
   "metadata": {},
   "outputs": [
    {
     "data": {
      "text/plain": [
       "array([-9.99500333e-05,  1.04696906e-01,  4.29245637e-02,  1.26940061e-01,\n",
       "        1.89047544e-01,  2.11196473e-01,  1.89047544e-01,  1.89047544e-01,\n",
       "        1.89047544e-01])"
      ]
     },
     "execution_count": 9,
     "metadata": {},
     "output_type": "execute_result"
    }
   ],
   "source": [
    "H_codon.H_f"
   ]
  },
  {
   "cell_type": "markdown",
   "metadata": {},
   "source": [
    "## 2. Optimize target GC concentration"
   ]
  },
  {
   "cell_type": "markdown",
   "metadata": {},
   "source": [
    "$$\n",
    "\\rho_{GC} = \\frac{1}{N}\\sum^N_{i} s_i q_i,\n",
    "$$\n",
    "where $s_i$: the number of G's and C's in codon $i$."
   ]
  },
  {
   "cell_type": "markdown",
   "metadata": {},
   "source": [
    "$\\vec{s}$"
   ]
  },
  {
   "cell_type": "code",
   "execution_count": 10,
   "metadata": {},
   "outputs": [
    {
     "data": {
      "text/plain": [
       "array([1, 1, 2, 2, 1, 1, 2, 2, 1])"
      ]
     },
     "execution_count": 10,
     "metadata": {},
     "output_type": "execute_result"
    }
   ],
   "source": [
    "H_codon.vec_s()"
   ]
  },
  {
   "cell_type": "markdown",
   "metadata": {},
   "source": [
    "$\\vec{s}\\otimes\\vec{s}$"
   ]
  },
  {
   "cell_type": "code",
   "execution_count": 11,
   "metadata": {},
   "outputs": [],
   "source": [
    "upper_trianglular_part, diagonal_part = H_codon.matrix_ss()"
   ]
  },
  {
   "cell_type": "markdown",
   "metadata": {},
   "source": [
    "$$\n",
    "\\mathcal{H}_{GC} = \\frac{2c_{GC}}{N^2}\\sum^N_i\\sum^N_{j<i} s_is_jq_iq_j + \\sum^N_i \\left(\\frac{c_{GC}}{N^2}s^2_i - \\frac{2\\rho_Tc_{GC}}{N}s_i\\right)q_i + c_{GC}\\rho^2_T\n",
    "$$"
   ]
  },
  {
   "cell_type": "code",
   "execution_count": 12,
   "metadata": {},
   "outputs": [],
   "source": [
    "quadratic_coeff, linear_coeff, const = H_codon.H_GC"
   ]
  },
  {
   "cell_type": "code",
   "execution_count": 13,
   "metadata": {},
   "outputs": [
    {
     "data": {
      "text/plain": [
       "-0.09876543209876543"
      ]
     },
     "execution_count": 13,
     "metadata": {},
     "output_type": "execute_result"
    }
   ],
   "source": [
    "np.max(quadratic_coeff)"
   ]
  },
  {
   "cell_type": "markdown",
   "metadata": {},
   "source": [
    "## 3. Minimize sequentially repeated nuceotides"
   ]
  },
  {
   "cell_type": "markdown",
   "metadata": {},
   "source": [
    "$$\n",
    "\\mathcal{H}_R = c_R\\sum^N_i\\sum^{N}_{j<i} R_{ij}q_iq_j,\n",
    "$$\n",
    "$$\n",
    "R_{ij} = r(C_i, C_J) \\kappa_{i,j}\n",
    "$$"
   ]
  },
  {
   "cell_type": "markdown",
   "metadata": {},
   "source": [
    "$r(C_i, C_j)$"
   ]
  },
  {
   "cell_type": "code",
   "execution_count": 14,
   "metadata": {},
   "outputs": [],
   "source": [
    "# r(C_i, C_j)\n",
    "def repeated_sequential_nucleotides(Ci, Cj):\n",
    "    input = Ci + Cj\n",
    "    groups = groupby(input)\n",
    "    result = [(label, len(list(group))) for label, group in groups]\n",
    "    list_counts = np.array(result)[:,1]\n",
    "    outcome = np.max(list_counts.astype('int'))\n",
    "    return outcome ** 2 - 1"
   ]
  },
  {
   "cell_type": "code",
   "execution_count": 15,
   "metadata": {},
   "outputs": [
    {
     "data": {
      "text/plain": [
       "3"
      ]
     },
     "execution_count": 15,
     "metadata": {},
     "output_type": "execute_result"
    }
   ],
   "source": [
    "H_codon._repeated_sequential_nucleotides('AUG', 'CAA')"
   ]
  },
  {
   "cell_type": "markdown",
   "metadata": {},
   "source": [
    "$R_{ij}$"
   ]
  },
  {
   "cell_type": "code",
   "execution_count": 16,
   "metadata": {},
   "outputs": [
    {
     "data": {
      "text/plain": [
       "array([[0., 3., 0., 0., 0., 0., 0., 0., 0.],\n",
       "       [0., 0., 0., 8., 8., 3., 3., 3., 3.],\n",
       "       [0., 0., 0., 0., 0., 0., 3., 0., 0.],\n",
       "       [0., 0., 0., 0., 0., 0., 0., 0., 0.],\n",
       "       [0., 0., 0., 0., 0., 0., 0., 0., 0.],\n",
       "       [0., 0., 0., 0., 0., 0., 0., 0., 0.],\n",
       "       [0., 0., 0., 0., 0., 0., 0., 0., 0.],\n",
       "       [0., 0., 0., 0., 0., 0., 0., 0., 0.],\n",
       "       [0., 0., 0., 0., 0., 0., 0., 0., 0.]])"
      ]
     },
     "execution_count": 16,
     "metadata": {},
     "output_type": "execute_result"
    }
   ],
   "source": [
    "H_codon.matrix_R()"
   ]
  },
  {
   "cell_type": "code",
   "execution_count": 17,
   "metadata": {},
   "outputs": [
    {
     "data": {
      "text/plain": [
       "8.0"
      ]
     },
     "execution_count": 17,
     "metadata": {},
     "output_type": "execute_result"
    }
   ],
   "source": [
    "np.max(H_codon.matrix_R())"
   ]
  },
  {
   "cell_type": "markdown",
   "metadata": {},
   "source": [
    "## 4. Additional constraints"
   ]
  },
  {
   "cell_type": "markdown",
   "metadata": {},
   "source": [
    "$$\n",
    "\\mathcal{H}_p = -\\sum^N_i \\epsilon q_i + \\sum^N_i\\sum^N_{j<i} \\tau_{ij}q_iq_j\n",
    "$$"
   ]
  },
  {
   "cell_type": "code",
   "execution_count": 18,
   "metadata": {},
   "outputs": [
    {
     "data": {
      "text/plain": [
       "array([[ 0.,  0.,  0.,  0.,  0.,  0.,  0.,  0.,  0.],\n",
       "       [ 0.,  0., 50.,  0.,  0.,  0.,  0.,  0.,  0.],\n",
       "       [ 0.,  0.,  0.,  0.,  0.,  0.,  0.,  0.,  0.],\n",
       "       [ 0.,  0.,  0.,  0., 50., 50., 50., 50., 50.],\n",
       "       [ 0.,  0.,  0.,  0.,  0., 50., 50., 50., 50.],\n",
       "       [ 0.,  0.,  0.,  0.,  0.,  0., 50., 50., 50.],\n",
       "       [ 0.,  0.,  0.,  0.,  0.,  0.,  0., 50., 50.],\n",
       "       [ 0.,  0.,  0.,  0.,  0.,  0.,  0.,  0., 50.],\n",
       "       [ 0.,  0.,  0.,  0.,  0.,  0.,  0.,  0.,  0.]])"
      ]
     },
     "execution_count": 18,
     "metadata": {},
     "output_type": "execute_result"
    }
   ],
   "source": [
    "H_codon.matrix_tau()"
   ]
  },
  {
   "cell_type": "markdown",
   "metadata": {},
   "source": [
    "## 5. Conservation of the length of polypeptide"
   ]
  },
  {
   "cell_type": "markdown",
   "metadata": {},
   "source": [
    "$$\n",
    "\\mathcal{H}_L = c_L\\left(1-\\frac{1}{l}\\sum^N_{i=1}q_i\\right)^2\n",
    "= c_L\\left[1 + \\left(\\frac{1}{l^2}-\\frac{2}{l}\\right)\\sum^N_{i=1} q_i + \\frac{2}{l^2}\\sum^N_{i=1}\\sum^{N}_{i<j}q_iq_j \\right]\n",
    "$$"
   ]
  },
  {
   "cell_type": "markdown",
   "metadata": {},
   "source": [
    "$$\n",
    "L_{ii} = \\left(\\frac{1}{l^2}-\\frac{2}{l}\\right)I \\\\ \n",
    "L_{ij} = \\frac{2}{l^2} \\text{ for } i<j\n",
    "$$"
   ]
  },
  {
   "cell_type": "code",
   "execution_count": 19,
   "metadata": {},
   "outputs": [
    {
     "data": {
      "text/plain": [
       "[array([-0.55555556, -0.55555556, -0.55555556, -0.55555556, -0.55555556,\n",
       "        -0.55555556, -0.55555556, -0.55555556, -0.55555556]),\n",
       " array([[0.        , 0.22222222, 0.22222222, 0.22222222, 0.22222222,\n",
       "         0.22222222, 0.22222222, 0.22222222, 0.22222222],\n",
       "        [0.        , 0.        , 0.22222222, 0.22222222, 0.22222222,\n",
       "         0.22222222, 0.22222222, 0.22222222, 0.22222222],\n",
       "        [0.        , 0.        , 0.        , 0.22222222, 0.22222222,\n",
       "         0.22222222, 0.22222222, 0.22222222, 0.22222222],\n",
       "        [0.        , 0.        , 0.        , 0.        , 0.22222222,\n",
       "         0.22222222, 0.22222222, 0.22222222, 0.22222222],\n",
       "        [0.        , 0.        , 0.        , 0.        , 0.        ,\n",
       "         0.22222222, 0.22222222, 0.22222222, 0.22222222],\n",
       "        [0.        , 0.        , 0.        , 0.        , 0.        ,\n",
       "         0.        , 0.22222222, 0.22222222, 0.22222222],\n",
       "        [0.        , 0.        , 0.        , 0.        , 0.        ,\n",
       "         0.        , 0.        , 0.22222222, 0.22222222],\n",
       "        [0.        , 0.        , 0.        , 0.        , 0.        ,\n",
       "         0.        , 0.        , 0.        , 0.22222222],\n",
       "        [0.        , 0.        , 0.        , 0.        , 0.        ,\n",
       "         0.        , 0.        , 0.        , 0.        ]])]"
      ]
     },
     "execution_count": 19,
     "metadata": {},
     "output_type": "execute_result"
    }
   ],
   "source": [
    "H_codon.matrix_L()"
   ]
  },
  {
   "cell_type": "markdown",
   "metadata": {},
   "source": [
    "## 6. Codon Hamiltonian"
   ]
  },
  {
   "cell_type": "markdown",
   "metadata": {},
   "source": [
    "$$\n",
    "\\mathcal{H} = \\sum^N_i Q_{ii} q_i + \\sum^N_i\\sum^N_{j<i}Q_{ij}q_iq_j + c_{GC}\\rho^2_T.\n",
    "$$"
   ]
  },
  {
   "cell_type": "markdown",
   "metadata": {},
   "source": [
    "$$\n",
    "Q_{ii} = c_f\\zeta_i - \\frac{2\\rho_Tc_{GC}}{N}s_i + \\frac{c_{GC}}{N^2}s^2_i - \\varepsilon + c_LL_{i}\n",
    "$$\n",
    "$$\n",
    "Q_{ij} = \\frac{2c_{GC}}{N^2}\\sigma_{ij} + c_R R_{ij} + \\tau_{ij} + c_L L_{ij}\n",
    "$$"
   ]
  },
  {
   "cell_type": "code",
   "execution_count": 29,
   "metadata": {},
   "outputs": [
    {
     "data": {
      "text/plain": [
       "(-1.4431245143157814, -1.6854704980510382)"
      ]
     },
     "execution_count": 29,
     "metadata": {},
     "output_type": "execute_result"
    }
   ],
   "source": [
    "np.max(H_codon.Q_ii), np.min(H_codon.Q_ii)"
   ]
  },
  {
   "cell_type": "code",
   "execution_count": 30,
   "metadata": {},
   "outputs": [
    {
     "data": {
      "text/plain": [
       "(10.320987654320987, 0.0)"
      ]
     },
     "execution_count": 30,
     "metadata": {},
     "output_type": "execute_result"
    }
   ],
   "source": [
    "np.max(H_codon.Q_ij), np.min(H_codon.Q_ij)"
   ]
  },
  {
   "cell_type": "markdown",
   "metadata": {},
   "source": [
    "---\n",
    "# Simulating a Toy Model "
   ]
  },
  {
   "cell_type": "markdown",
   "metadata": {},
   "source": [
    "test input"
   ]
  },
  {
   "cell_type": "code",
   "execution_count": 2,
   "metadata": {},
   "outputs": [],
   "source": [
    "#spike_sars2_seq = 'MFVFLVLLPLVSSQCVNLTTRTQLPPAYTNSFTRGVYYPDKVFRSSVLHSTQDLFLPFFSNVTWFHAIHVSGTNGTKRFDNPVLPFNDGVYFASTEKSNIIRGWIFGTTLDSKTQSLLIVNNATNVVIKVCEFQFCNDPFLGVYYHKNNKSWMESEFRVYSSANNCTFEYVSQPFLMDLEGKQGNFKNLREFVFKNIDGYFKIYSKHTPINLVRDLPQGFSALEPLVDLPIGINITRFQTLLALHRSYLTPGDSSSGWTAGAAAYYVGYLQPRTFLLKYNENGTITDAVDCALDPLSETKCTLKSFTVEKGIYQTSNFRVQPTESIVRFPNITNLCPFGEVFNATRFASVYAWNRKRISNCVADYSVLYNSASFSTFKCYGVSPTKLNDLCFTNVYADSFVIRGDEVRQIAPGQTGKIADYNYKLPDDFTGCVIAWNSNNLDSKVGGNYNYLYRLFRKSNLKPFERDISTEIYQAGSTPCNGVEGFNCYFPLQSYGFQPTNGVGYQPYRVVVLSFELLHAPATVCGPKKSTNLVKNKCVNFNFNGLTGTGVLTESNKKFLPFQQFGRDIADTTDAVRDPQTLEILDITPCSFGGVSVITPGTNTSNQVAVLYQDVNCTEVPVAIHADQLTPTWRVYSTGSNVFQTRAGCLIGAEHVNNSYECDIPIGAGICASYQTQTNSPRRARSVASQSIIAYTMSLGAENSVAYSNNSIAIPTNFTISVTTEILPVSMTKTSVDCTMYICGDSTECSNLLLQYGSFCTQLNRALTGIAVEQDKNTQEVFAQVKQIYKTPPIKDFGGFNFSQILPDPSKPSKRSFIEDLLFNKVTLADAGFIKQYGDCLGDIAARDLICAQKFNGLTVLPPLLTDEMIAQYTSALLAGTITSGWTFGAGAALQIPFAMQMAYRFNGIGVTQNVLYENQKLIANQFNSAIGKIQDSLSSTASALGKLQDVVNQNAQALNTLVKQLSSNFGAISSVLNDILSRLDKVEAEVQIDRLITGRLQSLQTYVTQQLIRAAEIRASANLAATKMSECVLGQSKRVDFCGKGYHLMSFPQSAPHGVVFLHVTYVPAQEKNFTTAPAICHDGKAHFPREGVFVSNGTHWFVTQRNFYEPQIITTDNTFVSGNCDVVIGIVNNTVYDPLQPELDSFKEELDKYFKNHTSPDVDLGDISGINASVVNIQKEIDRLNEVAKNLNESLIDLQELGKYEQYIKWPWYIWLGFIAGLIAIVMVTIMLCCMTSCCSCLKGCCSCGSCCKFDEDDSEPVLKGVKLHYT'\n",
    "A0A2U1LIM9 = 'MQSTTSVKLSPFDLMTALLNGKVSFDTSNTSDTNIPLAVFMENRELLMILTTSVAVLIGCVVVLVWRRSSSAAKKAAESPVIVVPKKVTEDEVDDGRKKVTVFFGTQTGTAEGFAKALVEEAKARYEKAVFKVIDLDDYAAEDDEYEEKLKKESLAFFFLATYGDGEPTDNAARFYKWFTEGEEKGEWLEKLQYAVFGLGNRQYEHFNKIAKVVDEKLVEQGAKRLVPVGMGDDDQCIEDDFTAWKELVWPELDQLLRDEDDTSVATPYTAAVAEYRVVFHDKPETYDQDQLTNGHAVHDAQHPCRSNVAVKKELHSPLSDRSCTHLEFDISNTGLSYETGDHVGVYVENLSEVVDEAEKLIGLPPHTYFSVHTDNEDGTPLGGASLPPPFPPCTLRKALASYADVLSSPKKSALLALAAHATDSTEADRLKFLASPAGKDEYAQWIVASHRSLLEVMEAFPSAKPPLGVFFASVAPRLQPRYYSISSSPKFAPNRIHVTCALVYEQTPSGRVHKGVCSTWMKNAVPMTESQDCSWAPIYVRTSNFRLPSDPKVPVIMIGPGTGLAPFRGFLQERLAQKEAGTELGTAILFFGCRNRKVDFIYEDELNNFVETGALSELVTAFSREGATKEYVQHKMTQKASDIWNLLSEGAYLYVCGDAKGMAKDVHRTLHTIVQEQGSLDSSKAELYVKNLQMAGRYLRDVW'\n",
    "HPDF_amino = 'EGPALRRSYWRHLRRLVLGPPEPPFSHVCQVGDPVLRGVAAPVERAQLGGPELQRLTQRLVQVMRRRRCVGLSAPQLGVPRQVLALELPEALCRECPPRQRALRQMEPFPLRVFVNPSLRVLDSRLVTFPEGCESVAGFLACVPRFQAVQISGLDPNGEQVVWQASGWAARIIQHEMDHLQGCLFIDKMDSRTFTNVYWMKVND'"
   ]
  },
  {
   "cell_type": "code",
   "execution_count": 16,
   "metadata": {},
   "outputs": [
    {
     "name": "stdout",
     "output_type": "stream",
     "text": [
      "Amino acid seq: EGP\n",
      "All possible codons: [['GAA', 'GAG'], ['GGA', 'GGC', 'GGG', 'GGU'], ['CCA', 'CCC', 'CCG', 'CCU']]\n"
     ]
    }
   ],
   "source": [
    "amino_seq = fragmenting_amino_acid_seq(HPDF_amino, 3, 0)\n",
    "codon_seq = Amino_acid_to_Codon(amino_seq)\n",
    "print('Amino acid seq:', amino_seq)\n",
    "print('All possible codons:', codon_seq())"
   ]
  },
  {
   "cell_type": "markdown",
   "metadata": {},
   "source": [
    "Preparing H_codon"
   ]
  },
  {
   "cell_type": "code",
   "execution_count": 31,
   "metadata": {},
   "outputs": [],
   "source": [
    "weight_params = {'c_f': 0.1, 'c_GC': 1, 'c_R': 0.1, 'c_L': 1, 'epsilon_f': 0.001, 'rho_T': 0.5, 'epsilon': 1, 'infty': 10}\n",
    "H_codon = Codon_Hamiltonian(amino_seq, weight_params)"
   ]
  },
  {
   "cell_type": "markdown",
   "metadata": {},
   "source": [
    "## 1. D-wave"
   ]
  },
  {
   "cell_type": "markdown",
   "metadata": {},
   "source": [
    "Constructing Q_{ij} as dict type"
   ]
  },
  {
   "cell_type": "code",
   "execution_count": 4,
   "metadata": {},
   "outputs": [],
   "source": [
    "Q = H_codon.get_Q_dict()"
   ]
  },
  {
   "cell_type": "markdown",
   "metadata": {},
   "source": [
    "### Simulation"
   ]
  },
  {
   "cell_type": "code",
   "execution_count": 5,
   "metadata": {},
   "outputs": [],
   "source": [
    "from dwave.system.samplers import DWaveSampler\n",
    "from dwave.system.composites import EmbeddingComposite\n",
    "\n",
    "#import matplotlib\n",
    "#matplotlib.use(\"agg\")\n",
    "#from matplotlib import pyplot as plt"
   ]
  },
  {
   "cell_type": "code",
   "execution_count": 6,
   "metadata": {},
   "outputs": [],
   "source": [
    "# ------- Run our QUBO on the QPU -------\n",
    "# Set up QPU parameters\n",
    "#이건 우리가 최적화 해야할듯?\n",
    "chainstrength = 15 #min: 12\n",
    "numruns = 10000"
   ]
  },
  {
   "cell_type": "code",
   "execution_count": 7,
   "metadata": {},
   "outputs": [],
   "source": [
    "# Run the QUBO on the solver from your config file\n",
    "sampler = EmbeddingComposite(DWaveSampler())\n",
    "response = sampler.sample_qubo(Q,\n",
    "                               chain_strength=chainstrength,\n",
    "                               num_reads=numruns,\n",
    "                               #num_spin_reversal_tramsforms=50,\n",
    "                               label='Codon_sequence')"
   ]
  },
  {
   "cell_type": "code",
   "execution_count": 8,
   "metadata": {},
   "outputs": [],
   "source": [
    "def get_min_res(response):\n",
    "    # Pick minimum Energy and its index\n",
    "    min_E = min(list(response.data(fields=['energy'])))[0]\n",
    "    min_index = list(response.data(fields=['energy'])).index(min_E)\n",
    "    # Pick a sample associated with min Energy\n",
    "    min_sample = list(response.data(fields=['sample']))[min_index][0]\n",
    "    min_sample = [k for k,v in min_sample.items() if v == 1]\n",
    "    \n",
    "    return min_sample, min_E"
   ]
  },
  {
   "cell_type": "code",
   "execution_count": 9,
   "metadata": {},
   "outputs": [
    {
     "data": {
      "text/plain": [
       "([0, 2, 3, 11], -4.948192389640039)"
      ]
     },
     "execution_count": 9,
     "metadata": {},
     "output_type": "execute_result"
    }
   ],
   "source": [
    "get_min_res(response)"
   ]
  },
  {
   "cell_type": "code",
   "execution_count": 10,
   "metadata": {},
   "outputs": [
    {
     "name": "stdout",
     "output_type": "stream",
     "text": [
      "------------------------------------------------------------\n",
      "          Set 0          Set 1    Energy        Cut Size    \n",
      "------------------------------------------------------------\n",
      "  [0, 2, 3, 11]-4.948192389640039       4       \n",
      "  [0, 2, 3, 11]-4.948192389640039       4       \n",
      "  [0, 2, 3, 12]-4.896120944050517       4       \n",
      "  [0, 2, 8, 11]-4.886084906388158       4       \n",
      "  [0, 2, 4, 11]-4.886084906388158       4       \n",
      "  [0, 2, 7, 11]-4.886084906388157       4       \n",
      "   [0, 2, 3, 9]-4.875500239872185       4       \n",
      "   [0, 2, 3, 9]-4.875500239872185       4       \n",
      "   [0, 2, 3, 9]-4.875500239872185       4       \n",
      "  [0, 2, 7, 12]-4.8340134607986345       4       \n",
      "  [0, 2, 4, 12]-4.8221791412720085       4       \n",
      "  [0, 2, 8, 12]-4.8221791412720085       4       \n",
      "   [0, 2, 7, 9]-4.813392756620304       4       \n",
      "   [0, 2, 8, 9]-4.801558437093677       4       \n",
      "   [0, 2, 4, 9]-4.801558437093677       4       \n",
      "  [0, 2, 3, 10]-4.696884995096754       4       \n",
      "  [0, 2, 4, 10]-4.634777511844873       4       \n",
      "  [0, 2, 8, 10]-4.634777511844873       4       \n",
      "  [0, 2, 7, 10]-4.634777511844872       4       \n",
      "  [0, 2, 5, 10]-4.612628582723054       4       \n",
      "  [0, 2, 5, 11]-4.56393597726634       4       \n",
      "  [0, 2, 5, 12]-4.500030212150189       4       \n",
      "  [0, 2, 5, 12]-4.500030212150189       4       \n",
      "   [0, 2, 5, 9]-4.479409507971858       4       \n",
      "   [0, 2, 5, 9]-4.479409507971858       4       \n",
      "  [0, 2, 6, 10]-4.334777511844871       4       \n",
      "  [0, 2, 6, 11]-4.286084906388157       4       \n",
      "  [0, 2, 6, 12]-4.234013460798634       4       \n",
      "  [0, 2, 6, 12]-4.234013460798634       4       \n",
      "  [0, 1, 7, 11]-4.2243125645138875       4       \n",
      "   [0, 2, 6, 9]-4.213392756620303       4       \n",
      "  [0, 1, 8, 11]-4.212478244987261       4       \n",
      "  [0, 1, 8, 11]-4.212478244987261       4       \n",
      "  [0, 1, 7, 12]-4.160406799397738       4       \n",
      "  [0, 1, 7, 12]-4.160406799397738       4       \n",
      "  [0, 1, 7, 12]-4.160406799397738       4       \n",
      "   [0, 1, 7, 9]-4.1397860952194065       4       \n",
      "  [0, 1, 8, 12]-4.136738160344485       4       \n",
      "   [0, 1, 8, 9]-4.116117456166153       4       \n",
      "   [0, 1, 8, 9]-4.116117456166153       4       \n",
      "     [0, 2, 10]-4.049490736534966       4       \n",
      "      [0, 2, 3]-4.004421715923656       4       \n",
      "     [0, 2, 11]-4.000798131078252       4       \n",
      "  [0, 1, 6, 10]-3.9730051699706026       3       \n",
      "  [0, 1, 7, 10]-3.9730051699706026       3       \n",
      "  [0, 1, 8, 10]-3.9611708504439758       3       \n",
      "      [0, 2, 7]-3.9423142326717744       3       \n",
      "  [0, 1, 5, 10]-3.9390219213221567       3       \n",
      "     [0, 2, 12]-3.925058046435474       3       \n",
      "  [0, 1, 6, 11]-3.9243125645138877       3       \n",
      "  [0, 1, 6, 11]-3.9243125645138877       3       \n",
      "      [0, 2, 8]-3.9186455936185203       3       \n",
      "      [0, 2, 4]-3.9186455936185203       3       \n",
      "      [0, 2, 8]-3.9186455936185203       3       \n",
      "     [0, 3, 11]-3.91678263379077       3       \n",
      "      [0, 2, 9]-3.9044373422571432       3       \n",
      "      [0, 2, 5]-3.896496664496702       3       \n",
      "  [0, 1, 5, 11]-3.8903293158654417       3       \n",
      "     [2, 3, 11]-3.8855924396067327       3       \n",
      "  [0, 1, 6, 12]-3.8604067993977385       3       \n",
      "     [0, 7, 11]-3.854675150538888       3       \n",
      "     [0, 3, 12]-3.8410425491479923       3       \n",
      "   [0, 1, 6, 9]-3.8397860952194067       3       \n",
      "     [0, 8, 11]-3.831006511485633       3       \n",
      "     [0, 4, 11]-3.831006511485633       3       \n",
      "     [2, 7, 11]-3.823484956354851       3       \n",
      "     [2, 3, 12]-3.8216866744905813       3       \n",
      "      [0, 3, 9]-3.8204218449696605       3       \n",
      "  [0, 1, 5, 12]-3.8145892312226652       3       \n",
      "     [2, 8, 11]-3.811650636828223       3       \n",
      "     [2, 4, 11]-3.811650636828223       3       \n",
      "      [2, 3, 9]-3.8010659703122496       3       \n",
      "   [0, 1, 5, 9]-3.7939685270443344       3       \n",
      "  [0, 1, 3, 11]-3.78642004776577       3       \n",
      "     [0, 7, 12]-3.77893506589611       3       \n",
      "     [2, 7, 12]-3.759579191238699       3       \n",
      "      [0, 7, 9]-3.7583143617177783       3       \n",
      "     [0, 4, 12]-3.743432107316228       3       \n",
      "     [0, 8, 12]-3.743432107316228       3       \n",
      "      [2, 7, 9]-3.7389584870603674       3       \n",
      "     [2, 8, 12]-3.735910552185444       3       \n",
      "     [2, 4, 12]-3.735910552185444       3       \n",
      "     [2, 4, 12]-3.735910552185444       3       \n",
      "      [0, 8, 9]-3.722811403137897       3       \n",
      "      [0, 8, 9]-3.722811403137897       3       \n",
      "      [0, 4, 9]-3.722811403137897       3       \n",
      "  [0, 1, 3, 12]-3.72251428264962       3       \n",
      "      [2, 4, 9]-3.7152898480071133       3       \n",
      "      [2, 8, 9]-3.7152898480071133       3       \n",
      "  [0, 1, 4, 11]-3.7124782449872606       3       \n",
      "   [0, 1, 3, 9]-3.701893578471288       3       \n",
      "     [0, 3, 10]-3.6654752392474848       3       \n",
      "     [0, 1, 10]-3.664049755607442       3       \n",
      "      [0, 2, 6]-3.642314232671774       3       \n",
      "  [0, 1, 4, 12]-3.6367381603444833       3       \n",
      "  [0, 1, 4, 12]-3.6367381603444833       3       \n",
      "     [2, 3, 10]-3.6342850450634465       3       \n",
      "   [0, 1, 4, 9]-3.6161174561661515       3       \n",
      "     [0, 1, 11]-3.6153571501507273       3       \n",
      "     [0, 7, 10]-3.6033677559956026       3       \n",
      "     [0, 6, 10]-3.6033677559956026       3       \n",
      "     [0, 8, 10]-3.579699116942348       3       \n",
      "     [0, 4, 10]-3.579699116942348       3       \n",
      "     [2, 7, 10]-3.5721775618115643       3       \n",
      "     [2, 8, 10]-3.5603432422849366       3       \n",
      "     [2, 4, 10]-3.5603432422849366       3       \n",
      "     [0, 5, 10]-3.557550187820529       3       \n",
      "     [0, 6, 11]-3.5546751505388876       3       \n",
      "     [2, 5, 10]-3.538194313163119       3       \n",
      "  [0, 1, 3, 10]-3.535112653222485       3       \n",
      "     [0, 1, 12]-3.5277827459813222       3       \n",
      "     [0, 5, 11]-3.508857582363815       3       \n",
      "      [0, 1, 9]-3.507162041802991       3       \n",
      "     [2, 5, 11]-3.4895017077064048       3       \n",
      "     [0, 6, 12]-3.4789350658961102       3       \n",
      "  [0, 1, 4, 10]-3.4611708504439758       3       \n",
      "      [0, 6, 9]-3.4583143617177785       3       \n",
      "     [1, 7, 11]-3.4498782949539524       3       \n",
      "     [1, 7, 11]-3.4498782949539524       3       \n",
      "     [1, 8, 11]-3.426209655900698       3       \n",
      "     [1, 8, 11]-3.426209655900698       3       \n",
      "     [0, 5, 12]-3.4212831781944097       3       \n",
      "     [2, 5, 12]-3.413761623063626       3       \n",
      "      [0, 5, 9]-3.4006624740160785       3       \n",
      "      [2, 5, 9]-3.393140918885295       3       \n",
      "     [1, 7, 12]-3.374138210311174       3       \n",
      "      [1, 7, 9]-3.353517506132843       3       \n",
      "     [1, 8, 12]-3.3386352517312927       3       \n",
      "      [1, 8, 9]-3.3180145475529614       3       \n",
      "     [2, 6, 10]-3.2721775618115645       3       \n",
      "      [0, 1, 7]-3.25687325174425       3       \n",
      "      [0, 1, 6]-3.25687325174425       3       \n",
      "     [2, 6, 11]-3.22348495635485       3       \n",
      "      [0, 1, 8]-3.2213702931643686       3       \n",
      "      [0, 1, 5]-3.19922136404255       3       \n",
      "      [0, 1, 5]-3.19922136404255       3       \n",
      "     [1, 6, 10]-3.1985709004106666       3       \n",
      "     [1, 7, 10]-3.1985709004106666       3       \n",
      "     [1, 8, 10]-3.1749022613574125       3       \n",
      "     [2, 6, 12]-3.159579191238699       3       \n",
      "     [1, 5, 10]-3.152753332235594       3       \n",
      "     [1, 6, 11]-3.149878294953952       3       \n",
      "      [2, 6, 9]-3.1389584870603677       3       \n",
      "     [1, 5, 11]-3.1040607267788793       3       \n",
      "     [1, 6, 12]-3.0741382103111743       3       \n",
      "      [1, 6, 9]-3.053517506132843       3       \n",
      "     [1, 5, 12]-3.0164863226094742       3       \n",
      "     [1, 5, 12]-3.0164863226094742       3       \n",
      "     [1, 3, 11]-3.0119857782058346       3       \n",
      "      [1, 5, 9]-2.995865618431143       2       \n",
      "      [1, 5, 9]-2.995865618431143       2       \n",
      "     [1, 3, 12]-2.9362456935630563       2       \n",
      "     [1, 4, 11]-2.926209655900698       2       \n",
      "      [1, 3, 9]-2.915624989384725       2       \n",
      "         [0, 2]-2.88469017925536       2       \n",
      "        [0, 10]-2.8457437025791874       2       \n",
      "     [1, 4, 12]-2.8386352517312927       2       \n",
      "        [2, 10]-2.838222147448404       2       \n",
      "      [0, 1, 3]-2.818980734996132       2       \n",
      "      [1, 4, 9]-2.8180145475529614       2       \n",
      "         [0, 3]-2.8006746819678776       2       \n",
      "        [0, 11]-2.797051097122473       2       \n",
      "         [2, 3]-2.7931531268370944       2       \n",
      "        [2, 11]-2.7895295419916897       2       \n",
      "     [1, 3, 10]-2.760678383662549       2       \n",
      "        [1, 10]-2.7409468469942517       2       \n",
      "         [0, 7]-2.7385671987159954       2       \n",
      "         [0, 6]-2.7385671987159954       2       \n",
      "         [2, 7]-2.731045643585212       2       \n",
      "      [0, 1, 4]-2.7213702931643686       2       \n",
      "      [0, 1, 4]-2.7213702931643686       2       \n",
      "        [3, 11]-2.7055140447042074       2       \n",
      "        [2, 12]-2.701955137822284       2       \n",
      "        [0, 12]-2.6976423734264405       2       \n",
      "         [2, 4]-2.6955426850053303       2       \n",
      "         [2, 8]-2.6955426850053303       2       \n",
      "        [1, 11]-2.6922542415375372       2       \n",
      "         [0, 8]-2.6912299206094867       2       \n",
      "         [0, 4]-2.6912299206094867       2       \n",
      "         [2, 9]-2.681334433643953       2       \n",
      "         [0, 9]-2.6770216692481092       2       \n",
      "     [1, 4, 10]-2.6749022613574125       2       \n",
      "         [2, 5]-2.6733937558835117       2       \n",
      "         [0, 5]-2.669080991487668       2       \n",
      "        [7, 11]-2.643406561452325       2       \n",
      "        [3, 12]-2.617939640534802       2       \n",
      "        [4, 11]-2.607903602872443       2       \n",
      "        [8, 11]-2.607903602872443       2       \n",
      "         [3, 9]-2.5973189363564706       2       \n",
      "         [3, 9]-2.5973189363564706       2       \n",
      "        [1, 12]-2.592845517841505       2       \n",
      "         [1, 9]-2.5722248136631736       2       \n",
      "        [7, 12]-2.5558321572829197       2       \n",
      "         [7, 9]-2.5352114531045884       2       \n",
      "         [7, 9]-2.5352114531045884       2       \n",
      "        [4, 12]-2.508494879176411       2       \n",
      "        [8, 12]-2.508494879176411       2       \n",
      "         [8, 9]-2.4878741749980793       2       \n",
      "         [4, 9]-2.4878741749980793       2       \n",
      "         [0, 1]-2.4755805592745808       2       \n",
      "        [3, 10]-2.4542066501609217       2       \n",
      "         [2, 6]-2.431045643585212       2       \n",
      "        [7, 10]-2.3920991669090395       2       \n",
      "        [6, 10]-2.3920991669090395       2       \n",
      "        [4, 10]-2.356596208329158       2       \n",
      "        [8, 10]-2.356596208329158       2       \n",
      "        [6, 11]-2.343406561452325       2       \n",
      "        [5, 10]-2.3344472792073394       2       \n",
      "         [1, 6]-2.33377034313106       2       \n",
      "         [1, 6]-2.33377034313106       2       \n",
      "         [1, 7]-2.33377034313106       2       \n",
      "         [1, 8]-2.2864330650245512       2       \n",
      "        [5, 11]-2.285754673750625       2       \n",
      "         [1, 5]-2.2642841359027326       2       \n",
      "        [6, 12]-2.25583215728292       2       \n",
      "         [6, 9]-2.2352114531045886       2       \n",
      "        [5, 12]-2.1863459500545925       2       \n",
      "         [5, 9]-2.1657252458762613       2       \n",
      "         [1, 3]-1.895877826382942       1       \n",
      "         [1, 4]-1.7864330650245512       1       \n",
      "            [2]-1.5247529511155427       1       \n",
      "            [0]-1.5086058671930718       1       \n",
      "           [10]-1.4858064744393702       1       \n",
      "            [3]-1.4407374538280604       1       \n",
      "           [11]-1.4371138689826557       1       \n",
      "            [1]-1.403809011608136       1       \n",
      "            [6]-1.3786299705761782       1       \n",
      "            [7]-1.3786299705761782       1       \n",
      "           [12]-1.325870825759996       1       \n",
      "            [8]-1.319458372943042       1       \n",
      "            [4]-1.319458372943042       1       \n",
      "            [9]-1.3052501215816648       1       \n",
      "            [5]-1.2973094438212236       1       \n",
      "             []      0.0             0       \n",
      "[0, 2, 3, 11, 12]4.308777021286354      -4       \n",
      "[0, 2, 3, 4, 11]4.315189474103308      -4       \n",
      "[0, 2, 3, 8, 11]4.315189474103308      -4       \n",
      "[0, 2, 3, 8, 11]4.315189474103308      -4       \n",
      "[0, 2, 3, 9, 11]4.329397725464686      -4       \n",
      "[0, 2, 3, 7, 11]4.338858113156563      -4       \n",
      "[0, 2, 3, 8, 12]4.355426600166204      -4       \n",
      "[0, 2, 3, 4, 12]4.355426600166204      -4       \n",
      "[0, 2, 4, 11, 12]4.359050185011609      -4       \n",
      "[0, 2, 8, 11, 12]4.359050185011609      -4       \n",
      "[0, 2, 4, 8, 11]4.365462637828564      -4       \n",
      "[0, 2, 3, 7, 12]4.367260919692833      -4       \n",
      "[0, 2, 3, 9, 12]4.369634851527583      -4       \n",
      "[0, 2, 7, 11, 12]4.370884504538236      -4       \n",
      "[0, 2, 3, 4, 9]4.376047304344535      -4       \n",
      "[0, 2, 3, 8, 9]4.376047304344535      -4       \n",
      "[0, 2, 3, 4, 9]4.376047304344535      -4       \n",
      "[0, 2, 4, 7, 11]4.37729695735519      -4       \n",
      "[0, 2, 7, 8, 11]4.37729695735519      -4       \n",
      "[0, 2, 8, 9, 11]4.379670889189939      -4       \n",
      "[0, 2, 4, 9, 11]4.379670889189939      -4       \n",
      "[0, 2, 3, 7, 9]4.387881623871164      -4       \n",
      "[0, 2, 7, 9, 11]4.391505208716567      -4       \n",
      "[0, 2, 7, 8, 12]4.417534083418086      -4       \n",
      "[0, 2, 4, 7, 12]4.417534083418086      -4       \n",
      "[0, 2, 4, 8, 12]4.4175340834180865      -4       \n",
      "[0, 2, 8, 9, 12]4.4317423347794636      -4       \n",
      "[0, 2, 7, 9, 12]4.4317423347794636      -4       \n",
      "[0, 2, 4, 9, 12]4.4317423347794636      -4       \n",
      "[0, 2, 7, 8, 9]4.4381547875964165      -4       \n",
      "[0, 2, 4, 7, 9]4.4381547875964165      -4       \n",
      "[0, 2, 4, 8, 9]4.438154787596417      -4       \n",
      "[0, 2, 3, 10, 11]4.531681609293372      -4       \n",
      "[0, 2, 3, 10, 12]4.56008441582964      -4       \n",
      "[0, 2, 8, 10, 11]4.570120453491999      -4       \n",
      "[0, 2, 4, 10, 11]4.570120453491999      -4       \n",
      "[0, 2, 7, 10, 11]4.593789092545254      -4       \n",
      "[0, 2, 8, 10, 12]4.610357579554893      -4       \n",
      "[0, 2, 4, 10, 12]4.610357579554893      -4       \n",
      "[0, 2, 7, 10, 12]4.622191899081522      -4       \n",
      "[0, 2, 4, 9, 10]4.630978283733225      -4       \n",
      "[0, 2, 8, 9, 10]4.630978283733225      -4       \n",
      "[0, 2, 3, 5, 11]4.637338403225127      -4       \n",
      "[0, 2, 7, 9, 10]4.642812603259852      -4       \n",
      "[0, 2, 3, 5, 12]4.677575529288023      -4       \n",
      "[0, 2, 5, 8, 11]4.687611566950382      -4       \n",
      "[0, 2, 4, 5, 11]4.687611566950382      -4       \n",
      "[0, 2, 3, 5, 9]4.698196233466354      -4       \n",
      "[0, 2, 5, 7, 11]4.699445886477009      -4       \n",
      "[0, 2, 5, 8, 12]4.739683012539905      -4       \n",
      "[0, 2, 5, 7, 12]4.739683012539905      -4       \n",
      "[0, 2, 4, 5, 12]4.739683012539905      -4       \n",
      "[0, 2, 4, 5, 9]4.760303716718236      -4       \n",
      "[0, 2, 5, 8, 9]4.760303716718236      -4       \n",
      "[0, 2, 5, 7, 9]4.760303716718236      -4       \n",
      "[0, 2, 3, 4, 10]4.8664968686465935      -4       \n",
      "[0, 2, 3, 8, 10]4.8664968686465935      -4       \n",
      "[0, 1, 2, 8, 11]4.881111999163469      -4       \n",
      "[0, 2, 3, 5, 10]4.888645797768412      -4       \n",
      "[0, 2, 3, 7, 10]4.890165507699849      -4       \n",
      "[0, 2, 5, 10, 11]4.892269382613818      -4       \n",
      "[0, 1, 2, 7, 11]4.892946318690097      -4       \n",
      "[0, 2, 4, 8, 10]4.916770032371849      -4       \n",
      "[0, 2, 7, 8, 10]4.928604351898475      -4       \n",
      "[0, 2, 4, 7, 10]4.928604351898475      -4       \n",
      "[0, 2, 5, 10, 12]4.932506508676712      -4       \n",
      "[0, 1, 2, 8, 12]4.933183444752991      -4       \n",
      "[0, 1, 2, 7, 12]4.933183444752991      -4       \n",
      "[0, 2, 3, 6, 11]4.938858113156564      -4       \n",
      "[0, 2, 5, 8, 10]4.938918961493667      -4       \n",
      "[0, 2, 4, 5, 10]4.938918961493667      -4       \n",
      "[0, 2, 5, 7, 10]4.950753281020294      -4       \n",
      "[0, 2, 5, 9, 10]4.953127212855043      -4       \n",
      "[0, 1, 2, 8, 9]4.953804148931322      -4       \n",
      "[0, 1, 2, 7, 9]4.953804148931323      -4       \n",
      "[0, 2, 3, 6, 12]4.967260919692833      -4       \n",
      "[0, 2, 4, 6, 11]4.97729695735519      -4       \n",
      "[0, 2, 6, 8, 11]4.977296957355191      -4       \n",
      "[0, 2, 5, 11, 12]4.981199114133427      -4       \n",
      "[0, 2, 3, 6, 9]4.987881623871163      -4       \n",
      "[0, 2, 6, 7, 11]5.000965596408447      -5       \n",
      "[0, 2, 5, 9, 11]5.001819818311758      -5       \n",
      " [0, 2, 10, 11]5.006738589748651      -5       \n",
      "[0, 2, 4, 6, 12]5.017534083418085      -5       \n",
      "[0, 2, 6, 8, 12]5.017534083418085      -5       \n",
      "[0, 2, 4, 6, 12]5.017534083418085      -5       \n",
      "[0, 1, 8, 11, 12]5.020822526885877      -5       \n",
      "[0, 1, 7, 11, 12]5.020822526885879      -5       \n",
      "[0, 2, 6, 7, 12]5.029368402944715      -5       \n",
      "[0, 2, 4, 6, 9]5.038154787596416      -5       \n",
      "[0, 2, 6, 8, 9]5.038154787596417      -5       \n",
      "[0, 1, 8, 9, 11]5.041443231064209      -5       \n",
      "[0, 1, 7, 9, 11]5.04144323106421      -5       \n",
      "[0, 2, 6, 7, 9]5.0499891071230465      -5       \n",
      "[0, 2, 5, 9, 12]5.053891263901282      -5       \n",
      " [0, 2, 10, 12]5.058810035338173      -5       \n",
      "  [0, 2, 9, 10]5.079430739516504      -5       \n",
      "[0, 1, 7, 9, 12]5.093514676653734      -5       \n",
      "[0, 1, 8, 9, 12]5.10534899618036      -5       \n",
      " [0, 2, 11, 12]5.107502640794888      -5       \n",
      " [0, 2, 11, 12]5.107502640794888      -5       \n",
      "   [0, 2, 3, 4]5.110291508766437      -5       \n",
      "   [0, 2, 3, 8]5.110291508766437      -5       \n",
      "   [0, 2, 3, 4]5.110291508766437      -5       \n",
      "   [0, 2, 3, 7]5.110291508766438      -5       \n",
      "[0, 1, 2, 8, 10]5.132419393706755      -5       \n",
      "   [0, 2, 3, 5]5.132440437888255      -5       \n",
      "[0, 1, 2, 7, 10]5.144253713233382      -5       \n",
      "[0, 1, 2, 5, 10]5.154568322828572      -5       \n",
      "   [0, 2, 7, 8]5.172398992018318      -5       \n",
      "   [0, 2, 4, 7]5.172398992018318      -5       \n",
      "   [0, 2, 4, 8]5.184233311544947      -5       \n",
      "[0, 2, 3, 6, 10]5.190165507699849      -5       \n",
      " [0, 3, 11, 12]5.191518138082369      -5       \n",
      "  [0, 2, 9, 12]5.19202911008937      -5       \n",
      "[0, 2, 6, 10, 11]5.193789092545255      -5       \n",
      "   [0, 2, 5, 7]5.1945479211401375      -5       \n",
      "  [0, 3, 4, 11]5.1979305908993245      -5       \n",
      "  [0, 3, 7, 11]5.1979305908993245      -5       \n",
      "  [0, 3, 8, 11]5.1979305908993245      -5       \n",
      "[0, 1, 2, 5, 11]5.203260928285287      -5       \n",
      "   [0, 2, 5, 8]5.206382240666765      -5       \n",
      "   [0, 2, 4, 5]5.206382240666765      -5       \n",
      "  [0, 3, 9, 11]5.212138842260701      -5       \n",
      "[0, 1, 8, 10, 11]5.220058475839641      -5       \n",
      "[0, 2, 6, 10, 12]5.222191899081523      -5       \n",
      "[0, 2, 6, 8, 10]5.2286043518984755      -5       \n",
      "[0, 1, 7, 10, 11]5.231892795366269      -5       \n",
      " [2, 3, 11, 12]5.234542651793034      -5       \n",
      "  [2, 3, 8, 11]5.240955104609989      -5       \n",
      "  [2, 3, 4, 11]5.240955104609989      -5       \n",
      "[0, 2, 6, 9, 10]5.242812603259853      -5       \n",
      "  [0, 3, 7, 12]5.250002036488847      -5       \n",
      "[0, 2, 5, 6, 10]5.250753281020295      -5       \n",
      "[0, 2, 6, 7, 10]5.252272990951732      -5       \n",
      "  [2, 3, 7, 11]5.252789424136616      -5       \n",
      " [0, 7, 11, 12]5.253625621334251      -5       \n",
      "  [2, 3, 9, 11]5.255163355971367      -5       \n",
      "  [2, 3, 9, 11]5.255163355971367      -5       \n",
      "  [0, 4, 7, 11]5.260038074151206      -5       \n",
      "  [0, 7, 8, 11]5.260038074151207      -5       \n",
      "  [0, 3, 4, 12]5.261836356015475      -5       \n",
      "  [0, 3, 8, 12]5.261836356015475      -5       \n",
      " [0, 4, 11, 12]5.265459940860879      -5       \n",
      " [0, 8, 11, 12]5.265459940860879      -5       \n",
      "   [0, 3, 7, 9]5.270622740667179      -5       \n",
      "[0, 2, 6, 11, 12]5.270884504538236      -5       \n",
      "  [0, 4, 8, 11]5.271872393677834      -5       \n",
      "[0, 1, 8, 10, 12]5.272129921429163      -5       \n",
      "[0, 1, 7, 10, 12]5.272129921429163      -5       \n",
      "  [0, 7, 9, 11]5.274246325512583      -5       \n",
      "[0, 1, 2, 5, 9]5.275953078053141      -5       \n",
      "  [0, 3, 9, 12]5.2760446073768525      -5       \n",
      "  [0, 1, 2, 10]5.280871849490033      -5       \n",
      "   [0, 3, 4, 9]5.2824570601938055      -5       \n",
      "   [0, 3, 8, 9]5.2824570601938055      -5       \n",
      "  [0, 8, 9, 11]5.28608064503921      -5       \n",
      "[0, 2, 6, 9, 11]5.2915052087165675      -5       \n",
      "[0, 1, 8, 9, 10]5.2927506256074945      -5       \n",
      "[0, 1, 7, 9, 10]5.292750625607495      -5       \n",
      "  [2, 3, 4, 12]5.293026550199511      -5       \n",
      "  [2, 3, 8, 12]5.293026550199511      -5       \n",
      "  [2, 3, 7, 12]5.293026550199513      -5       \n",
      " [2, 7, 11, 12]5.296650135044915      -5       \n",
      " [2, 8, 11, 12]5.296650135044916      -5       \n",
      " [2, 4, 11, 12]5.296650135044916      -5       \n",
      "[0, 2, 5, 6, 11]5.299445886477009      -5       \n",
      "  [2, 7, 8, 11]5.303062587861871      -5       \n",
      "  [2, 4, 7, 11]5.303062587861872      -5       \n",
      "  [2, 4, 8, 11]5.303062587861873      -5       \n",
      "  [2, 3, 9, 12]5.307234801560892      -5       \n",
      "   [2, 3, 8, 9]5.313647254377843      -5       \n",
      "   [2, 3, 4, 9]5.313647254377843      -5       \n",
      "   [2, 3, 7, 9]5.313647254377844      -5       \n",
      "  [2, 7, 9, 11]5.317270839223249      -5       \n",
      "  [2, 8, 9, 11]5.317270839223249      -5       \n",
      "  [0, 4, 7, 12]5.323943839267355      -5       \n",
      "  [0, 7, 8, 12]5.323943839267357      -5       \n",
      "[0, 1, 7, 8, 11]5.327234979702833      -5       \n",
      "  [0, 1, 2, 11]5.329564454946747      -5       \n",
      "[0, 1, 2, 3, 11]5.330838835438215      -5       \n",
      "[0, 2, 6, 9, 12]5.331742334779465      -5       \n",
      "  [0, 7, 9, 12]5.338152090628735      -5       \n",
      "[0, 2, 5, 6, 12]5.339683012539905      -5       \n",
      "   [0, 4, 7, 9]5.344564543445687      -5       \n",
      "   [0, 7, 8, 9]5.344564543445688      -5       \n",
      "  [0, 4, 8, 12]5.3476124783206105      -5       \n",
      "  [2, 7, 8, 12]5.355134033451393      -5       \n",
      "  [2, 4, 7, 12]5.355134033451395      -5       \n",
      "[0, 2, 5, 6, 9]5.360303716718236      -5       \n",
      "  [0, 8, 9, 12]5.361820729681988      -5       \n",
      "  [0, 4, 9, 12]5.361820729681988      -5       \n",
      "  [2, 4, 8, 12]5.366968352978023      -5       \n",
      "   [0, 4, 8, 9]5.368233182498941      -5       \n",
      " [0, 1, 10, 11]5.368510931622921      -5       \n",
      "  [2, 7, 9, 12]5.369342284812774      -5       \n",
      "[0, 1, 2, 3, 12]5.371075961501109      -5       \n",
      "   [2, 7, 8, 9]5.375754737629725      -5       \n",
      "   [2, 4, 7, 9]5.375754737629726      -5       \n",
      "[0, 1, 7, 8, 12]5.379306425292356      -5       \n",
      "[0, 1, 2, 4, 11]5.381111999163469      -5       \n",
      "  [2, 4, 9, 12]5.3811766043394      -5       \n",
      "  [2, 8, 9, 12]5.3811766043394      -5       \n",
      "   [2, 4, 8, 9]5.387589057156354      -5       \n",
      " [0, 3, 10, 11]5.390754087036132      -5       \n",
      "[0, 1, 2, 3, 9]5.391696665679441      -5       \n",
      "  [0, 1, 2, 12]5.3934702200628974      -5       \n",
      "[0, 1, 7, 8, 9]5.3999271294706865      -5       \n",
      "   [0, 2, 3, 6]5.410291508766438      -5       \n",
      "   [0, 1, 2, 9]5.414090924241228      -5       \n",
      " [0, 1, 10, 12]5.43241669673907      -5       \n",
      "[0, 1, 2, 4, 12]5.433183444752991      -5       \n",
      " [0, 3, 10, 12]5.442825532625655      -5       \n",
      "[0, 1, 2, 6, 10]5.444253713233382      -5       \n",
      " [2, 3, 10, 11]5.445612920273425      -5       \n",
      " [0, 7, 10, 11]5.4528615702880145      -5       \n",
      " [0, 4, 10, 11]5.4528615702880145      -5       \n",
      " [0, 8, 10, 11]5.4528615702880145      -5       \n",
      "[0, 1, 2, 4, 9]5.453804148931322      -5       \n",
      "[0, 1, 3, 11, 12]5.458715043633996      -5       \n",
      "  [0, 3, 9, 10]5.4634462368039864      -5       \n",
      "   [0, 2, 4, 6]5.472398992018318      -5       \n",
      "   [0, 2, 6, 8]5.472398992018319      -5       \n",
      "   [0, 2, 6, 7]5.472398992018321      -5       \n",
      "[0, 1, 3, 9, 11]5.479335747812328      -5       \n",
      " [0, 1, 11, 12]5.481109302195784      -5       \n",
      " [2, 3, 10, 12]5.485850046336321      -5       \n",
      "[0, 1, 2, 6, 11]5.492946318690096      -5       \n",
      "   [0, 2, 5, 6]5.494547921140137      -5       \n",
      " [2, 4, 10, 11]5.4958860839986805      -5       \n",
      " [2, 8, 10, 11]5.4958860839986805      -5       \n",
      "  [0, 3, 6, 11]5.497930590899324      -5       \n",
      "  [2, 3, 9, 10]5.506470750514652      -5       \n",
      " [2, 7, 10, 11]5.507720403525307      -5       \n",
      " [0, 8, 10, 12]5.516767335404163      -5       \n",
      " [0, 4, 10, 12]5.516767335404163      -5       \n",
      "  [1, 2, 7, 11]5.518711949196778      -5       \n",
      "  [1, 2, 8, 11]5.518711949196778      -5       \n",
      "  [0, 3, 5, 11]5.520079520021142      -5       \n",
      "  [0, 3, 5, 11]5.520079520021142      -5       \n",
      "[0, 1, 4, 11, 12]5.520822526885877      -5       \n",
      "  [0, 7, 9, 10]5.525553720055869      -5       \n",
      "[0, 1, 3, 9, 12]5.531407193401852      -5       \n",
      "[0, 1, 6, 10, 11]5.531892795366269      -5       \n",
      "[0, 1, 2, 6, 12]5.533183444752992      -5       \n",
      "  [0, 8, 9, 10]5.5373880395824955      -5       \n",
      "  [0, 4, 9, 10]5.5373880395824955      -5       \n",
      "[0, 1, 4, 9, 11]5.54144323106421      -5       \n",
      "[0, 1, 5, 10, 11]5.54220740496146      -5       \n",
      " [2, 4, 10, 12]5.547957529588203      -5       \n",
      " [2, 8, 10, 12]5.547957529588203      -5       \n",
      " [2, 7, 10, 12]5.547957529588203      -5       \n",
      "  [0, 3, 6, 12]5.550002036488847      -5       \n",
      "[0, 1, 2, 6, 9]5.553804148931323      -5       \n",
      "  [0, 4, 6, 11]5.560038074151206      -5       \n",
      "  [0, 6, 7, 11]5.5600380741512065      -5       \n",
      "  [0, 6, 8, 11]5.5600380741512065      -5       \n",
      "  [2, 3, 5, 11]5.563104033731808      -5       \n",
      "  [2, 7, 9, 10]5.568578233766535      -5       \n",
      "   [0, 3, 6, 9]5.570622740667178      -5       \n",
      "  [1, 2, 7, 12]5.570783394786301      -5       \n",
      "[0, 1, 6, 10, 12]5.572129921429163      -5       \n",
      "  [0, 1, 9, 12]5.577470091016894      -5       \n",
      "  [0, 5, 7, 11]5.582187003273025      -5       \n",
      "  [1, 2, 8, 12]5.582617714312927      -5       \n",
      "  [0, 3, 5, 12]5.583985285137293      -5       \n",
      "   [1, 2, 7, 9]5.591404098964632      -5       \n",
      "[0, 1, 6, 9, 10]5.592750625607494      -5       \n",
      "[0, 1, 5, 10, 12]5.594278850550983      -5       \n",
      "   [1, 2, 8, 9]5.603238418491259      -5       \n",
      "   [0, 3, 5, 9]5.6046059893156235      -5       \n",
      "  [0, 6, 7, 12]5.612109519740729      -5       \n",
      "[0, 1, 5, 9, 10]5.614899554729313      -5       \n",
      "  [2, 3, 5, 12]5.615175479321331      -5       \n",
      "[0, 1, 6, 11, 12]5.620822526885878      -5       \n",
      "  [0, 4, 6, 12]5.623943839267355      -5       \n",
      "  [0, 6, 8, 12]5.623943839267357      -5       \n",
      "  [2, 5, 7, 11]5.625211516983689      -5       \n",
      "  [2, 5, 8, 11]5.625211516983691      -5       \n",
      "  [2, 4, 5, 11]5.625211516983691      -5       \n",
      "[0, 1, 6, 8, 11]5.627234979702833      -5       \n",
      "[0, 1, 2, 4, 10]5.632419393706755      -5       \n",
      "   [0, 6, 7, 9]5.632730223919061      -5       \n",
      "   [2, 3, 5, 9]5.635796183499663      -5       \n",
      "[0, 1, 6, 7, 11]5.639069299229461      -5       \n",
      "[0, 1, 6, 9, 11]5.641443231064209      -5       \n",
      "[0, 1, 5, 11, 12]5.642971456007698      -5       \n",
      "   [0, 4, 6, 9]5.644564543445687      -5       \n",
      "   [0, 6, 8, 9]5.6445645434456875      -5       \n",
      "  [0, 5, 7, 12]5.646092768389175      -5       \n",
      "[0, 1, 5, 8, 11]5.649383908824651      -5       \n",
      "[0, 1, 5, 7, 11]5.649383908824651      -5       \n",
      " [1, 7, 11, 12]5.658422476919187      -5       \n",
      "[0, 1, 5, 9, 11]5.6635921601860275      -5       \n",
      "   [0, 5, 7, 9]5.666713472567507      -5       \n",
      "  [0, 5, 8, 12]5.66976140744243      -5       \n",
      "  [0, 4, 5, 12]5.66976140744243      -5       \n",
      "[0, 1, 3, 10, 11]5.669785312114387      -5       \n",
      " [1, 8, 11, 12]5.6702567964458135      -5       \n",
      "  [2, 5, 7, 12]5.677282962573213      -5       \n",
      "  [1, 7, 9, 11]5.679043181097518      -5       \n",
      "[0, 1, 6, 8, 12]5.6793064252923555      -5       \n",
      "[0, 1, 6, 7, 12]5.6793064252923555      -5       \n",
      "   [0, 1, 2, 7]5.688048353353225      -5       \n",
      "  [2, 5, 8, 12]5.689117282099841      -5       \n",
      "  [2, 4, 5, 12]5.689117282099841      -5       \n",
      "   [0, 4, 5, 9]5.690382111620761      -5       \n",
      "   [0, 5, 8, 9]5.690382111620761      -5       \n",
      "  [1, 8, 9, 11]5.690877500624145      -5       \n",
      "[0, 1, 6, 9, 12]5.693514676653733      -5       \n",
      "   [2, 5, 7, 9]5.697903666751544      -5       \n",
      "   [0, 1, 2, 8]5.699882672879852      -5       \n",
      "[0, 1, 6, 8, 9]5.699927129470686      -5       \n",
      "[0, 1, 6, 7, 9]5.699927129470687      -5       \n",
      "[0, 1, 5, 7, 12]5.701455354414174      -5       \n",
      "   [2, 5, 8, 9]5.7097379862781725      -5       \n",
      "   [2, 4, 5, 9]5.7097379862781725      -5       \n",
      "[0, 1, 3, 10, 12]5.710022438177281      -5       \n",
      "[0, 1, 5, 8, 12]5.7132896739408014      -5       \n",
      "[0, 1, 5, 9, 12]5.7274979253021785      -5       \n",
      "[0, 1, 3, 9, 10]5.730643142355613      -5       \n",
      "[0, 1, 5, 8, 9]5.733910378119132      -5       \n",
      "  [1, 7, 9, 12]5.74294894621367      -5       \n",
      "  [0, 3, 6, 10]5.749237985442609      -5       \n",
      "  [0, 3, 7, 10]5.749237985442609      -5       \n",
      "  [0, 3, 4, 10]5.74923798544261      -5       \n",
      "  [0, 3, 8, 10]5.74923798544261      -5       \n",
      " [0, 6, 10, 11]5.752861570288014      -5       \n",
      "[0, 1, 3, 8, 11]5.765127496450951      -5       \n",
      "  [1, 8, 9, 12]5.766617585266924      -5       \n",
      "  [1, 2, 8, 10]5.770019343740063      -5       \n",
      "  [1, 2, 7, 10]5.7700193437400635      -5       \n",
      "  [0, 3, 5, 10]5.771386914564427      -5       \n",
      "[0, 1, 4, 10, 12]5.772129921429163      -5       \n",
      " [0, 5, 10, 11]5.7750104994098335      -5       \n",
      "[0, 1, 3, 7, 11]5.776961815977579      -5       \n",
      "  [1, 2, 5, 10]5.792168272861882      -5       \n",
      "  [2, 3, 4, 10]5.792262499153273      -5       \n",
      "  [2, 3, 8, 10]5.792262499153273      -5       \n",
      "[0, 1, 4, 9, 10]5.792750625607495      -5       \n",
      "  [2, 3, 7, 10]5.804096818679902      -5       \n",
      " [0, 6, 10, 12]5.804933015877537      -5       \n",
      "  [0, 4, 6, 10]5.8113454686944905      -5       \n",
      "  [0, 4, 7, 10]5.8113454686944905      -5       \n",
      "  [0, 6, 7, 10]5.811345468694491      -5       \n",
      "  [0, 6, 8, 10]5.811345468694492      -5       \n",
      "  [0, 7, 8, 10]5.811345468694492      -5       \n",
      "  [2, 3, 5, 10]5.8144114282750925      -5       \n",
      "[0, 1, 3, 8, 12]5.8171989420404735      -5       \n",
      "[0, 1, 3, 7, 12]5.8171989420404735      -5       \n",
      " [2, 5, 10, 11]5.8180350131204985      -5       \n",
      "  [0, 4, 8, 10]5.823179788221119      -5       \n",
      "  [0, 6, 9, 10]5.8255537200558685      -5       \n",
      "[0, 1, 4, 7, 11]5.827234979702832      -5       \n",
      "[0, 1, 4, 8, 11]5.827234979702834      -5       \n",
      "  [0, 5, 6, 10]5.83349439781631      -5       \n",
      "  [0, 5, 7, 10]5.83349439781631      -5       \n",
      "[0, 1, 3, 8, 9]5.837819646218804      -5       \n",
      "[0, 1, 3, 7, 9]5.837819646218805      -5       \n",
      " [0, 5, 10, 12]5.838916264525983      -5       \n",
      "  [0, 5, 8, 10]5.845328717342938      -5       \n",
      "  [0, 4, 5, 10]5.845328717342938      -5       \n",
      "  [2, 3, 6, 11]5.852789424136617      -5       \n",
      " [0, 6, 11, 12]5.853625621334252      -5       \n",
      "  [2, 7, 8, 10]5.854369982405156      -5       \n",
      "  [2, 4, 7, 10]5.854369982405157      -5       \n",
      "  [2, 4, 7, 10]5.854369982405157      -5       \n",
      "  [2, 4, 8, 10]5.854369982405158      -5       \n",
      " [1, 8, 10, 11]5.85765842587295      -5       \n",
      " [1, 7, 10, 11]5.857658425872951      -5       \n",
      "  [0, 5, 9, 10]5.859536968704314      -5       \n",
      " [2, 5, 10, 12]5.870106458710021      -5       \n",
      "  [2, 5, 7, 10]5.876518911526975      -5       \n",
      "  [2, 5, 8, 10]5.876518911526976      -5       \n",
      "  [2, 4, 5, 10]5.876518911526976      -5       \n",
      "  [2, 4, 5, 10]5.876518911526976      -5       \n",
      "[0, 1, 7, 8, 10]5.878542374246119      -5       \n",
      "[0, 1, 6, 8, 10]5.878542374246119      -5       \n",
      "[0, 1, 4, 7, 12]5.879306425292354      -5       \n",
      "  [0, 5, 6, 11]5.882187003273025      -5       \n",
      " [0, 5, 11, 12]5.887608869982698      -5       \n",
      "[0, 1, 6, 7, 10]5.890376693772746      -5       \n",
      "  [2, 5, 9, 10]5.890727162888352      -5       \n",
      "[0, 1, 4, 8, 12]5.891140744818983      -5       \n",
      "  [2, 3, 6, 12]5.893026550199513      -5       \n",
      "[0, 1, 4, 7, 9]5.899927129470686      -5       \n",
      "[0, 1, 5, 6, 10]5.900691303367936      -5       \n",
      "[0, 1, 5, 7, 10]5.900691303367936      -5       \n",
      "[0, 1, 5, 8, 10]5.900691303367937      -5       \n",
      "  [2, 6, 8, 11]5.903062587861871      -5       \n",
      "  [2, 4, 6, 11]5.903062587861871      -5       \n",
      "  [1, 2, 5, 12]5.904766643434747      -5       \n",
      "  [0, 5, 9, 11]5.9082295741610285      -5       \n",
      " [1, 7, 10, 12]5.909729871462472      -5       \n",
      "[0, 1, 4, 8, 9]5.911761448997314      -5       \n",
      "   [2, 3, 6, 9]5.913647254377844      -5       \n",
      "  [2, 6, 7, 11]5.914896907388499      -5       \n",
      " [2, 5, 11, 12]5.918799064166735      -5       \n",
      " [1, 8, 10, 12]5.921564190989098      -5       \n",
      "   [1, 2, 5, 9]5.925387347613078      -5       \n",
      "  [1, 7, 9, 10]5.930350575640804      -5       \n",
      "  [0, 6, 9, 12]5.938152090628734      -5       \n",
      "  [2, 5, 9, 11]5.939419768345067      -5       \n",
      "  [0, 5, 6, 12]5.946092768389175      -5       \n",
      "[0, 1, 5, 6, 11]5.949383908824651      -5       \n",
      "  [2, 4, 6, 12]5.955134033451394      -5       \n",
      "  [2, 6, 8, 12]5.955134033451394      -5       \n",
      "  [2, 6, 7, 12]5.955134033451396      -5       \n",
      "  [1, 2, 3, 11]5.956604465944896      -5       \n",
      "  [1, 7, 8, 11]5.964834929736141      -5       \n",
      "   [0, 5, 6, 9]5.966713472567506      -5       \n",
      "   [2, 4, 6, 9]5.9757547376297255      -5       \n",
      "   [2, 6, 8, 9]5.9757547376297255      -5       \n",
      "   [2, 6, 7, 9]5.975754737629726      -5       \n",
      "  [0, 5, 9, 12]5.983969658803808      -5       \n",
      "   [0, 1, 2, 6]5.988048353353225      -5       \n",
      "[0, 1, 5, 6, 12]6.0014553544141735      -6       \n",
      "  [2, 5, 9, 12]6.0033255334612186      -6       \n",
      "  [1, 2, 3, 12]6.008675911534419      -6       \n",
      "  [1, 2, 4, 11]6.018711949196778      -6       \n",
      "[0, 1, 5, 6, 9]6.022076058592505      -6       \n",
      "  [1, 7, 8, 12]6.028740694852291      -6       \n",
      "   [1, 2, 3, 9]6.02929661571275      -6       \n",
      "    [0, 10, 11]6.038148345597921      -6       \n",
      "   [1, 7, 8, 9]6.049361399030622      -6       \n",
      "     [1, 2, 10]6.055306119049969      -6       \n",
      "    [2, 10, 11]6.069338539781958      -6       \n",
      "  [1, 2, 6, 10]6.0700193437400625      -6       \n",
      "[0, 1, 3, 6, 11]6.076961815977579      -6       \n",
      "  [1, 2, 4, 12]6.082617714312927      -6       \n",
      "[0, 1, 3, 5, 11]6.087276425572769      -6       \n",
      " [1, 3, 11, 12]6.0963149936673044      -6       \n",
      "   [1, 2, 4, 9]6.103238418491259      -6       \n",
      "     [1, 2, 11]6.103998724506683      -6       \n",
      "  [2, 3, 6, 10]6.104096818679903      -6       \n",
      " [2, 6, 10, 11]6.107720403525307      -6       \n",
      "    [0, 10, 12]6.113888430240697      -6       \n",
      "  [1, 3, 9, 11]6.116935697845636      -6       \n",
      "[0, 1, 3, 6, 12]6.117198942040473      -6       \n",
      "  [1, 2, 6, 11]6.118711949196777      -6       \n",
      "   [0, 1, 2, 3]6.125940870101343      -6       \n",
      "[0, 1, 4, 6, 11]6.127234979702832      -6       \n",
      "    [2, 10, 12]6.133244304898108      -6       \n",
      "   [0, 1, 6, 7]6.134171333892589      -6       \n",
      "   [0, 1, 6, 7]6.134171333892589      -6       \n",
      "     [0, 9, 10]6.134509134419029      -6       \n",
      "[0, 1, 3, 6, 9]6.137819646218805      -6       \n",
      "[0, 1, 3, 5, 12]6.1393478711622915      -6       \n",
      "      [0, 3, 7]6.141701264615707      -6       \n",
      "      [0, 3, 6]6.141701264615707      -6       \n",
      "    [1, 10, 11]6.142945201182856      -6       \n",
      "   [0, 1, 7, 8]6.146005653419216      -6       \n",
      "   [0, 1, 7, 8]6.146005653419216      -6       \n",
      "   [0, 1, 6, 8]6.146005653419216      -6       \n",
      " [2, 6, 10, 12]6.147957529588202      -6       \n",
      "[0, 1, 4, 5, 11]6.149383908824652      -6       \n",
      "     [2, 9, 10]6.153865009076439      -6       \n",
      "  [2, 4, 6, 10]6.154369982405156      -6       \n",
      "  [2, 6, 8, 10]6.154369982405156      -6       \n",
      " [1, 6, 10, 11]6.157658425872951      -6       \n",
      "[0, 1, 3, 5, 9]6.159968575340623      -6       \n",
      "    [0, 11, 12]6.1625810356974124      -6       \n",
      "      [0, 3, 8]6.165369903668962      -6       \n",
      "      [0, 3, 4]6.165369903668962      -6       \n",
      "  [2, 6, 7, 10]6.166204301931785      -6       \n",
      "   [0, 1, 5, 7]6.168154582541034      -6       \n",
      "   [0, 1, 5, 6]6.168154582541034      -6       \n",
      "  [2, 6, 9, 10]6.168578233766534      -6       \n",
      " [1, 4, 11, 12]6.170256796445814      -6       \n",
      "  [1, 2, 6, 12]6.1707833947863      -6       \n",
      "      [2, 3, 7]6.172891458799745      -6       \n",
      "  [2, 5, 6, 10]6.176518911526975      -6       \n",
      "[0, 1, 4, 6, 12]6.179306425292354      -6       \n",
      "     [1, 2, 12]6.179738809149461      -6       \n",
      " [1, 5, 10, 11]6.179807354994769      -6       \n",
      "  [1, 3, 9, 12]6.180841462961788      -6       \n",
      "    [2, 11, 12]6.181936910354822      -6       \n",
      "     [0, 9, 11]6.183201739875743      -6       \n",
      "      [2, 3, 8]6.184725778326372      -6       \n",
      "      [2, 3, 4]6.184725778326372      -6       \n",
      "      [0, 3, 5]6.187518832790779      -6       \n",
      "  [1, 4, 9, 11]6.190877500624145      -6       \n",
      "   [1, 2, 6, 9]6.1914040989646315      -6       \n",
      "   [0, 1, 5, 8]6.191823221594289      -6       \n",
      " [2, 6, 11, 12]6.196650135044917      -6       \n",
      "[0, 1, 4, 6, 9]6.1999271294706855      -6       \n",
      "      [1, 2, 9]6.200359513327792      -6       \n",
      "     [2, 9, 11]6.202557614533154      -6       \n",
      "      [0, 6, 7]6.20380874786759      -6       \n",
      "      [2, 3, 5]6.206874707448191      -6       \n",
      "  [1, 2, 3, 10]6.207911860488181      -6       \n",
      " [1, 6, 10, 12]6.209729871462472      -6       \n",
      " [1, 6, 10, 12]6.209729871462472      -6       \n",
      "[0, 1, 4, 5, 12]6.2132896739408014      -6       \n",
      "  [2, 6, 9, 11]6.217270839223248      -6       \n",
      "    [1, 10, 12]6.218685285825634      -6       \n",
      "  [2, 5, 6, 11]6.2252115169836895      -6       \n",
      "      [0, 4, 6]6.227477386920843      -6       \n",
      "      [0, 4, 7]6.227477386920843      -6       \n",
      "      [0, 7, 8]6.227477386920844      -6       \n",
      "      [0, 6, 8]6.227477386920844      -6       \n",
      "  [1, 6, 9, 10]6.230350575640804      -6       \n",
      "[0, 1, 4, 5, 9]6.233910378119133      -6       \n",
      "     [1, 9, 10]6.239305990003964      -6       \n",
      " [1, 5, 10, 12]6.243713120110918      -6       \n",
      "      [2, 7, 8]6.246833261578254      -6       \n",
      "      [2, 4, 7]6.246833261578255      -6       \n",
      "      [0, 5, 6]6.249626316042662      -6       \n",
      "      [0, 5, 7]6.249626316042662      -6       \n",
      " [1, 6, 11, 12]6.258422476919187      -6       \n",
      "     [3, 7, 11]6.260530540932633      -6       \n",
      "      [0, 4, 8]6.262980345500726      -6       \n",
      "  [1, 5, 9, 10]6.26433382428925      -6       \n",
      "  [1, 6, 8, 11]6.264834929736141      -6       \n",
      "  [1, 6, 7, 11]6.264834929736142      -6       \n",
      "    [3, 11, 12]6.265952407642305      -6       \n",
      "  [1, 4, 9, 12]6.266617585266925      -6       \n",
      "    [1, 11, 12]6.267377891282347      -6       \n",
      "      [2, 5, 7]6.268982190700072      -6       \n",
      "  [2, 6, 9, 12]6.269342284812773      -6       \n",
      "  [1, 2, 4, 10]6.270019343740063      -6       \n",
      "      [2, 4, 8]6.27050190063151      -6       \n",
      "     [0, 9, 12]6.270776144045151      -6       \n",
      "     [3, 8, 11]6.272364860459259      -6       \n",
      "     [3, 8, 11]6.272364860459259      -6       \n",
      "     [3, 4, 11]6.272364860459259      -6       \n",
      "  [2, 5, 6, 12]6.277282962573214      -6       \n",
      "     [2, 9, 12]6.278297699175933      -6       \n",
      "  [1, 6, 9, 11]6.279043181097519      -6       \n",
      "      [0, 4, 5]6.285129274622545      -6       \n",
      "      [0, 5, 8]6.285129274622545      -6       \n",
      "     [3, 9, 11]6.286573111820637      -6       \n",
      "  [1, 5, 7, 11]6.28698385885796      -6       \n",
      "     [1, 9, 11]6.287998595460679      -6       \n",
      " [1, 5, 11, 12]6.292405725567633      -6       \n",
      "      [2, 5, 8]6.292650829753328      -6       \n",
      "      [2, 4, 5]6.292650829753328      -6       \n",
      " [1, 3, 10, 11]6.295550942621068      -6       \n",
      "      [0, 1, 2]6.297003767716385      -6       \n",
      "   [2, 5, 6, 9]6.2979036667515444      -6       \n",
      "  [1, 5, 8, 11]6.298818178384589      -6       \n",
      "  [1, 5, 9, 11]6.313026429745964      -6       \n",
      "[0, 1, 3, 8, 10]6.316434890994237      -6       \n",
      "  [1, 6, 7, 12]6.316906375325665      -6       \n",
      "[0, 1, 3, 4, 12]6.3171989420404735      -6       \n",
      "     [3, 7, 12]6.324436306048783      -6       \n",
      "    [7, 11, 12]6.3280598908941865      -6       \n",
      "[0, 1, 3, 6, 10]6.3282692105208636      -6       \n",
      "[0, 1, 3, 7, 10]6.3282692105208636      -6       \n",
      "  [1, 6, 8, 12]6.328740694852291      -6       \n",
      "   [1, 6, 7, 9]6.337527079503996      -6       \n",
      "[0, 1, 3, 4, 9]6.337819646218804      -6       \n",
      "[0, 1, 3, 5, 10]6.338583820116054      -6       \n",
      "  [1, 6, 9, 12]6.34294894621367      -6       \n",
      "      [3, 7, 9]6.345057010227115      -6       \n",
      " [1, 3, 10, 12]6.34762238821059      -6       \n",
      "     [3, 4, 12]6.348104945102037      -6       \n",
      "     [3, 8, 12]6.348104945102037      -6       \n",
      "     [7, 9, 11]6.348680595072518      -6       \n",
      "   [1, 6, 8, 9]6.349361399030622      -6       \n",
      "  [1, 5, 7, 12]6.350889623974111      -6       \n",
      "    [8, 11, 12]6.351728529947442      -6       \n",
      "    [4, 11, 12]6.351728529947442      -6       \n",
      " [1, 4, 10, 11]6.35765842587295      -6       \n",
      "     [4, 8, 11]6.3581409827643975      -6       \n",
      "     [3, 9, 12]6.362313196463416      -6       \n",
      "  [1, 3, 9, 10]6.368243092388922      -6       \n",
      "      [3, 8, 9]6.368725649280368      -6       \n",
      "      [3, 4, 9]6.368725649280368      -6       \n",
      "   [1, 5, 7, 9]6.371510328152442      -6       \n",
      "     [4, 9, 11]6.372349234125773      -6       \n",
      "     [8, 9, 11]6.372349234125773      -6       \n",
      "  [1, 5, 8, 12]6.3745582630273665      -6       \n",
      "     [1, 9, 12]6.375572999630085      -6       \n",
      "[0, 1, 4, 7, 10]6.378542374246117      -6       \n",
      "[0, 1, 4, 6, 10]6.378542374246117      -6       \n",
      "[0, 1, 4, 8, 10]6.37854237424612      -6       \n",
      "  [1, 5, 9, 12]6.3887665143887435      -6       \n",
      "   [1, 5, 8, 9]6.395178967205697      -6       \n",
      "  [1, 3, 8, 11]6.402727446484259      -6       \n",
      "  [1, 3, 7, 11]6.40272744648426      -6       \n",
      "     [4, 7, 12]6.410212428353919      -6       \n",
      "     [7, 8, 12]6.410212428353919      -6       \n",
      " [1, 4, 10, 12]6.421564190989099      -6       \n",
      "     [7, 9, 12]6.424420679715298      -6       \n",
      "      [7, 8, 9]6.43083313253225      -6       \n",
      "  [1, 4, 9, 10]6.442184895167431      -6       \n",
      "     [4, 8, 12]6.445715386933802      -6       \n",
      "    [3, 10, 11]6.45335403706944      -6       \n",
      "  [1, 3, 7, 12]6.454798892073783      -6       \n",
      "     [8, 9, 12]6.45992363829518      -6       \n",
      "     [4, 9, 12]6.45992363829518      -6       \n",
      "      [1, 2, 7]6.462482622913161      -6       \n",
      "  [1, 4, 7, 11]6.464834929736141      -6       \n",
      "      [4, 8, 9]6.466336091112133      -6       \n",
      "  [1, 3, 8, 12]6.466633211600409      -6       \n",
      "      [2, 3, 6]6.4728914587997455      -6       \n",
      "  [1, 4, 8, 11]6.47666924926277      -6       \n",
      "      [1, 2, 8]6.486151261966415      -6       \n",
      "   [1, 3, 8, 9]6.48725391577874      -6       \n",
      "      [1, 2, 5]6.508300191088233      -6       \n",
      "    [7, 10, 11]6.515461520321322      -6       \n",
      "  [1, 7, 8, 10]6.516142324279427      -6       \n",
      "  [1, 6, 8, 10]6.516142324279427      -6       \n",
      "    [3, 10, 12]6.51725980218559      -6       \n",
      "    [4, 10, 11]6.52729583984795      -6       \n",
      "    [8, 10, 11]6.52729583984795      -6       \n",
      "  [1, 4, 7, 12]6.528740694852291      -6       \n",
      "      [2, 6, 7]6.534998942051628      -6       \n",
      "  [1, 5, 6, 10]6.538291253401246      -6       \n",
      "  [1, 5, 7, 10]6.538291253401246      -6       \n",
      "      [2, 6, 8]6.5468332615782545      -6       \n",
      "      [2, 4, 6]6.5468332615782545      -6       \n",
      "   [1, 4, 7, 9]6.549361399030622      -6       \n",
      "  [1, 5, 8, 10]6.5501255729278745      -6       \n",
      "  [1, 4, 8, 12]6.552409333905547      -6       \n",
      "     [3, 6, 11]6.560530540932633      -6       \n",
      "      [2, 5, 6]6.568982190700073      -6       \n",
      "   [0, 1, 3, 7]6.572063850640707      -6       \n",
      "   [0, 1, 3, 6]6.572063850640707      -6       \n",
      "   [1, 4, 8, 9]6.5730300380838775      -6       \n",
      "    [7, 10, 12]6.579367285437472      -6       \n",
      "   [0, 1, 3, 8]6.583898170167334      -6       \n",
      "  [1, 5, 6, 11]6.58698385885796      -6       \n",
      "     [3, 5, 11]6.594513789581078      -6       \n",
      "     [7, 9, 10]6.599987989615804      -6       \n",
      "    [4, 10, 12]6.603035924490727      -6       \n",
      "    [8, 10, 12]6.603035924490727      -6       \n",
      "   [0, 1, 3, 5]6.606047099289152      -6       \n",
      "     [6, 7, 11]6.622638024184515      -6       \n",
      "     [4, 9, 10]6.623656628669059      -6       \n",
      "     [8, 9, 10]6.623656628669059      -6       \n",
      "     [3, 6, 12]6.624436306048783      -6       \n",
      "     [6, 8, 11]6.634472343711141      -6       \n",
      "      [3, 6, 9]6.645057010227115      -6       \n",
      "   [0, 1, 4, 6]6.646005653419215      -6       \n",
      "   [0, 1, 4, 7]6.646005653419215      -6       \n",
      "  [1, 5, 6, 12]6.650889623974111      -6       \n",
      "     [5, 7, 11]6.65662127283296      -6       \n",
      "   [0, 1, 4, 8]6.669674292472472      -6       \n",
      "     [3, 5, 12]6.670253874223857      -6       \n",
      "     [3, 5, 12]6.670253874223857      -6       \n",
      "   [1, 5, 6, 9]6.671510328152442      -6       \n",
      "     [5, 8, 11]6.680289911886216      -6       \n",
      "     [4, 5, 11]6.680289911886216      -6       \n",
      "     [6, 7, 12]6.686543789300665      -6       \n",
      "      [3, 5, 9]6.6908745784021875      -6       \n",
      "      [3, 5, 9]6.6908745784021875      -6       \n",
      "   [0, 1, 4, 5]6.69182322159429      -6       \n",
      "  [1, 3, 6, 11]6.70272744648426      -6       \n",
      "      [6, 7, 9]6.707164493478997      -6       \n",
      "     [4, 6, 12]6.710212428353919      -6       \n",
      "     [6, 8, 12]6.710212428353919      -6       \n",
      "  [1, 3, 5, 11]6.724876375606078      -6       \n",
      "      [4, 6, 9]6.73083313253225      -6       \n",
      "      [6, 8, 9]6.73083313253225      -6       \n",
      "      [5, 7, 9]6.75298206165407      -6       \n",
      "  [1, 3, 6, 12]6.754798892073783      -6       \n",
      "      [1, 2, 6]6.7624826229131605      -6       \n",
      "  [1, 4, 6, 11]6.764834929736141      -6       \n",
      "     [5, 8, 12]6.76786431605562      -6       \n",
      "     [4, 5, 12]6.76786431605562      -6       \n",
      "   [1, 3, 6, 9]6.775419596252114      -6       \n",
      "      [4, 5, 9]6.788485020233952      -6       \n",
      "      [5, 8, 9]6.788485020233952      -6       \n",
      "   [1, 3, 5, 9]6.80940284490056      -6       \n",
      "     [3, 6, 10]6.811837935475918      -6       \n",
      "     [3, 7, 10]6.811837935475918      -6       \n",
      "    [6, 10, 11]6.815461520321323      -6       \n",
      "[0, 1, 3, 4, 10]6.816434890994237      -6       \n",
      "     [3, 4, 10]6.823672255002545      -6       \n",
      "     [3, 8, 10]6.823672255002545      -6       \n",
      "  [1, 4, 6, 12]6.828740694852291      -6       \n",
      "   [1, 4, 6, 9]6.849361399030622      -6       \n",
      "    [5, 10, 11]6.849444768969768      -6       \n",
      "     [6, 7, 10]6.8739454187278      -6       \n",
      "  [1, 4, 5, 12]6.874558263027365      -6       \n",
      "    [6, 10, 12]6.879367285437473      -6       \n",
      "     [4, 7, 10]6.885779738254427      -6       \n",
      "     [7, 8, 10]6.885779738254427      -6       \n",
      "     [6, 8, 10]6.885779738254427      -6       \n",
      "     [4, 6, 10]6.885779738254427      -6       \n",
      "   [1, 4, 5, 9]6.8951789672056965      -6       \n",
      "     [6, 9, 10]6.899987989615804      -6       \n",
      "      [1, 2, 3]6.9003751396612785      -6       \n",
      "  [1, 3, 4, 11]6.902727446484259      -6       \n",
      "     [5, 6, 10]6.907928667376246      -6       \n",
      "     [5, 7, 10]6.907928667376246      -6       \n",
      "      [1, 6, 7]6.908605603452525      -6       \n",
      "     [4, 8, 10]6.909448377307683      -6       \n",
      "    [6, 11, 12]6.928059890894187      -6       \n",
      "     [5, 8, 10]6.9315973064295004      -6       \n",
      "     [4, 5, 10]6.9315973064295004      -6       \n",
      "      [1, 6, 8]6.932274242505779      -6       \n",
      "      [1, 7, 8]6.932274242505779      -6       \n",
      "     [5, 9, 10]6.945805557790877      -6       \n",
      "     [6, 9, 11]6.948680595072519      -6       \n",
      "  [1, 3, 8, 10]6.9540348410275445      -6       \n",
      "  [1, 3, 6, 10]6.954034841027545      -6       \n",
      "  [1, 3, 7, 10]6.954034841027545      -6       \n",
      "      [1, 5, 6]6.954423171627598      -6       \n",
      "      [1, 5, 6]6.954423171627598      -6       \n",
      "     [5, 6, 11]6.95662127283296      -6       \n",
      "  [1, 3, 4, 12]6.966633211600409      -6       \n",
      "  [1, 3, 5, 10]6.976183770149364      -6       \n",
      "      [1, 2, 4]6.986151261966415      -6       \n",
      "   [1, 3, 4, 9]6.98725391577874      -6       \n",
      "      [1, 5, 8]6.989926130207481      -6       \n",
      "     [5, 9, 11]6.9944981632475915      -6       \n",
      "  [1, 4, 6, 10]7.016142324279427      -7       \n",
      "     [6, 9, 12]7.0244206797152975      -7       \n",
      "  [1, 4, 8, 10]7.027976643806055      -7       \n",
      "     [5, 6, 12]7.032361357475739      -7       \n",
      "  [1, 4, 5, 10]7.050125572927873      -7       \n",
      "      [5, 6, 9]7.0529820616540695      -7       \n",
      "   [0, 1, 3, 4]7.083898170167334      -7       \n",
      "         [1, 2]7.220106676329575      -7       \n",
      "       [10, 11]7.249416934684483      -7       \n",
      "       [10, 12]7.336991338853887      -7       \n",
      "      [1, 3, 7]7.346498120200643      -7       \n",
      "      [1, 3, 6]7.346498120200643      -7       \n",
      "         [3, 6]7.3529698537022705      -7       \n",
      "         [3, 7]7.3529698537022705      -7       \n",
      "        [9, 10]7.357612043032219      -7       \n",
      "      [1, 3, 8]7.370166759253896      -7       \n",
      "       [11, 12]7.3856839443106015      -7       \n",
      "         [3, 4]7.388472812282151      -7       \n",
      "         [3, 8]7.388472812282151      -7       \n",
      "      [1, 3, 5]7.3923156883757155      -7       \n",
      "        [9, 11]7.406304648488933      -7       \n",
      "         [3, 5]7.41062174140397      -7       \n",
      "         [6, 7]7.415077336954153      -7       \n",
      "      [1, 4, 6]7.432274242505779      -7       \n",
      "         [7, 8]7.450580295534033      -7       \n",
      "         [4, 6]7.450580295534033      -7       \n",
      "         [6, 8]7.450580295534033      -7       \n",
      "      [1, 4, 8]7.467777201085662      -7       \n",
      "         [5, 6]7.472729224655852      -7       \n",
      "      [1, 4, 5]7.48992613020748      -7       \n",
      "         [4, 8]7.497917573640544      -7       \n",
      "         [4, 5]7.520066502762362      -7       \n",
      "         [5, 8]7.520066502762362      -7       \n",
      "      [1, 3, 4]7.870166759253896      -7       \n",
      "[0, 2, 3, 4, 11, 12]13.708993204556329      -13      \n",
      "[0, 2, 3, 8, 9, 11]13.72961390873466      -13      \n",
      "[0, 2, 4, 8, 9, 11]13.768052752933288      -13      \n",
      "[0, 2, 7, 8, 9, 12]13.820124198522812      -13      \n",
      "[0, 2, 3, 4, 10, 11]14.243732112089972      -14      \n",
      "[0, 2, 3, 4, 10, 12]14.260300599099615      -14      \n",
      "[0, 1, 2, 7, 11, 12]14.286750049143118      -14      \n",
      "[0, 2, 3, 7, 10, 11]14.291069390196483      -14      \n",
      "[0, 2, 4, 7, 10, 12]14.322408082351496      -14      \n",
      "[0, 1, 2, 7, 9, 12]14.335773559857717      -14      \n",
      "[0, 2, 5, 8, 11, 12]14.369580977876776      -14      \n",
      "[0, 2, 5, 8, 9, 12]14.430438808118005      -14      \n",
      "[0, 3, 4, 11, 12]14.44306568229909      -14      \n",
      "[0, 3, 7, 11, 12]14.454900001825719      -14      \n",
      "[0, 3, 4, 9, 11]14.463686386477422      -14      \n",
      "[0, 1, 2, 8, 10, 11]14.485985998096881      -14      \n",
      "[2, 3, 4, 11, 12]14.497924515536383      -14      \n",
      "[2, 3, 4, 9, 11]14.518545219714714      -14      \n",
      "[0, 1, 2, 7, 10, 11]14.521488956676762      -14      \n",
      "[0, 1, 2, 7, 10, 12]14.538057443686402      -14      \n",
      "[0, 1, 2, 7, 9, 10]14.558678147864732      -14      \n",
      "[2, 3, 4, 9, 12]14.55878234577761      -14      \n",
      "[2, 4, 7, 11, 12]14.560031998788265      -14      \n",
      "[2, 4, 8, 9, 11]14.56881838343997      -14      \n",
      "[2, 4, 7, 9, 11]14.580652702966596      -14      \n",
      "[0, 1, 2, 7, 8, 11]14.593162501960068      -14      \n",
      "[0, 2, 4, 5, 10, 12]14.620888372420062      -14      \n",
      "[2, 4, 8, 9, 12]14.620889829029494      -14      \n",
      "[0, 1, 2, 7, 8, 12]14.62156530849634      -14      \n",
      "[0, 1, 2, 9, 12]14.647391696114369      -14      \n",
      "[0, 2, 3, 6, 9, 11]14.665116867314541      -14      \n",
      "[0, 2, 4, 6, 11, 12]14.67110068780821      -14      \n",
      "[0, 1, 2, 3, 11, 12]14.724642565891235      -14      \n",
      "[0, 1, 2, 4, 11, 12]14.763081410089862      -14      \n",
      "[0, 1, 7, 8, 9, 12]14.770062220870454      -14      \n",
      "[0, 1, 2, 5, 11, 12]14.885230339211681      -14      \n",
      "[0, 2, 3, 6, 10, 11]14.891069390196485      -14      \n",
      "[0, 1, 2, 5, 8, 11]14.891642792028632      -14      \n",
      "[0, 2, 3, 6, 9, 10]14.916424261857827      -14      \n",
      "[0, 2, 4, 6, 10, 12]14.922408082351495      -14      \n",
      "[0, 2, 4, 6, 10, 12]14.922408082351495      -14      \n",
      "[0, 1, 2, 5, 8, 12]14.931879918091532      -14      \n",
      "[0, 2, 6, 8, 9, 10]14.943028786529826      -14      \n",
      "[0, 1, 2, 5, 8, 9]14.952500622269863      -14      \n",
      "[0, 3, 8, 10, 11]14.95413595077948      -14      \n",
      "[1, 2, 8, 10, 11]14.974917309076934      -14      \n",
      "[0, 1, 2, 4, 10, 11]14.985985998096881      -14      \n",
      "[0, 3, 8, 10, 12]14.994373076842376      -14      \n",
      "[1, 2, 8, 10, 12]15.015154435139827      -15      \n",
      "[0, 3, 7, 9, 10]15.026828100547334      -15      \n",
      "[1, 2, 7, 9, 10]15.047609458844788      -15      \n",
      "[0, 1, 2, 3, 8, 12]15.059457825244458      -15      \n",
      "[0, 1, 2, 3, 7, 11]15.066557977288069      -15      \n",
      "[2, 3, 7, 10, 12]15.072900549132925      -15      \n",
      "[0, 3, 6, 9, 11]15.075520706004049      -15      \n",
      "[0, 4, 7, 9, 10]15.077101264272589      -15      \n",
      "[0, 1, 2, 3, 8, 9]15.080078529422789      -15      \n",
      "[1, 2, 7, 8, 11]15.082093812940123      -15      \n",
      "[2, 7, 8, 10, 12]15.111339393331548      -15      \n",
      "[2, 4, 7, 10, 12]15.111339393331551      -15      \n",
      " [1, 2, 10, 11]15.111535445333587      -15      \n",
      "[0, 3, 6, 9, 12]15.115757832066945      -15      \n",
      "[0, 6, 7, 11, 12]15.1170074850776      -15      \n",
      "[0, 1, 2, 4, 7, 12]15.12156530849634      -15      \n",
      "[0, 4, 6, 9, 11]15.125793869729304      -15      \n",
      "[2, 7, 8, 9, 10]15.13196009750988      -15      \n",
      "[2, 4, 7, 9, 10]15.131960097509882      -15      \n",
      "[0, 1, 2, 4, 7, 9]15.14218601267467      -15      \n",
      "[0, 1, 3, 7, 11, 12]15.1707655464306      -15      \n",
      "[0, 6, 8, 9, 12]15.177865315318828      -15      \n",
      "[0, 6, 7, 9, 12]15.177865315318828      -15      \n",
      "[2, 3, 5, 9, 12]15.180931274899432      -15      \n",
      "[0, 1, 2, 6, 11, 12]15.186750049143118      -15      \n",
      "[1, 7, 8, 11, 12]15.209970021135906      -15      \n",
      "[1, 2, 3, 11, 12]15.21357387687129      -15      \n",
      "[0, 1, 2, 6, 8, 12]15.221565308496341      -15      \n",
      "[0, 2, 5, 6, 10, 12]15.244557011473315      -15      \n",
      "[0, 1, 7, 8, 10, 12]15.260511785172511      -15      \n",
      "[0, 1, 2, 5, 8]15.261744826691764      -15      \n",
      "[1, 2, 4, 11, 12]15.263847040596545      -15      \n",
      "[0, 1, 2, 6, 7, 9]15.265854651727926      -15      \n",
      "[1, 2, 3, 9, 12]15.274431707112516      -15      \n",
      "[0, 3, 5, 10, 11]15.276284879901299      -15      \n",
      "[0, 2, 5, 6, 11, 12]15.29324961693003      -15      \n",
      "[1, 2, 5, 10, 11]15.297066238198752      -15      \n",
      "[0, 1, 5, 8, 11, 12]15.319519000224417      -15      \n",
      "[0, 5, 8, 10, 11]15.326558043626555      -15      \n",
      "[0, 1, 6, 8, 9, 11]15.329825094807557      -15      \n",
      "[0, 1, 5, 7, 11, 12]15.331353319751045      -15      \n",
      "[1, 2, 4, 9, 12]15.336539190364398      -15      \n",
      "[2, 3, 5, 10, 11]15.342978032665219      -15      \n",
      "[0, 4, 6, 10, 12]15.356480560094257      -15      \n",
      "[0, 6, 8, 10, 12]15.356480560094258      -15      \n",
      "[0, 5, 8, 10, 12]15.378629489216078      -15      \n",
      " [3, 8, 11, 12]15.380665632332398      -15      \n",
      "[0, 1, 2, 3, 5, 12]15.381606754366276      -15      \n",
      "[0, 6, 7, 9, 10]15.388935583799217      -15      \n",
      "[2, 3, 5, 9, 10]15.39200154337982      -15      \n",
      "[0, 1, 5, 8, 9, 12]15.392211149992272      -15      \n",
      "[1, 2, 5, 7, 11]15.404242742061943      -15      \n",
      "[1, 2, 5, 9, 11]15.406616673896693      -15      \n",
      "[2, 5, 8, 10, 12]15.421654002926743      -15      \n",
      "[0, 1, 2, 4, 5, 12]15.431879918091532      -15      \n",
      "[2, 5, 8, 9, 10]15.442274707105074      -15      \n",
      " [4, 7, 11, 12]15.44277311558428      -15      \n",
      "[0, 1, 2, 4, 5, 9]15.452500622269863      -15      \n",
      "  [4, 7, 9, 11]15.463393819762612      -15      \n",
      "[0, 1, 2, 5, 6, 10]15.466618825625172      -15      \n",
      "[2, 4, 6, 9, 11]15.480652702966596      -15      \n",
      "[0, 1, 5, 8, 10, 11]15.530589268704809      -15      \n",
      "[2, 6, 7, 9, 12]15.532724148556122      -15      \n",
      "[0, 1, 2, 6, 8]15.539595897569946      -15      \n",
      "[1, 2, 3, 7, 11]15.5436549687415      -15      \n",
      "  [4, 8, 9, 12]15.550968223932019      -15      \n",
      "[1, 2, 3, 8, 12]15.560223455751139      -15      \n",
      "[0, 1, 6, 8, 10, 12]15.560511785172512      -15      \n",
      "[0, 1, 2, 5, 6, 9]15.564334941796488      -15      \n",
      "[0, 1, 5, 8, 10, 12]15.570826394767703      -15      \n",
      "[0, 1, 2, 3, 4, 9]15.580078529422789      -15      \n",
      "[0, 1, 2, 3, 8, 10]15.582362413251472      -15      \n",
      "[0, 1, 5, 7, 10, 12]15.58266071429433      -15      \n",
      "[0, 1, 2, 3, 5, 10]15.604511342373291      -15      \n",
      "[1, 2, 4, 8, 12]15.622330939003023      -15      \n",
      "[1, 2, 7, 8, 10]15.633401207483411      -15      \n",
      "[1, 2, 4, 8, 9]15.642951643181354      -15      \n",
      "[0, 1, 3, 8, 10, 11]15.670001495384362      -15      \n",
      "[0, 1, 2, 3, 8]15.677488414318063      -15      \n",
      "[1, 3, 7, 9, 11]15.680317561588986      -15      \n",
      "[1, 2, 6, 8, 11]15.682093812940122      -15      \n",
      "[0, 1, 2, 3, 6, 12]15.683126464297713      -15      \n",
      "[0, 1, 2, 3, 7]15.68932273384469      -15      \n",
      "[0, 1, 2, 4, 6, 11]15.693162501960067      -15      \n",
      "[0, 1, 2, 3, 5]15.699637343439882      -15      \n",
      "[0, 1, 2, 3, 6, 9]15.703747168476044      -15      \n",
      "[0, 1, 3, 7, 10, 11]15.705504453964245      -15      \n",
      "[0, 1, 4, 8, 10, 11]15.708440339582992      -15      \n",
      "[1, 4, 7, 11, 12]15.709970021135906      -15      \n",
      "[2, 4, 6, 10, 12]15.71133939333155      -15      \n",
      "[2, 6, 8, 10, 12]15.71133939333155      -15      \n",
      "[1, 3, 8, 9, 12]15.72055468765188      -15      \n",
      "[2, 4, 6, 9, 10]15.73196009750988      -15      \n",
      "[1, 2, 6, 7, 12]15.734165258529648      -15      \n",
      "[1, 2, 6, 9, 12]15.736539190364399      -15      \n",
      "[0, 1, 2, 4, 8]15.739595897569947      -15      \n",
      "[1, 2, 6, 8, 9]15.742951643181353      -15      \n",
      "[0, 1, 2, 4, 5]15.761744826691764      -15      \n",
      "[0, 1, 3, 5, 11, 12]15.769245836499163      -15      \n",
      "[0, 1, 3, 6, 11, 12]15.7707655464306      -15      \n",
      "[0, 1, 3, 5, 9, 11]15.789866540677494      -15      \n",
      "[1, 6, 8, 11, 12]15.809970021135907      -15      \n",
      "[0, 1, 3, 6, 9, 12]15.8197890571452      -15      \n",
      "[0, 1, 3, 5, 9, 12]15.83010366674039      -15      \n",
      "[1, 6, 8, 9, 11]15.830590725314238      -15      \n",
      "[1, 5, 7, 11, 12]15.832118950257726      -15      \n",
      "[1, 5, 7, 9, 11]15.852739654436057      -15      \n",
      "[0, 1, 4, 6, 9, 12]15.870062220870452      -15      \n",
      " [3, 4, 10, 11]15.879901581286163      -15      \n",
      "[0, 1, 5, 6, 10, 12]15.882660714294328      -15      \n",
      "[1, 6, 8, 9, 12]15.882662170903762      -15      \n",
      "[0, 1, 5, 6, 9, 11]15.951974023929376      -15      \n",
      "  [3, 6, 9, 11]16.00128633651073      -16      \n",
      "[0, 1, 3, 6, 10, 11]16.005504453964242      -16      \n",
      "[1, 2, 3, 4, 11]16.01998632968824      -16      \n",
      "[0, 1, 2, 4, 6]16.039595897569946      -16      \n",
      "[1, 6, 8, 10, 12]16.061277415679193      -16      \n",
      "  [6, 8, 9, 11]16.06339381976261      -16      \n",
      "[1, 2, 5, 6, 9]16.065100572303173      -16      \n",
      "[1, 6, 8, 9, 10]16.081898119857524      -16      \n",
      "[1, 5, 8, 10, 12]16.083426344801012      -16      \n",
      "[1, 5, 7, 9, 10]16.104047048979343      -16      \n",
      "[0, 1, 3, 4, 10, 11]16.170001495384362      -16      \n",
      "   [1, 2, 6, 7]16.177195847603254      -16      \n",
      "[1, 2, 3, 6, 9]16.1926784794561      -16      \n",
      " [3, 5, 10, 11]16.20205051040798      -16      \n",
      "[0, 1, 3, 4, 9, 10]16.21902500609896      -16      \n",
      "[1, 3, 4, 9, 12]16.22055468765188      -16      \n",
      "[1, 2, 4, 6, 9]16.242951643181353      -16      \n",
      "[1, 4, 8, 10, 12]16.261277415679192      -16      \n",
      " [4, 6, 10, 12]16.294080510127564      -16      \n",
      " [6, 8, 10, 12]16.294080510127564      -16      \n",
      "  [6, 8, 9, 10]16.314701214305895      -16      \n",
      "   [1, 2, 3, 7]16.315088364351375      -16      \n",
      " [5, 8, 10, 12]16.32806375877601      -16      \n",
      "  [5, 7, 9, 10]16.336850143427718      -16      \n",
      "   [1, 2, 3, 5]16.33723729347319      -16      \n",
      "[1, 5, 6, 10, 11]16.343189218738118      -16      \n",
      "[1, 2, 3, 6, 10]16.394962363284783      -16      \n",
      "[1, 5, 6, 11, 12]16.432118950257724      -16      \n",
      "[1, 2, 4, 6, 10]16.43340120748341      -16      \n",
      "[1, 3, 6, 10, 12]16.51100425195394      -16      \n",
      " [5, 6, 10, 11]16.56415799365986      -16      \n",
      "  [5, 6, 9, 10]16.636850143427715      -16      \n",
      "   [1, 2, 3, 4]16.81508836435137      -16      \n",
      "[0, 2, 3, 5, 8, 9]24.086578097209706      -24      \n",
      "[0, 1, 2, 5, 8, 11, 12]24.710446522481654      -24      \n",
      "[2, 7, 9, 10, 11]24.79714483815666      -24      \n",
      "[2, 7, 9, 10, 12]24.82554764469293      -24      \n",
      "[2, 4, 5, 8, 12]24.92883050678994      -24      \n",
      "[2, 4, 6, 7, 9]25.23913660137308      -25      \n",
      "[0, 1, 6, 7, 8, 12]25.36768828903571      -25      \n",
      "[0, 6, 9, 11, 12]25.41938141691235      -25      \n",
      "[2, 4, 5, 7, 10]25.43990077527032      -25      \n",
      "[2, 3, 6, 8, 10]25.679313001949872      -25      \n",
      "[0, 1, 5, 6, 8]25.70786780723113      -25      \n",
      "  [3, 6, 8, 12]25.739149530738878      -25      \n",
      "[0, 1, 3, 5, 7, 11]25.79932692836937      -25      \n",
      "  [5, 6, 8, 11]26.071334497523058      -26      \n",
      "[1, 2, 3, 6, 10, 11]26.095866245781416      -26      \n",
      "   [4, 5, 6, 9]26.155860966817542      -26      \n",
      "[0, 1, 3, 6, 8, 10]26.32848539379084      -26      \n",
      "   [1, 3, 4, 5]27.295194593539183      -27      \n",
      "[2, 3, 8, 9, 10, 11]34.447087857701376      -34      \n",
      "[1, 2, 5, 7, 8, 9]35.15348243604652      -35      \n",
      "[4, 5, 8, 9, 12]35.400996058217316      -35      \n",
      "[1, 2, 3, 6, 7]36.20213886714798      -36      \n",
      "[1, 3, 5, 8, 10, 12]36.50970072529248      -36      \n"
     ]
    }
   ],
   "source": [
    "print('-' * 60)\n",
    "print('{:>15s}{:>15s}{:^15s}{:^15s}'.format('Set 0','Set 1','Energy','Cut Size'))\n",
    "print('-' * 60)\n",
    "for sample, E in response.data(fields=['sample','energy']):\n",
    "    S0 = [k for k,v in sample.items() if v == 0]\n",
    "    S1 = [k for k,v in sample.items() if v == 1]\n",
    "    print('{:>15s}{:^15s}{:^15s}'.format(str(S1),str(E),str(int(-1*E))))"
   ]
  },
  {
   "cell_type": "markdown",
   "metadata": {},
   "source": [
    "new $\\mathcal{H}_L$\n",
    "\n",
    "[0, 2, 3, 11, 16, 17, 25]-7.537854785825701 <br>\n",
    "[0, 2, 4, 11, 15, 17, 25]-7.527818748163343  <br>\n",
    "\n",
    "[0, 2, 8, 12, 15, 17, 25, 28]-8.02910625876468"
   ]
  },
  {
   "cell_type": "markdown",
   "metadata": {},
   "source": [
    "[0, 2, 3, 11, 15, 17, 25]-6.592669715640199        <br>\n",
    "\n",
    "[0, 2, 3, 11, 15, 17, 25, 28]-7.150419551458638  <br>\n",
    "[0, 2, 3, 11, 15, 17, 24, 28]-7.0986156153496704       <br>\n",
    "[0, 2, 4, 11, 15, 17, 25, 28]-7.085933946922571  <br>\n",
    "[0, 2, 4, 11, 15, 17, 24, 28]-7.034130010813604 "
   ]
  },
  {
   "cell_type": "code",
   "execution_count": 11,
   "metadata": {},
   "outputs": [
    {
     "data": {
      "text/plain": [
       "[['AUG'],\n",
       " ['CAA', 'CAG'],\n",
       " ['AGC', 'AGU', 'UCA', 'UCC', 'UCG', 'UCU'],\n",
       " ['ACA', 'ACC', 'ACG', 'ACU']]"
      ]
     },
     "execution_count": 11,
     "metadata": {},
     "output_type": "execute_result"
    }
   ],
   "source": [
    "H_codon.list_all_possible_codons"
   ]
  },
  {
   "cell_type": "code",
   "execution_count": 12,
   "metadata": {},
   "outputs": [
    {
     "data": {
      "text/plain": [
       "([0, 2, 3, 11], -4.948192389640039)"
      ]
     },
     "execution_count": 12,
     "metadata": {},
     "output_type": "execute_result"
    }
   ],
   "source": [
    "H_codon.run_Dwave()"
   ]
  },
  {
   "cell_type": "code",
   "execution_count": 14,
   "metadata": {},
   "outputs": [
    {
     "data": {
      "text/plain": [
       "['ATG', 'CAG', 'AGC', 'ACG']"
      ]
     },
     "execution_count": 14,
     "metadata": {},
     "output_type": "execute_result"
    }
   ],
   "source": [
    "H_codon.opt_codon_seq(base='DNA')"
   ]
  },
  {
   "cell_type": "markdown",
   "metadata": {},
   "source": [
    "## 2. Exact Diagonalization"
   ]
  },
  {
   "cell_type": "markdown",
   "metadata": {},
   "source": [
    "Constructing Ising model from QUBO & Running "
   ]
  },
  {
   "cell_type": "code",
   "execution_count": 32,
   "metadata": {},
   "outputs": [],
   "source": [
    "J, h, const = H_codon.Q_to_Jh()"
   ]
  },
  {
   "cell_type": "code",
   "execution_count": 33,
   "metadata": {},
   "outputs": [
    {
     "data": {
      "text/plain": [
       "array([[-25.59094802,   0.        ,   0.        , ...,   0.        ,\n",
       "          0.        ,   0.        ],\n",
       "       [  0.        , -27.41729893,   0.        , ...,   0.        ,\n",
       "          0.        ,   0.        ],\n",
       "       [  0.        ,   0.        , -26.22394128, ...,   0.        ,\n",
       "          0.        ,   0.        ],\n",
       "       ...,\n",
       "       [  0.        ,   0.        ,   0.        , ...,  61.22394128,\n",
       "          0.        ,   0.        ],\n",
       "       [  0.        ,   0.        ,   0.        , ...,   0.        ,\n",
       "         62.41729893,   0.        ],\n",
       "       [  0.        ,   0.        ,   0.        , ...,   0.        ,\n",
       "          0.        ,  90.59094802]])"
      ]
     },
     "execution_count": 33,
     "metadata": {},
     "output_type": "execute_result"
    }
   ],
   "source": [
    "tests = Quantum_Ising(J=J, h=h, shift=const)\n",
    "tests.hamiltonian"
   ]
  },
  {
   "cell_type": "code",
   "execution_count": 34,
   "metadata": {},
   "outputs": [
    {
     "data": {
      "text/plain": [
       "{'|0110000100>': 1.0}"
      ]
     },
     "execution_count": 34,
     "metadata": {},
     "output_type": "execute_result"
    }
   ],
   "source": [
    "GS = tests.ExactDiag()\n",
    "vec_to_braket(GS)"
   ]
  },
  {
   "cell_type": "code",
   "execution_count": 35,
   "metadata": {},
   "outputs": [
    {
     "data": {
      "text/plain": [
       "-5.4781521778580995"
      ]
     },
     "execution_count": 35,
     "metadata": {},
     "output_type": "execute_result"
    }
   ],
   "source": [
    "tests.GE"
   ]
  },
  {
   "cell_type": "markdown",
   "metadata": {},
   "source": [
    "---\n",
    "# Run Simulator"
   ]
  },
  {
   "cell_type": "code",
   "execution_count": 2,
   "metadata": {},
   "outputs": [
    {
     "name": "stdout",
     "output_type": "stream",
     "text": [
      "Length of full seq: 204\n"
     ]
    }
   ],
   "source": [
    "HPDF_amino = 'EGPALRRSYWRHLRRLVLGPPEPPFSHVCQVGDPVLRGVAAPVERAQLGGPELQRLTQRLVQVMRRRRCVGLSAPQLGVPRQVLALELPEALCRECPPRQRALRQMEPFPLRVFVNPSLRVLDSRLVTFPEGCESVAGFLACVPRFQAVQISGLDPNGEQVVWQASGWAARIIQHEMDHLQGCLFIDKMDSRTFTNVYWMKVND'\n",
    "print('Length of full seq:', len(HPDF_amino))"
   ]
  },
  {
   "cell_type": "markdown",
   "metadata": {},
   "source": [
    "## ED"
   ]
  },
  {
   "cell_type": "markdown",
   "metadata": {},
   "source": [
    "### 1. Run all"
   ]
  },
  {
   "cell_type": "code",
   "execution_count": 54,
   "metadata": {},
   "outputs": [],
   "source": [
    "weight_params = {'c_f': 1, 'c_GC': 0, 'c_R': 0, 'c_L': 0, 'epsilon_f': 0.001, 'rho_T': 0.5, 'epsilon': 2, 'infty': 4}"
   ]
  },
  {
   "cell_type": "code",
   "execution_count": null,
   "metadata": {},
   "outputs": [],
   "source": [
    "block_size = 2\n",
    "verbose = 0\n",
    "\n",
    "aminoacid_block = []\n",
    "ED_codons = []\n",
    "min_E_list = []\n",
    "\n",
    "print(\"* Running\", end=' ') if verbose == 0 else None\n",
    "for ith in range(len(HPDF_amino) // block_size + 1):\n",
    "    amino_fragment = fragmenting_amino_acid_seq(HPDF_amino, block_size, ith)\n",
    "    codon_fragment = Amino_acid_to_Codon(amino_fragment)\n",
    "        \n",
    "    if verbose >= 1:\n",
    "        print('In amino acide seq, Run Block:',str(ith))\n",
    "        print('=> Amino acids:', amino_fragment)\n",
    "    if verbose >= 2:\n",
    "        print('=> All possible codons:', codon_fragment())\n",
    "    #====================\n",
    "    \n",
    "    #construct H_codon\n",
    "    H_codon = Codon_Hamiltonian(amino_fragment, weight_params)\n",
    "    J, h, const = H_codon.Q_to_Jh()\n",
    "    #run Exact Diagonalization\n",
    "    H_codon = Quantum_Ising(J=J, h=h, shift=const)\n",
    "    H_codon.run_ExactDiag()\n",
    "    select_q1 = H_codon.get_outcome(types='list')\n",
    "    opt_codon_frag = codon_fragment(select_q1)\n",
    "    \n",
    "    #====================\n",
    "    if verbose ==0:\n",
    "        print(\".\", end=' ')\n",
    "    elif verbose >= 2:\n",
    "        print('=> Ground states:', min_sample)\n",
    "    elif verbose >= 1:\n",
    "        print('=> Optimal codons:', opt_codon_frag)\n",
    "\n",
    "\n",
    "    aminoacid_block.append(amino_fragment)\n",
    "    ED_codons.append(opt_codon_frag)\n",
    "    min_E_list.append(H_codon.ground_energy)\n"
   ]
  },
  {
   "cell_type": "code",
   "execution_count": 57,
   "metadata": {},
   "outputs": [
    {
     "data": {
      "text/html": [
       "<div>\n",
       "<style scoped>\n",
       "    .dataframe tbody tr th:only-of-type {\n",
       "        vertical-align: middle;\n",
       "    }\n",
       "\n",
       "    .dataframe tbody tr th {\n",
       "        vertical-align: top;\n",
       "    }\n",
       "\n",
       "    .dataframe thead th {\n",
       "        text-align: right;\n",
       "    }\n",
       "</style>\n",
       "<table border=\"1\" class=\"dataframe\">\n",
       "  <thead>\n",
       "    <tr style=\"text-align: right;\">\n",
       "      <th></th>\n",
       "      <th>amino acid</th>\n",
       "      <th>codon</th>\n",
       "      <th>Energy</th>\n",
       "    </tr>\n",
       "  </thead>\n",
       "  <tbody>\n",
       "    <tr>\n",
       "      <th>0</th>\n",
       "      <td>EG</td>\n",
       "      <td>GAAGGC</td>\n",
       "      <td>-2.741222</td>\n",
       "    </tr>\n",
       "    <tr>\n",
       "      <th>1</th>\n",
       "      <td>PA</td>\n",
       "      <td>CCGGCG</td>\n",
       "      <td>-2.348129</td>\n",
       "    </tr>\n",
       "    <tr>\n",
       "      <th>2</th>\n",
       "      <td>LR</td>\n",
       "      <td>CUGCGC</td>\n",
       "      <td>-2.395057</td>\n",
       "    </tr>\n",
       "    <tr>\n",
       "      <th>3</th>\n",
       "      <td>RS</td>\n",
       "      <td>CGCAGC</td>\n",
       "      <td>-1.816806</td>\n",
       "    </tr>\n",
       "    <tr>\n",
       "      <th>4</th>\n",
       "      <td>YW</td>\n",
       "      <td>UAUUGG</td>\n",
       "      <td>-3.440633</td>\n",
       "    </tr>\n",
       "    <tr>\n",
       "      <th>5</th>\n",
       "      <td>RH</td>\n",
       "      <td>CGCCAU</td>\n",
       "      <td>-2.525840</td>\n",
       "    </tr>\n",
       "    <tr>\n",
       "      <th>6</th>\n",
       "      <td>LR</td>\n",
       "      <td>CUGCGC</td>\n",
       "      <td>-2.395057</td>\n",
       "    </tr>\n",
       "    <tr>\n",
       "      <th>7</th>\n",
       "      <td>RL</td>\n",
       "      <td>CGCCUG</td>\n",
       "      <td>-2.395057</td>\n",
       "    </tr>\n",
       "    <tr>\n",
       "      <th>8</th>\n",
       "      <td>VL</td>\n",
       "      <td>GUGCUG</td>\n",
       "      <td>-2.317298</td>\n",
       "    </tr>\n",
       "    <tr>\n",
       "      <th>9</th>\n",
       "      <td>GP</td>\n",
       "      <td>GGCCCG</td>\n",
       "      <td>-2.477845</td>\n",
       "    </tr>\n",
       "    <tr>\n",
       "      <th>10</th>\n",
       "      <td>PE</td>\n",
       "      <td>CCGGAA</td>\n",
       "      <td>-2.997391</td>\n",
       "    </tr>\n",
       "    <tr>\n",
       "      <th>11</th>\n",
       "      <td>PP</td>\n",
       "      <td>CCGCCG</td>\n",
       "      <td>-2.734013</td>\n",
       "    </tr>\n",
       "    <tr>\n",
       "      <th>12</th>\n",
       "      <td>FS</td>\n",
       "      <td>UUUAGC</td>\n",
       "      <td>-2.170233</td>\n",
       "    </tr>\n",
       "    <tr>\n",
       "      <th>13</th>\n",
       "      <td>HV</td>\n",
       "      <td>CAUGUG</td>\n",
       "      <td>-2.448081</td>\n",
       "    </tr>\n",
       "    <tr>\n",
       "      <th>14</th>\n",
       "      <td>CQ</td>\n",
       "      <td>UGCCAG</td>\n",
       "      <td>-2.992720</td>\n",
       "    </tr>\n",
       "    <tr>\n",
       "      <th>15</th>\n",
       "      <td>VG</td>\n",
       "      <td>GUGGGC</td>\n",
       "      <td>-2.119285</td>\n",
       "    </tr>\n",
       "    <tr>\n",
       "      <th>16</th>\n",
       "      <td>DP</td>\n",
       "      <td>GAUCCG</td>\n",
       "      <td>-2.906557</td>\n",
       "    </tr>\n",
       "    <tr>\n",
       "      <th>17</th>\n",
       "      <td>VL</td>\n",
       "      <td>GUGCUG</td>\n",
       "      <td>-2.317298</td>\n",
       "    </tr>\n",
       "    <tr>\n",
       "      <th>18</th>\n",
       "      <td>RG</td>\n",
       "      <td>CGCGGC</td>\n",
       "      <td>-2.197044</td>\n",
       "    </tr>\n",
       "    <tr>\n",
       "      <th>19</th>\n",
       "      <td>VA</td>\n",
       "      <td>GUGGCG</td>\n",
       "      <td>-1.989569</td>\n",
       "    </tr>\n",
       "    <tr>\n",
       "      <th>20</th>\n",
       "      <td>AP</td>\n",
       "      <td>GCGCCG</td>\n",
       "      <td>-2.348129</td>\n",
       "    </tr>\n",
       "    <tr>\n",
       "      <th>21</th>\n",
       "      <td>VE</td>\n",
       "      <td>GUGGAA</td>\n",
       "      <td>-2.638831</td>\n",
       "    </tr>\n",
       "    <tr>\n",
       "      <th>22</th>\n",
       "      <td>RA</td>\n",
       "      <td>CGCGCG</td>\n",
       "      <td>-2.067329</td>\n",
       "    </tr>\n",
       "    <tr>\n",
       "      <th>23</th>\n",
       "      <td>QL</td>\n",
       "      <td>CAGCUG</td>\n",
       "      <td>-2.879605</td>\n",
       "    </tr>\n",
       "    <tr>\n",
       "      <th>24</th>\n",
       "      <td>GG</td>\n",
       "      <td>GGCGGC</td>\n",
       "      <td>-2.221676</td>\n",
       "    </tr>\n",
       "    <tr>\n",
       "      <th>25</th>\n",
       "      <td>PE</td>\n",
       "      <td>CCGGAA</td>\n",
       "      <td>-2.997391</td>\n",
       "    </tr>\n",
       "    <tr>\n",
       "      <th>26</th>\n",
       "      <td>LQ</td>\n",
       "      <td>CUGCAG</td>\n",
       "      <td>-2.879605</td>\n",
       "    </tr>\n",
       "    <tr>\n",
       "      <th>27</th>\n",
       "      <td>RL</td>\n",
       "      <td>CGCCUG</td>\n",
       "      <td>-2.395057</td>\n",
       "    </tr>\n",
       "    <tr>\n",
       "      <th>28</th>\n",
       "      <td>TQ</td>\n",
       "      <td>ACCCAG</td>\n",
       "      <td>-2.752044</td>\n",
       "    </tr>\n",
       "    <tr>\n",
       "      <th>29</th>\n",
       "      <td>RL</td>\n",
       "      <td>CGCCUG</td>\n",
       "      <td>-2.395057</td>\n",
       "    </tr>\n",
       "    <tr>\n",
       "      <th>30</th>\n",
       "      <td>VQ</td>\n",
       "      <td>GUGCAG</td>\n",
       "      <td>-2.579201</td>\n",
       "    </tr>\n",
       "    <tr>\n",
       "      <th>31</th>\n",
       "      <td>VM</td>\n",
       "      <td>GUGAUG</td>\n",
       "      <td>-3.009446</td>\n",
       "    </tr>\n",
       "    <tr>\n",
       "      <th>32</th>\n",
       "      <td>RR</td>\n",
       "      <td>CGCCGC</td>\n",
       "      <td>-2.172412</td>\n",
       "    </tr>\n",
       "    <tr>\n",
       "      <th>33</th>\n",
       "      <td>RR</td>\n",
       "      <td>CGCCGC</td>\n",
       "      <td>-2.172412</td>\n",
       "    </tr>\n",
       "    <tr>\n",
       "      <th>34</th>\n",
       "      <td>CV</td>\n",
       "      <td>UGCGUG</td>\n",
       "      <td>-2.430412</td>\n",
       "    </tr>\n",
       "    <tr>\n",
       "      <th>35</th>\n",
       "      <td>GL</td>\n",
       "      <td>GGCCUG</td>\n",
       "      <td>-2.419689</td>\n",
       "    </tr>\n",
       "    <tr>\n",
       "      <th>36</th>\n",
       "      <td>SA</td>\n",
       "      <td>AGCGCG</td>\n",
       "      <td>-1.711722</td>\n",
       "    </tr>\n",
       "    <tr>\n",
       "      <th>37</th>\n",
       "      <td>PQ</td>\n",
       "      <td>CCGCAG</td>\n",
       "      <td>-2.937761</td>\n",
       "    </tr>\n",
       "    <tr>\n",
       "      <th>38</th>\n",
       "      <td>LG</td>\n",
       "      <td>CUGGGC</td>\n",
       "      <td>-2.419689</td>\n",
       "    </tr>\n",
       "    <tr>\n",
       "      <th>39</th>\n",
       "      <td>VP</td>\n",
       "      <td>GUGCCG</td>\n",
       "      <td>-2.375454</td>\n",
       "    </tr>\n",
       "    <tr>\n",
       "      <th>40</th>\n",
       "      <td>RQ</td>\n",
       "      <td>CGCCAG</td>\n",
       "      <td>-2.656961</td>\n",
       "    </tr>\n",
       "    <tr>\n",
       "      <th>41</th>\n",
       "      <td>VL</td>\n",
       "      <td>GUGCUG</td>\n",
       "      <td>-2.317298</td>\n",
       "    </tr>\n",
       "    <tr>\n",
       "      <th>42</th>\n",
       "      <td>AL</td>\n",
       "      <td>GCGCUG</td>\n",
       "      <td>-2.289974</td>\n",
       "    </tr>\n",
       "    <tr>\n",
       "      <th>43</th>\n",
       "      <td>EL</td>\n",
       "      <td>GAACUG</td>\n",
       "      <td>-2.939235</td>\n",
       "    </tr>\n",
       "    <tr>\n",
       "      <th>44</th>\n",
       "      <td>PE</td>\n",
       "      <td>CCGGAA</td>\n",
       "      <td>-2.997391</td>\n",
       "    </tr>\n",
       "    <tr>\n",
       "      <th>45</th>\n",
       "      <td>AL</td>\n",
       "      <td>GCGCUG</td>\n",
       "      <td>-2.289974</td>\n",
       "    </tr>\n",
       "    <tr>\n",
       "      <th>46</th>\n",
       "      <td>CR</td>\n",
       "      <td>UGCCGC</td>\n",
       "      <td>-2.508172</td>\n",
       "    </tr>\n",
       "    <tr>\n",
       "      <th>47</th>\n",
       "      <td>EC</td>\n",
       "      <td>GAAUGC</td>\n",
       "      <td>-3.052350</td>\n",
       "    </tr>\n",
       "    <tr>\n",
       "      <th>48</th>\n",
       "      <td>PP</td>\n",
       "      <td>CCGCCG</td>\n",
       "      <td>-2.734013</td>\n",
       "    </tr>\n",
       "    <tr>\n",
       "      <th>49</th>\n",
       "      <td>RQ</td>\n",
       "      <td>CGCCAG</td>\n",
       "      <td>-2.656961</td>\n",
       "    </tr>\n",
       "    <tr>\n",
       "      <th>50</th>\n",
       "      <td>RA</td>\n",
       "      <td>CGCGCG</td>\n",
       "      <td>-2.067329</td>\n",
       "    </tr>\n",
       "    <tr>\n",
       "      <th>51</th>\n",
       "      <td>LR</td>\n",
       "      <td>CUGCGC</td>\n",
       "      <td>-2.395057</td>\n",
       "    </tr>\n",
       "    <tr>\n",
       "      <th>52</th>\n",
       "      <td>QM</td>\n",
       "      <td>CAGAUG</td>\n",
       "      <td>-3.571754</td>\n",
       "    </tr>\n",
       "    <tr>\n",
       "      <th>53</th>\n",
       "      <td>EP</td>\n",
       "      <td>GAACCG</td>\n",
       "      <td>-2.997391</td>\n",
       "    </tr>\n",
       "    <tr>\n",
       "      <th>54</th>\n",
       "      <td>FP</td>\n",
       "      <td>UUUCCG</td>\n",
       "      <td>-2.806641</td>\n",
       "    </tr>\n",
       "    <tr>\n",
       "      <th>55</th>\n",
       "      <td>LR</td>\n",
       "      <td>CUGCGC</td>\n",
       "      <td>-2.395057</td>\n",
       "    </tr>\n",
       "    <tr>\n",
       "      <th>56</th>\n",
       "      <td>VF</td>\n",
       "      <td>GUGUUU</td>\n",
       "      <td>-2.448081</td>\n",
       "    </tr>\n",
       "    <tr>\n",
       "      <th>57</th>\n",
       "      <td>VN</td>\n",
       "      <td>GUGAAC</td>\n",
       "      <td>-2.412426</td>\n",
       "    </tr>\n",
       "    <tr>\n",
       "      <th>58</th>\n",
       "      <td>PS</td>\n",
       "      <td>CCGAGC</td>\n",
       "      <td>-2.097606</td>\n",
       "    </tr>\n",
       "    <tr>\n",
       "      <th>59</th>\n",
       "      <td>LR</td>\n",
       "      <td>CUGCGC</td>\n",
       "      <td>-2.395057</td>\n",
       "    </tr>\n",
       "    <tr>\n",
       "      <th>60</th>\n",
       "      <td>VL</td>\n",
       "      <td>GUGCUG</td>\n",
       "      <td>-2.317298</td>\n",
       "    </tr>\n",
       "    <tr>\n",
       "      <th>61</th>\n",
       "      <td>DS</td>\n",
       "      <td>GAUAGC</td>\n",
       "      <td>-2.270150</td>\n",
       "    </tr>\n",
       "    <tr>\n",
       "      <th>62</th>\n",
       "      <td>RL</td>\n",
       "      <td>CGCCUG</td>\n",
       "      <td>-2.395057</td>\n",
       "    </tr>\n",
       "    <tr>\n",
       "      <th>63</th>\n",
       "      <td>VT</td>\n",
       "      <td>GUGACC</td>\n",
       "      <td>-2.189736</td>\n",
       "    </tr>\n",
       "    <tr>\n",
       "      <th>64</th>\n",
       "      <td>FP</td>\n",
       "      <td>UUUCCG</td>\n",
       "      <td>-2.806641</td>\n",
       "    </tr>\n",
       "    <tr>\n",
       "      <th>65</th>\n",
       "      <td>EG</td>\n",
       "      <td>GAAGGC</td>\n",
       "      <td>-2.741222</td>\n",
       "    </tr>\n",
       "    <tr>\n",
       "      <th>66</th>\n",
       "      <td>CE</td>\n",
       "      <td>UGCGAA</td>\n",
       "      <td>-3.052350</td>\n",
       "    </tr>\n",
       "    <tr>\n",
       "      <th>67</th>\n",
       "      <td>SV</td>\n",
       "      <td>AGCGUG</td>\n",
       "      <td>-1.739046</td>\n",
       "    </tr>\n",
       "    <tr>\n",
       "      <th>68</th>\n",
       "      <td>AG</td>\n",
       "      <td>GCGGGC</td>\n",
       "      <td>-2.091961</td>\n",
       "    </tr>\n",
       "    <tr>\n",
       "      <th>69</th>\n",
       "      <td>FL</td>\n",
       "      <td>UUUCUG</td>\n",
       "      <td>-2.748485</td>\n",
       "    </tr>\n",
       "    <tr>\n",
       "      <th>70</th>\n",
       "      <td>AC</td>\n",
       "      <td>GCGUGC</td>\n",
       "      <td>-2.403088</td>\n",
       "    </tr>\n",
       "    <tr>\n",
       "      <th>71</th>\n",
       "      <td>VP</td>\n",
       "      <td>GUGCCG</td>\n",
       "      <td>-2.375454</td>\n",
       "    </tr>\n",
       "    <tr>\n",
       "      <th>72</th>\n",
       "      <td>RF</td>\n",
       "      <td>CGCUUU</td>\n",
       "      <td>-2.525840</td>\n",
       "    </tr>\n",
       "    <tr>\n",
       "      <th>73</th>\n",
       "      <td>QA</td>\n",
       "      <td>CAGGCG</td>\n",
       "      <td>-2.551877</td>\n",
       "    </tr>\n",
       "    <tr>\n",
       "      <th>74</th>\n",
       "      <td>VQ</td>\n",
       "      <td>GUGCAG</td>\n",
       "      <td>-2.579201</td>\n",
       "    </tr>\n",
       "    <tr>\n",
       "      <th>75</th>\n",
       "      <td>IS</td>\n",
       "      <td>AUUAGC</td>\n",
       "      <td>-2.059214</td>\n",
       "    </tr>\n",
       "    <tr>\n",
       "      <th>76</th>\n",
       "      <td>GL</td>\n",
       "      <td>GGCCUG</td>\n",
       "      <td>-2.419689</td>\n",
       "    </tr>\n",
       "    <tr>\n",
       "      <th>77</th>\n",
       "      <td>DP</td>\n",
       "      <td>GAUCCG</td>\n",
       "      <td>-2.906557</td>\n",
       "    </tr>\n",
       "    <tr>\n",
       "      <th>78</th>\n",
       "      <td>NG</td>\n",
       "      <td>AACGGC</td>\n",
       "      <td>-2.514817</td>\n",
       "    </tr>\n",
       "    <tr>\n",
       "      <th>79</th>\n",
       "      <td>EQ</td>\n",
       "      <td>GAACAG</td>\n",
       "      <td>-3.201139</td>\n",
       "    </tr>\n",
       "    <tr>\n",
       "      <th>80</th>\n",
       "      <td>VV</td>\n",
       "      <td>GUGGUG</td>\n",
       "      <td>-2.016894</td>\n",
       "    </tr>\n",
       "    <tr>\n",
       "      <th>81</th>\n",
       "      <td>WQ</td>\n",
       "      <td>UGGCAG</td>\n",
       "      <td>-3.571754</td>\n",
       "    </tr>\n",
       "    <tr>\n",
       "      <th>82</th>\n",
       "      <td>AS</td>\n",
       "      <td>GCGAGC</td>\n",
       "      <td>-1.711722</td>\n",
       "    </tr>\n",
       "    <tr>\n",
       "      <th>83</th>\n",
       "      <td>GW</td>\n",
       "      <td>GGCUGG</td>\n",
       "      <td>-3.111837</td>\n",
       "    </tr>\n",
       "    <tr>\n",
       "      <th>84</th>\n",
       "      <td>AA</td>\n",
       "      <td>GCGGCG</td>\n",
       "      <td>-1.962245</td>\n",
       "    </tr>\n",
       "    <tr>\n",
       "      <th>85</th>\n",
       "      <td>RI</td>\n",
       "      <td>CGCAUU</td>\n",
       "      <td>-2.414820</td>\n",
       "    </tr>\n",
       "    <tr>\n",
       "      <th>86</th>\n",
       "      <td>IQ</td>\n",
       "      <td>AUUCAG</td>\n",
       "      <td>-2.899369</td>\n",
       "    </tr>\n",
       "    <tr>\n",
       "      <th>87</th>\n",
       "      <td>HE</td>\n",
       "      <td>CAUGAA</td>\n",
       "      <td>-3.070018</td>\n",
       "    </tr>\n",
       "    <tr>\n",
       "      <th>88</th>\n",
       "      <td>MD</td>\n",
       "      <td>AUGGAU</td>\n",
       "      <td>-3.540550</td>\n",
       "    </tr>\n",
       "    <tr>\n",
       "      <th>89</th>\n",
       "      <td>HL</td>\n",
       "      <td>CAUCUG</td>\n",
       "      <td>-2.748485</td>\n",
       "    </tr>\n",
       "    <tr>\n",
       "      <th>90</th>\n",
       "      <td>QG</td>\n",
       "      <td>CAGGGC</td>\n",
       "      <td>-2.681592</td>\n",
       "    </tr>\n",
       "    <tr>\n",
       "      <th>91</th>\n",
       "      <td>CL</td>\n",
       "      <td>UGCCUG</td>\n",
       "      <td>-2.730816</td>\n",
       "    </tr>\n",
       "    <tr>\n",
       "      <th>92</th>\n",
       "      <td>FI</td>\n",
       "      <td>UUUAUU</td>\n",
       "      <td>-2.768248</td>\n",
       "    </tr>\n",
       "    <tr>\n",
       "      <th>93</th>\n",
       "      <td>DK</td>\n",
       "      <td>GAUAAA</td>\n",
       "      <td>-3.266429</td>\n",
       "    </tr>\n",
       "    <tr>\n",
       "      <th>94</th>\n",
       "      <td>MD</td>\n",
       "      <td>AUGGAU</td>\n",
       "      <td>-3.540550</td>\n",
       "    </tr>\n",
       "    <tr>\n",
       "      <th>95</th>\n",
       "      <td>SR</td>\n",
       "      <td>AGCCGC</td>\n",
       "      <td>-1.816806</td>\n",
       "    </tr>\n",
       "    <tr>\n",
       "      <th>96</th>\n",
       "      <td>TF</td>\n",
       "      <td>ACCUUU</td>\n",
       "      <td>-2.620924</td>\n",
       "    </tr>\n",
       "    <tr>\n",
       "      <th>97</th>\n",
       "      <td>TN</td>\n",
       "      <td>ACCAAC</td>\n",
       "      <td>-2.585269</td>\n",
       "    </tr>\n",
       "    <tr>\n",
       "      <th>98</th>\n",
       "      <td>VY</td>\n",
       "      <td>GUGUAU</td>\n",
       "      <td>-2.448081</td>\n",
       "    </tr>\n",
       "    <tr>\n",
       "      <th>99</th>\n",
       "      <td>WM</td>\n",
       "      <td>UGGAUG</td>\n",
       "      <td>-4.001999</td>\n",
       "    </tr>\n",
       "    <tr>\n",
       "      <th>100</th>\n",
       "      <td>KV</td>\n",
       "      <td>AAAGUG</td>\n",
       "      <td>-2.735325</td>\n",
       "    </tr>\n",
       "    <tr>\n",
       "      <th>101</th>\n",
       "      <td>ND</td>\n",
       "      <td>AACGAU</td>\n",
       "      <td>-2.943530</td>\n",
       "    </tr>\n",
       "  </tbody>\n",
       "</table>\n",
       "</div>"
      ],
      "text/plain": [
       "    amino acid   codon    Energy\n",
       "0           EG  GAAGGC -2.741222\n",
       "1           PA  CCGGCG -2.348129\n",
       "2           LR  CUGCGC -2.395057\n",
       "3           RS  CGCAGC -1.816806\n",
       "4           YW  UAUUGG -3.440633\n",
       "5           RH  CGCCAU -2.525840\n",
       "6           LR  CUGCGC -2.395057\n",
       "7           RL  CGCCUG -2.395057\n",
       "8           VL  GUGCUG -2.317298\n",
       "9           GP  GGCCCG -2.477845\n",
       "10          PE  CCGGAA -2.997391\n",
       "11          PP  CCGCCG -2.734013\n",
       "12          FS  UUUAGC -2.170233\n",
       "13          HV  CAUGUG -2.448081\n",
       "14          CQ  UGCCAG -2.992720\n",
       "15          VG  GUGGGC -2.119285\n",
       "16          DP  GAUCCG -2.906557\n",
       "17          VL  GUGCUG -2.317298\n",
       "18          RG  CGCGGC -2.197044\n",
       "19          VA  GUGGCG -1.989569\n",
       "20          AP  GCGCCG -2.348129\n",
       "21          VE  GUGGAA -2.638831\n",
       "22          RA  CGCGCG -2.067329\n",
       "23          QL  CAGCUG -2.879605\n",
       "24          GG  GGCGGC -2.221676\n",
       "25          PE  CCGGAA -2.997391\n",
       "26          LQ  CUGCAG -2.879605\n",
       "27          RL  CGCCUG -2.395057\n",
       "28          TQ  ACCCAG -2.752044\n",
       "29          RL  CGCCUG -2.395057\n",
       "30          VQ  GUGCAG -2.579201\n",
       "31          VM  GUGAUG -3.009446\n",
       "32          RR  CGCCGC -2.172412\n",
       "33          RR  CGCCGC -2.172412\n",
       "34          CV  UGCGUG -2.430412\n",
       "35          GL  GGCCUG -2.419689\n",
       "36          SA  AGCGCG -1.711722\n",
       "37          PQ  CCGCAG -2.937761\n",
       "38          LG  CUGGGC -2.419689\n",
       "39          VP  GUGCCG -2.375454\n",
       "40          RQ  CGCCAG -2.656961\n",
       "41          VL  GUGCUG -2.317298\n",
       "42          AL  GCGCUG -2.289974\n",
       "43          EL  GAACUG -2.939235\n",
       "44          PE  CCGGAA -2.997391\n",
       "45          AL  GCGCUG -2.289974\n",
       "46          CR  UGCCGC -2.508172\n",
       "47          EC  GAAUGC -3.052350\n",
       "48          PP  CCGCCG -2.734013\n",
       "49          RQ  CGCCAG -2.656961\n",
       "50          RA  CGCGCG -2.067329\n",
       "51          LR  CUGCGC -2.395057\n",
       "52          QM  CAGAUG -3.571754\n",
       "53          EP  GAACCG -2.997391\n",
       "54          FP  UUUCCG -2.806641\n",
       "55          LR  CUGCGC -2.395057\n",
       "56          VF  GUGUUU -2.448081\n",
       "57          VN  GUGAAC -2.412426\n",
       "58          PS  CCGAGC -2.097606\n",
       "59          LR  CUGCGC -2.395057\n",
       "60          VL  GUGCUG -2.317298\n",
       "61          DS  GAUAGC -2.270150\n",
       "62          RL  CGCCUG -2.395057\n",
       "63          VT  GUGACC -2.189736\n",
       "64          FP  UUUCCG -2.806641\n",
       "65          EG  GAAGGC -2.741222\n",
       "66          CE  UGCGAA -3.052350\n",
       "67          SV  AGCGUG -1.739046\n",
       "68          AG  GCGGGC -2.091961\n",
       "69          FL  UUUCUG -2.748485\n",
       "70          AC  GCGUGC -2.403088\n",
       "71          VP  GUGCCG -2.375454\n",
       "72          RF  CGCUUU -2.525840\n",
       "73          QA  CAGGCG -2.551877\n",
       "74          VQ  GUGCAG -2.579201\n",
       "75          IS  AUUAGC -2.059214\n",
       "76          GL  GGCCUG -2.419689\n",
       "77          DP  GAUCCG -2.906557\n",
       "78          NG  AACGGC -2.514817\n",
       "79          EQ  GAACAG -3.201139\n",
       "80          VV  GUGGUG -2.016894\n",
       "81          WQ  UGGCAG -3.571754\n",
       "82          AS  GCGAGC -1.711722\n",
       "83          GW  GGCUGG -3.111837\n",
       "84          AA  GCGGCG -1.962245\n",
       "85          RI  CGCAUU -2.414820\n",
       "86          IQ  AUUCAG -2.899369\n",
       "87          HE  CAUGAA -3.070018\n",
       "88          MD  AUGGAU -3.540550\n",
       "89          HL  CAUCUG -2.748485\n",
       "90          QG  CAGGGC -2.681592\n",
       "91          CL  UGCCUG -2.730816\n",
       "92          FI  UUUAUU -2.768248\n",
       "93          DK  GAUAAA -3.266429\n",
       "94          MD  AUGGAU -3.540550\n",
       "95          SR  AGCCGC -1.816806\n",
       "96          TF  ACCUUU -2.620924\n",
       "97          TN  ACCAAC -2.585269\n",
       "98          VY  GUGUAU -2.448081\n",
       "99          WM  UGGAUG -4.001999\n",
       "100         KV  AAAGUG -2.735325\n",
       "101         ND  AACGAU -2.943530"
      ]
     },
     "execution_count": 57,
     "metadata": {},
     "output_type": "execute_result"
    }
   ],
   "source": [
    "pd.set_option('display.max_rows', None)\n",
    "pd.set_option('display.max_columns', None)\n",
    "pd.set_option('display.width', None)\n",
    "\n",
    "opt_codon_list = [\"\".join(ED_codons[x]) for x in range(len(ED_codons))]\n",
    "rslt_df = pd.DataFrame(list(zip(aminoacid_block, opt_codon_list, min_E_list)),\n",
    "                        columns=['amino acid', 'codon', \"Energy\"])\n",
    "rslt_df"
   ]
  },
  {
   "cell_type": "markdown",
   "metadata": {},
   "source": [
    "### 2. Run_ED for just one frag"
   ]
  },
  {
   "cell_type": "markdown",
   "metadata": {},
   "source": [
    "#### TEST1:  Codon Usage Frequency"
   ]
  },
  {
   "cell_type": "markdown",
   "metadata": {},
   "source": [
    "$c_f = 1$ is fixed. <br>\n",
    "$\\infty = 2 * \\epsilon$ <br>\n",
    "block size = $\\epsilon$\n"
   ]
  },
  {
   "cell_type": "code",
   "execution_count": 48,
   "metadata": {},
   "outputs": [],
   "source": [
    "weight_params = {'c_f': 1, 'c_GC': 0, 'c_R': 0, 'c_L': 0, 'epsilon_f': 0.001, 'rho_T': 0.5, 'epsilon': 2, 'infty': 4}\n",
    "# epsilon"
   ]
  },
  {
   "cell_type": "code",
   "execution_count": 53,
   "metadata": {},
   "outputs": [
    {
     "name": "stdout",
     "output_type": "stream",
     "text": [
      "=> Amino acids: EG\n",
      "=> All possible codons: [['GAA', 'GAG'], ['GGA', 'GGC', 'GGG', 'GGU']]\n"
     ]
    },
    {
     "data": {
      "text/plain": [
       "['GAA', 'GGC']"
      ]
     },
     "execution_count": 53,
     "metadata": {},
     "output_type": "execute_result"
    }
   ],
   "source": [
    "block_size = 2\n",
    "block_position = 0\n",
    "\n",
    "amino_fragment = fragmenting_amino_acid_seq(HPDF_amino, block_size, block_position)\n",
    "print('=> Amino acids:', amino_fragment)\n",
    "codon_fragment = Amino_acid_to_Codon(amino_fragment)\n",
    "print('=> All possible codons:', codon_fragment())\n",
    "\n",
    "\n",
    "H_codon = Codon_Hamiltonian(amino_fragment, weight_params)\n",
    "J, h, const = H_codon.Q_to_Jh()\n",
    "H_codon_matrix = Quantum_Ising(J=J, h=h, shift=0) #shift=const\n",
    "H_codon_matrix.run_ExactDiag()\n",
    "\n",
    "# Pick sites where qubit=1\n",
    "select_q1 = H_codon_matrix.get_outcome(types='list')\n",
    "codon_fragment(select_q1)"
   ]
  },
  {
   "cell_type": "code",
   "execution_count": 50,
   "metadata": {},
   "outputs": [
    {
     "data": {
      "text/plain": [
       "(array([[0., 1., 1., 1., 0., 0., 0., 0.],\n",
       "        [0., 0., 1., 1., 0., 0., 0., 0.],\n",
       "        [0., 0., 0., 1., 0., 0., 0., 0.],\n",
       "        [0., 0., 0., 0., 0., 0., 0., 0.],\n",
       "        [0., 0., 0., 0., 0., 1., 1., 1.],\n",
       "        [0., 0., 0., 0., 0., 0., 1., 1.],\n",
       "        [0., 0., 0., 0., 0., 0., 0., 1.],\n",
       "        [0., 0., 0., 0., 0., 0., 0., 0.]]),\n",
       " array([-2.82774093, -3.05598237, -2.31649663, -2.91317546, -2.77794857,\n",
       "        -2.65281823, -2.50943866, -2.91317546]),\n",
       " 9.966776297157107)"
      ]
     },
     "execution_count": 50,
     "metadata": {},
     "output_type": "execute_result"
    }
   ],
   "source": [
    "H_codon.Q_to_Jh()"
   ]
  },
  {
   "cell_type": "code",
   "execution_count": 51,
   "metadata": {},
   "outputs": [
    {
     "name": "stdout",
     "output_type": "stream",
     "text": [
      "-12.314905718767651\n"
     ]
    }
   ],
   "source": [
    "print(H_codon_matrix.ground_energy)\n",
    "#H_codon_matrix.hamiltonian"
   ]
  },
  {
   "cell_type": "code",
   "execution_count": 52,
   "metadata": {},
   "outputs": [
    {
     "name": "stdout",
     "output_type": "stream",
     "text": [
      "{'|00100010>': 1.0}\n"
     ]
    }
   ],
   "source": [
    "H_codon_matrix.run_ExactDiag()\n",
    "GS = H_codon_matrix.ground_state\n",
    "if len(GS.shape) == 1:\n",
    "    print(vec_to_braket(GS))\n",
    "else:\n",
    "    for i in range(len(GS)):\n",
    "        print(vec_to_braket(GS[i]))"
   ]
  },
  {
   "cell_type": "markdown",
   "metadata": {},
   "source": [
    "#### TEST2: GC Contents (Not Yet!)"
   ]
  },
  {
   "cell_type": "code",
   "execution_count": 53,
   "metadata": {},
   "outputs": [],
   "source": [
    "weight_params = {'c_f': 1, 'c_GC': 0, 'c_R': 0, 'c_L': 0, 'epsilon_f': 0.001, 'rho_T': 0.5, 'epsilon': 1, 'infty': 2}"
   ]
  },
  {
   "cell_type": "code",
   "execution_count": 60,
   "metadata": {},
   "outputs": [
    {
     "name": "stdout",
     "output_type": "stream",
     "text": [
      "=> Amino acids: E\n",
      "=> All possible codons: [['GAA', 'GAG']]\n"
     ]
    },
    {
     "data": {
      "text/plain": [
       "[]"
      ]
     },
     "execution_count": 60,
     "metadata": {},
     "output_type": "execute_result"
    }
   ],
   "source": [
    "block_size = 1\n",
    "block_position = 0\n",
    "\n",
    "amino_fragment = fragmenting_amino_acid_seq(HPDF_amino, block_size, block_position)\n",
    "print('=> Amino acids:', amino_fragment)\n",
    "codon_fragment = Amino_acid_to_Codon(amino_fragment)\n",
    "print('=> All possible codons:', codon_fragment())\n",
    "\n",
    "\n",
    "H_codon = Codon_Hamiltonian(amino_fragment, weight_params)\n",
    "J, h, const = H_codon.Q_to_Jh()\n",
    "H_codon_matrix = Quantum_Ising(J=J, h=h, shift=0) #shift=const\n",
    "H_codon_matrix.run_ExactDiag()\n",
    "\n",
    "# Pick sites where qubit=1\n",
    "select_q1 = H_codon_matrix.get_outcome(types='list')\n",
    "codon_fragment(select_q1)"
   ]
  },
  {
   "cell_type": "code",
   "execution_count": 66,
   "metadata": {},
   "outputs": [
    {
     "data": {
      "text/plain": [
       "array([-0.36961546, -1.16796237])"
      ]
     },
     "execution_count": 66,
     "metadata": {},
     "output_type": "execute_result"
    }
   ],
   "source": [
    "H_codon.vec_zeta(epsilon_f=.001)"
   ]
  },
  {
   "cell_type": "code",
   "execution_count": 62,
   "metadata": {},
   "outputs": [
    {
     "data": {
      "text/plain": [
       "array([0.36961546, 1.16796237])"
      ]
     },
     "execution_count": 62,
     "metadata": {},
     "output_type": "execute_result"
    }
   ],
   "source": [
    "H_codon.Q_ii"
   ]
  },
  {
   "cell_type": "code",
   "execution_count": 63,
   "metadata": {},
   "outputs": [
    {
     "data": {
      "text/plain": [
       "(array([[0., 0.],\n",
       "        [0., 0.]]),\n",
       " array([-0.18480773, -0.58398118]),\n",
       " 0.7687889110086851)"
      ]
     },
     "execution_count": 63,
     "metadata": {},
     "output_type": "execute_result"
    }
   ],
   "source": [
    "H_codon.Q_to_Jh()"
   ]
  },
  {
   "cell_type": "code",
   "execution_count": 64,
   "metadata": {},
   "outputs": [
    {
     "name": "stdout",
     "output_type": "stream",
     "text": [
      "-0.7687889110086851\n"
     ]
    },
    {
     "data": {
      "text/plain": [
       "array([[-0.76878891,  0.        ,  0.        ,  0.        ],\n",
       "       [ 0.        ,  0.39917346,  0.        ,  0.        ],\n",
       "       [ 0.        ,  0.        , -0.39917346,  0.        ],\n",
       "       [ 0.        ,  0.        ,  0.        ,  0.76878891]])"
      ]
     },
     "execution_count": 64,
     "metadata": {},
     "output_type": "execute_result"
    }
   ],
   "source": [
    "print(H_codon_matrix.ground_energy)\n",
    "H_codon_matrix.hamiltonian"
   ]
  },
  {
   "cell_type": "code",
   "execution_count": 65,
   "metadata": {},
   "outputs": [
    {
     "data": {
      "text/plain": [
       "{'|00>': 1.0}"
      ]
     },
     "execution_count": 65,
     "metadata": {},
     "output_type": "execute_result"
    }
   ],
   "source": [
    "GS = H_codon_matrix.ground_state\n",
    "vec_to_braket(GS)"
   ]
  },
  {
   "cell_type": "markdown",
   "metadata": {},
   "source": [
    "## D-wave"
   ]
  },
  {
   "cell_type": "code",
   "execution_count": 11,
   "metadata": {},
   "outputs": [
    {
     "name": "stdout",
     "output_type": "stream",
     "text": [
      "Length of full seq: 204\n"
     ]
    }
   ],
   "source": [
    "HPDF_amino = 'EGPALRRSYWRHLRRLVLGPPEPPFSHVCQVGDPVLRGVAAPVERAQLGGPELQRLTQRLVQVMRRRRCVGLSAPQLGVPRQVLALELPEALCRECPPRQRALRQMEPFPLRVFVNPSLRVLDSRLVTFPEGCESVAGFLACVPRFQAVQISGLDPNGEQVVWQASGWAARIIQHEMDHLQGCLFIDKMDSRTFTNVYWMKVND'\n",
    "print('Length of full seq:', len(HPDF_amino))\n",
    "\n",
    "\n",
    "\n"
   ]
  },
  {
   "cell_type": "markdown",
   "metadata": {},
   "source": [
    "### 1. Run_Dwave for just one frag"
   ]
  },
  {
   "cell_type": "markdown",
   "metadata": {},
   "source": [
    "#### TEST1: Codon Usage Frequency"
   ]
  },
  {
   "cell_type": "code",
   "execution_count": 58,
   "metadata": {},
   "outputs": [],
   "source": [
    "weight_params = {'c_f': 1, 'c_GC': 0, 'c_R': 0, 'c_L': 0, 'epsilon_f': 0.001, 'rho_T': 0.5, 'epsilon': 2, 'infty': 4}\n",
    "# epsilon"
   ]
  },
  {
   "cell_type": "code",
   "execution_count": 62,
   "metadata": {},
   "outputs": [
    {
     "name": "stdout",
     "output_type": "stream",
     "text": [
      "=> Amino acids: ALR\n",
      "=> All possible codons: [['GCA', 'GCC', 'GCG', 'GCU'], ['CUA', 'CUC', 'CUG', 'CUU', 'UUA', 'UUG'], ['AGA', 'AGG', 'CGA', 'CGC', 'CGG', 'CGU']]\n"
     ]
    },
    {
     "data": {
      "text/plain": [
       "['GCG', 'CUG', 'CGC']"
      ]
     },
     "execution_count": 62,
     "metadata": {},
     "output_type": "execute_result"
    }
   ],
   "source": [
    "block_size = 3\n",
    "block_position = 1\n",
    "\n",
    "amino_fragment = fragmenting_amino_acid_seq(HPDF_amino, block_size, block_position)\n",
    "print('=> Amino acids:', amino_fragment)\n",
    "codon_fragment = Amino_acid_to_Codon(amino_fragment)\n",
    "print('=> All possible codons:', codon_fragment())\n",
    "\n",
    "\n",
    "H_codon = Codon_Hamiltonian(amino_fragment, weight_params)\n",
    "_, min_E = H_codon.run_Dwave(chain_strength=17)\n",
    "H_codon.outcome_codon_seq()"
   ]
  },
  {
   "cell_type": "markdown",
   "metadata": {},
   "source": [
    "### 2. Fully run"
   ]
  },
  {
   "cell_type": "code",
   "execution_count": 63,
   "metadata": {},
   "outputs": [],
   "source": [
    "weight_params = {'c_f': 0.1, 'c_GC': 1, 'c_R': 0.1, 'c_L': 0, 'epsilon_f': 0.001, 'rho_T': 0.5, 'epsilon': 1, 'infty': 10}\n",
    "weight_params = {'c_f': 1, 'c_GC': 0, 'c_R': 0, 'c_L': 0, 'epsilon_f': 0.001, 'rho_T': 0.5, 'epsilon': 2, 'infty': 4}"
   ]
  },
  {
   "cell_type": "code",
   "execution_count": null,
   "metadata": {},
   "outputs": [],
   "source": [
    "block_size = 3\n",
    "verbose = 0\n",
    "\n",
    "aminoacid_block = []\n",
    "dwave_opt_codons = []\n",
    "min_E_list = []\n",
    "\n",
    "print(\"* Running\", end=' ') if verbose == 0 else None\n",
    "for ith in range(len(HPDF_amino) // block_size + 1):\n",
    "    amino_fragment = fragmenting_amino_acid_seq(HPDF_amino, block_size, ith)\n",
    "    codon_fragment = Amino_acid_to_Codon(amino_fragment)\n",
    "\n",
    "    if verbose >= 1:\n",
    "        print('In amino acide seq, Run Block:',str(ith))\n",
    "        print('=> Amino acids:', amino_fragment)\n",
    "    if verbose >= 2:\n",
    "        print('=> All possible codons:', codon_fragment())\n",
    "    #====================\n",
    "\n",
    "    #construct H_codon\n",
    "    H_codon = Codon_Hamiltonian(amino_fragment, weight_params)\n",
    "    #run Dwave Sampler\n",
    "    min_sample, min_E = H_codon.run_Dwave() #chain_strength=15\n",
    "    opt_codon_frag = H_codon.outcome_codon_seq()\n",
    "\n",
    "    #====================\n",
    "    if verbose ==0:\n",
    "        print(\".\", end=' ')\n",
    "    elif verbose >= 2:\n",
    "        print('=> Ground states:', min_sample)\n",
    "    elif verbose >= 1:\n",
    "        print('=> Optimal codons:', opt_codon_frag)\n",
    "\n",
    "\n",
    "\n",
    "    aminoacid_block.append(amino_fragment)\n",
    "    dwave_opt_codons.append(opt_codon_frag)\n",
    "    min_E_list.append(min_E)\n"
   ]
  },
  {
   "cell_type": "markdown",
   "metadata": {},
   "source": [
    "#### Outcomes"
   ]
  },
  {
   "cell_type": "code",
   "execution_count": 15,
   "metadata": {},
   "outputs": [
    {
     "data": {
      "text/html": [
       "<div>\n",
       "<style scoped>\n",
       "    .dataframe tbody tr th:only-of-type {\n",
       "        vertical-align: middle;\n",
       "    }\n",
       "\n",
       "    .dataframe tbody tr th {\n",
       "        vertical-align: top;\n",
       "    }\n",
       "\n",
       "    .dataframe thead th {\n",
       "        text-align: right;\n",
       "    }\n",
       "</style>\n",
       "<table border=\"1\" class=\"dataframe\">\n",
       "  <thead>\n",
       "    <tr style=\"text-align: right;\">\n",
       "      <th></th>\n",
       "      <th>amino acid</th>\n",
       "      <th>codon</th>\n",
       "      <th>Energy</th>\n",
       "    </tr>\n",
       "  </thead>\n",
       "  <tbody>\n",
       "    <tr>\n",
       "      <th>0</th>\n",
       "      <td>EGP</td>\n",
       "      <td></td>\n",
       "      <td>0.000000</td>\n",
       "    </tr>\n",
       "    <tr>\n",
       "      <th>1</th>\n",
       "      <td>ALR</td>\n",
       "      <td></td>\n",
       "      <td>0.000000</td>\n",
       "    </tr>\n",
       "    <tr>\n",
       "      <th>2</th>\n",
       "      <td>RSY</td>\n",
       "      <td></td>\n",
       "      <td>0.000000</td>\n",
       "    </tr>\n",
       "    <tr>\n",
       "      <th>3</th>\n",
       "      <td>WRH</td>\n",
       "      <td>UGG</td>\n",
       "      <td>-0.001000</td>\n",
       "    </tr>\n",
       "    <tr>\n",
       "      <th>4</th>\n",
       "      <td>LRR</td>\n",
       "      <td>CUG</td>\n",
       "      <td>0.691149</td>\n",
       "    </tr>\n",
       "    <tr>\n",
       "      <th>...</th>\n",
       "      <td>...</td>\n",
       "      <td>...</td>\n",
       "      <td>...</td>\n",
       "    </tr>\n",
       "    <tr>\n",
       "      <th>63</th>\n",
       "      <td>DSR</td>\n",
       "      <td></td>\n",
       "      <td>0.000000</td>\n",
       "    </tr>\n",
       "    <tr>\n",
       "      <th>64</th>\n",
       "      <td>TFT</td>\n",
       "      <td></td>\n",
       "      <td>0.000000</td>\n",
       "    </tr>\n",
       "    <tr>\n",
       "      <th>65</th>\n",
       "      <td>NVY</td>\n",
       "      <td></td>\n",
       "      <td>0.000000</td>\n",
       "    </tr>\n",
       "    <tr>\n",
       "      <th>66</th>\n",
       "      <td>WMK</td>\n",
       "      <td>UGGAUG</td>\n",
       "      <td>-0.001999</td>\n",
       "    </tr>\n",
       "    <tr>\n",
       "      <th>67</th>\n",
       "      <td>VND</td>\n",
       "      <td></td>\n",
       "      <td>0.000000</td>\n",
       "    </tr>\n",
       "  </tbody>\n",
       "</table>\n",
       "<p>68 rows × 3 columns</p>\n",
       "</div>"
      ],
      "text/plain": [
       "   amino acid   codon    Energy\n",
       "0         EGP          0.000000\n",
       "1         ALR          0.000000\n",
       "2         RSY          0.000000\n",
       "3         WRH     UGG -0.001000\n",
       "4         LRR     CUG  0.691149\n",
       "..        ...     ...       ...\n",
       "63        DSR          0.000000\n",
       "64        TFT          0.000000\n",
       "65        NVY          0.000000\n",
       "66        WMK  UGGAUG -0.001999\n",
       "67        VND          0.000000\n",
       "\n",
       "[68 rows x 3 columns]"
      ]
     },
     "execution_count": 15,
     "metadata": {},
     "output_type": "execute_result"
    }
   ],
   "source": [
    "dwave_opt_codon_list = [\"\".join(dwave_opt_codons[x]) for x in range(len(dwave_opt_codons))]\n",
    "rslt_df = pd.DataFrame(list(zip(aminoacid_block, dwave_opt_codon_list, min_E_list)),\n",
    "                        columns=['amino acid', 'codon', \"Energy\"])\n",
    "rslt_df"
   ]
  },
  {
   "cell_type": "markdown",
   "metadata": {},
   "source": [
    "#### Save"
   ]
  },
  {
   "cell_type": "code",
   "execution_count": null,
   "metadata": {},
   "outputs": [],
   "source": [
    "weight_params = {'c_f': 1, 'c_GC': 0, 'c_R': 0, 'c_L': 0, 'epsilon_f': 0.001, 'rho_T': 0.5, 'epsilon': 0, 'infty': 0}"
   ]
  },
  {
   "cell_type": "code",
   "execution_count": 8,
   "metadata": {},
   "outputs": [],
   "source": [
    "DNA='HPDF'\n",
    "filepath=f'./result_data/'\n",
    "os.makedirs(filepath, exist_ok=True)\n",
    "\n",
    "if weight_params['c_L'] == 0.0: \n",
    "    rslt_df.to_csv(os.path.join(filepath, f'{DNA}_bs{block_size}_woL.csv'))\n",
    "else:\n",
    "    rslt_df.to_csv(os.path.join(filepath, f'{DNA}_bs{block_size}_wL.csv'))\n"
   ]
  },
  {
   "cell_type": "markdown",
   "metadata": {},
   "source": [
    "#### Metrics"
   ]
  },
  {
   "cell_type": "code",
   "execution_count": 10,
   "metadata": {},
   "outputs": [],
   "source": [
    "dwave_codon_RNA = \"\".join(rslt_df['codon'])\n",
    "dwave_codon_DNA = dwave_codon_RNA.replace(\"U\", \"T\")"
   ]
  },
  {
   "cell_type": "code",
   "execution_count": 81,
   "metadata": {},
   "outputs": [
    {
     "name": "stdout",
     "output_type": "stream",
     "text": [
      "------------------------------\n",
      "dwave_codon (block-size:5)\n",
      "CAI of dwave_codon for human : 0.6806920461771745\n",
      "CAI of dwave_codon for ecoli : 0.7994921955064357\n",
      "GC of dwave_codon : 65.50580431177445\n"
     ]
    }
   ],
   "source": [
    "#CAI\n",
    "CAI_hu = CAIs(\"human\")\n",
    "CAI_ec = CAIs(\"ecoli\")\n",
    "\n",
    "CAI_hu(dwave_codon_DNA)\n",
    "CAI_ec(dwave_codon_DNA)\n",
    "\n",
    "print(\"-\"*30)\n",
    "print(\"dwave_codon (block-size:5)\")\n",
    "print(f\"CAI of dwave_codon for human : {CAI_hu(dwave_codon_DNA)}\")\n",
    "print(f\"CAI of dwave_codon for ecoli : {CAI_ec(dwave_codon_DNA)}\")\n",
    "\n",
    "#GC\n",
    "from Bio.SeqUtils import GC\n",
    "GC_dwave = GC(dwave_codon_DNA)\n",
    "print(f\"GC of dwave_codon : {GC_dwave}\")"
   ]
  },
  {
   "cell_type": "markdown",
   "metadata": {},
   "source": [
    "---"
   ]
  },
  {
   "cell_type": "code",
   "execution_count": 43,
   "metadata": {},
   "outputs": [
    {
     "name": "stdout",
     "output_type": "stream",
     "text": [
      "------------------------------\n",
      "dwave_codon (block-size:5)\n",
      "CAI of dwave_codon for human: 0.6577886323903238\n",
      "CAI of dwave_codon for ecoli: 0.8123250512375765\n"
     ]
    }
   ],
   "source": [
    "df_opt_codon = pd.read_csv('./jhlee/rslt/HPDF/HPDF_cS5_nT1_woL.csv', index_col=0)\n",
    "dwave_codon_RNA = \"\".join(df_opt_codon['codon'])\n",
    "dwave_codon_DNA = dwave_codon_RNA.replace(\"U\", \"T\")\n",
    "\n",
    "pct_ec = getFlatPct(\"ecoli\")\n",
    "pct_hu = getFlatPct(\"human\")\n",
    "\n",
    "rscu_hu = get_RSCU_from_ctable(pct_hu)\n",
    "rscu_ec = get_RSCU_from_ctable(pct_ec)\n",
    "\n",
    "CAI_hu_opt_dwave = CAI(dwave_codon_DNA, RSCUs=rscu_hu)\n",
    "CAI_ec_opt_dwave = CAI(dwave_codon_DNA, RSCUs=rscu_ec)\n",
    "\n",
    "print(\"-\"*30)\n",
    "print(\"dwave_codon (block-size:5)\")\n",
    "print(f\"CAI of dwave_codon for human: {CAI_hu_opt_dwave}\")\n",
    "print(f\"CAI of dwave_codon for ecoli: {CAI_ec_opt_dwave}\")\n"
   ]
  },
  {
   "cell_type": "markdown",
   "metadata": {},
   "source": [
    "---\n",
    "# Results (CAI & GC)"
   ]
  },
  {
   "cell_type": "markdown",
   "metadata": {},
   "source": [
    "1. reference codon DNA <br>\n",
    "BiLSTM codon DNA"
   ]
  },
  {
   "cell_type": "code",
   "execution_count": 26,
   "metadata": {},
   "outputs": [],
   "source": [
    "from Bio.SeqUtils import GC\n",
    "ref_codon_DNA = 'GAGGGCCCGGCGCTGCGGCGCTCCTATTGGCGCCACCTGAGGCGTCTGGTGCTGGGTCCTCCCGAACCGCCGTTCTCGCACGTGTGCCAAGTCGGGGACCCGGTGCTGCGCGGCGTGGCGGCCCCGGTGGAGCGGGCGCAGCTAGGCGGGCCCGAGCTGCAGCGGCTGACGCAACGGCTGGTCCAGGTGATGCGGCGGCGGCGCTGCGTGGGCCTAAGCGCGCCGCAGCTGGGGGTGCCGCGGCAGGTGCTGGCGCTGGAGCTCCCCGAGGCGCTGTGTCGGGAGTGCCCGCCCCGCCAGCGCGCGCTCCGCCAAATGGAGCCCTTCCCCCTGCGCGTGTTCGTGAACCCCAGCCTGCGAGTGCTTGACAGCCGCCTGGTCACCTTTCCCGAGGGCTGCGAGAGCGTCGCCGGCTTCCTGGCCTGCGTGCCCCGCTTCCAGGCGGTGCAGATCTCAGGGCTGGACCCCAATGGAGAACAGGTGGTGTGGCAGGCGAGCGGGTGGGCAGCCCGCATCATCCAGCACGAGATGGACCACCTGCAGGGCTGCCTGTTTATTGACAAAATGGACAGCAGGACGTTCACAAACGTCTATTGGATGAAGGTGAATGACTAA'\n",
    "BiLSTM_codon_DNA = 'GAAGGTCCGGCACTGCGTCGTAGCTATTGGCGTCATCTGCGTCGTCTGGTGCTGGGTCCGCCGGAACCGCCGTTTAGCCACGTGTGCCAGGTCGGCGATCCGGTGCTGCGTGGCGTGGCGGCACCGGTGGAACGTGCGCAGCTGGGCGGTCCGGAACTGCAGCGTCTGACCCAGCGTCTGGTGCAGGTGATGCGTCGTCGTCGTTGCGTCGGTCTGAGCGCACCGCAGCTGGGCGTGCCGCGTCAGGTGCTGGCGCTGGAACTGCCGGAAGCGCTGTGCCGTGAATGCCCGCCGCGTCAGCGTGCGCTGCGTCAGATGGAACCGTTTCCGCTGCGCGTGTTTGTTAACCCGAGCCTGCGCGTGCTGGATAGCCGTCTGGTGACCTTTCCGGAAGGCTGCGAAAGCGTGGCGGGTTTTCTGGCGTGCGTGCCGCGTTTTCAGGCGGTGCAGATTTCCGGTCTGGATCCGAACGGCGAACAGGTGGTGTGGCAGGCGAGCGGCTGGGCGGCGCGTATTATTCAGCATGAAATGGATCATCTGCAGGGCTGCCTGTTTATTGATAAAATGGATAGCCGTACCTTTACCAACGTCTATTGGATGAAAGTGAACGATTAA'"
   ]
  },
  {
   "cell_type": "code",
   "execution_count": 27,
   "metadata": {},
   "outputs": [
    {
     "name": "stdout",
     "output_type": "stream",
     "text": [
      "------------------------------\n",
      "reference_codon\n",
      "CAI of ref_codon for human: 0.7876879260559179\n",
      "CAI of ref_codon for ecoli: 0.6626674257312732\n",
      "GC of ref_codon: 69.4308943089431\n",
      "------------------------------\n",
      "BiLSTM_codon\n",
      "CAI of BiLSTM_opt_codon for human: 0.682288617477938\n",
      "CAI of BiLSTM_opt_codon for ecoli: 0.9662881947629263\n",
      "GC of BiLSTM_opt_codon: 62.4390243902439\n"
     ]
    }
   ],
   "source": [
    "CAI_hu = CAIs(\"human\")\n",
    "CAI_ec = CAIs(\"ecoli\")\n",
    "\n",
    "print(\"-\"*30)\n",
    "print(\"reference_codon\")\n",
    "print(f\"CAI of ref_codon for human: {CAI_hu(ref_codon_DNA)}\")\n",
    "print(f\"CAI of ref_codon for ecoli: {CAI_ec(ref_codon_DNA)}\")\n",
    "print(f\"GC of ref_codon: {GC(ref_codon_DNA)}\")\n",
    "print(\"-\"*30)\n",
    "print(\"BiLSTM_codon\")\n",
    "print(f\"CAI of BiLSTM_opt_codon for human: {CAI_hu(BiLSTM_codon_DNA)}\")\n",
    "print(f\"CAI of BiLSTM_opt_codon for ecoli: {CAI_ec(BiLSTM_codon_DNA)}\")\n",
    "print(f\"GC of BiLSTM_opt_codon: {GC(BiLSTM_codon_DNA)}\")\n"
   ]
  },
  {
   "cell_type": "markdown",
   "metadata": {},
   "source": [
    "2. Dwave codon DNA with default weight params"
   ]
  },
  {
   "cell_type": "code",
   "execution_count": 93,
   "metadata": {},
   "outputs": [
    {
     "data": {
      "text/plain": [
       "'GAAGGTCCGGCGCTGCGTCGCAGCTATTGGCGTCATCTGCGTCGCCTCGTGCTCGGACCGCCGGAACCGCCGTTCTCGCATGTGTGTCAGGTTGGCGATCCGGTGCTGCGTGGCGTCGCGGCGCCGGTCGAGCGTGCGCAGCTCGGCGGTCCAGAGCTGCAGCGCCTGACACAGCGTCTGGTGCAGGTGATGCGTCGTCGTCGCTGCGTGGGCCTGAGCGCACCGCAGCTCGGCGTTCCGCGTCAGGTGCTCGCACTCGAGCTGCCGGAAGCGCTGTGTCGCGAGTGTCCGCCGCGTCAGCGCGCTCTGCGTCAGATGGAACCGCCGCTGCGCGTGTTCGTGAATCCGTCTCTGCGCGTGCTCGATAGTCGCCTCGTGACGCCGGAAGGCTGCGAGAGCGTCGCAGGCTTCCTGGCGTGCGTGCCGCGTTTCCAGGCAGTGCAGATCAGCGGCCTCGATCCGAATGGTGAGCAGGTCGTGTGGCAGGCGAGCGGCGCAGCGCGCATCATACAGCATGAGATGGATCATCTGCAAGGCTGTCTGTTCATCGATAAGATGGATTCGCGCACGTTCACCAACGTGTATTGGATGAAGGTGAACGAT'"
      ]
     },
     "execution_count": 93,
     "metadata": {},
     "output_type": "execute_result"
    }
   ],
   "source": [
    "list_dwave_codon = []\n",
    "for x in [3, 5, 40]:\n",
    "    df_opt_codon = pd.read_csv('./result_data/HPDF_bs'+str(x)+'_woL.csv', index_col=0)\n",
    "    dwave_codon_DNA = ''.join(df_opt_codon['codon']).replace(\"U\", \"T\")\n",
    "    \n",
    "\n"
   ]
  },
  {
   "cell_type": "code",
   "execution_count": 40,
   "metadata": {},
   "outputs": [
    {
     "ename": "NameError",
     "evalue": "name 'dwave_opt_codons_3' is not defined",
     "output_type": "error",
     "traceback": [
      "\u001b[0;31m---------------------------------------------------------------------------\u001b[0m",
      "\u001b[0;31mNameError\u001b[0m                                 Traceback (most recent call last)",
      "\u001b[0;32m/var/folders/sk/_pw8yxgn2b7d1scl0rnlhkp80000gn/T/ipykernel_18508/2200973179.py\u001b[0m in \u001b[0;36m<module>\u001b[0;34m\u001b[0m\n\u001b[1;32m      1\u001b[0m \u001b[0mdf_opt_codon\u001b[0m \u001b[0;34m=\u001b[0m \u001b[0mpd\u001b[0m\u001b[0;34m.\u001b[0m\u001b[0mread_csv\u001b[0m\u001b[0;34m(\u001b[0m\u001b[0;34m'./result_data/HPDF_bs5_woL.csv'\u001b[0m\u001b[0;34m,\u001b[0m \u001b[0mindex_col\u001b[0m\u001b[0;34m=\u001b[0m\u001b[0;36m0\u001b[0m\u001b[0;34m)\u001b[0m\u001b[0;34m\u001b[0m\u001b[0;34m\u001b[0m\u001b[0m\n\u001b[0;32m----> 2\u001b[0;31m \u001b[0mdwave_codon_RNA_3\u001b[0m \u001b[0;34m=\u001b[0m \u001b[0;34m''\u001b[0m\u001b[0;34m.\u001b[0m\u001b[0mjoin\u001b[0m\u001b[0;34m(\u001b[0m\u001b[0msum\u001b[0m\u001b[0;34m(\u001b[0m\u001b[0mdwave_opt_codons_3\u001b[0m\u001b[0;34m,\u001b[0m \u001b[0;34m[\u001b[0m\u001b[0;34m]\u001b[0m\u001b[0;34m)\u001b[0m\u001b[0;34m)\u001b[0m\u001b[0;34m\u001b[0m\u001b[0;34m\u001b[0m\u001b[0m\n\u001b[0m\u001b[1;32m      3\u001b[0m \u001b[0mdwave_codon_DNA_3\u001b[0m \u001b[0;34m=\u001b[0m \u001b[0mdwave_codon_RNA_3\u001b[0m\u001b[0;34m.\u001b[0m\u001b[0mreplace\u001b[0m\u001b[0;34m(\u001b[0m\u001b[0;34m\"U\"\u001b[0m\u001b[0;34m,\u001b[0m \u001b[0;34m\"T\"\u001b[0m\u001b[0;34m)\u001b[0m\u001b[0;34m\u001b[0m\u001b[0;34m\u001b[0m\u001b[0m\n\u001b[1;32m      4\u001b[0m \u001b[0;34m\u001b[0m\u001b[0m\n\u001b[1;32m      5\u001b[0m \u001b[0mCAI_hu_opt_dwave_3\u001b[0m \u001b[0;34m=\u001b[0m \u001b[0mCAI\u001b[0m\u001b[0;34m(\u001b[0m\u001b[0mdwave_codon_DNA_3\u001b[0m\u001b[0;34m,\u001b[0m \u001b[0mRSCUs\u001b[0m\u001b[0;34m=\u001b[0m\u001b[0mrscu_hu\u001b[0m\u001b[0;34m)\u001b[0m\u001b[0;34m\u001b[0m\u001b[0;34m\u001b[0m\u001b[0m\n",
      "\u001b[0;31mNameError\u001b[0m: name 'dwave_opt_codons_3' is not defined"
     ]
    }
   ],
   "source": [
    "df_opt_codon = pd.read_csv('./result_data/HPDF_bs5_woL.csv', index_col=0)\n",
    "dwave_codon_RNA_3 = ''.join(df_opt_codon['codon'])\n",
    "dwave_codon_DNA_3 = dwave_codon_RNA_3.replace(\"U\", \"T\")\n",
    "\n",
    "CAI_hu_opt_dwave_3 = CAI(dwave_codon_DNA_3, RSCUs=rscu_hu)\n",
    "CAI_ec_opt_dwave_3 = CAI(dwave_codon_DNA_3, RSCUs=rscu_ec)\n",
    "\n",
    "\n",
    "dwave_codon_RNA_5 = ''.join(sum(dwave_opt_codons_5, []))\n",
    "dwave_codon_DNA_5 = dwave_codon_RNA_5.replace(\"U\", \"T\")\n",
    "\n",
    "CAI_hu_opt_dwave_5 = CAI(dwave_codon_DNA_5, RSCUs=rscu_hu)\n",
    "CAI_ec_opt_dwave_5 = CAI(dwave_codon_DNA_5, RSCUs=rscu_ec)\n",
    "\n",
    "\n",
    "\n",
    "\n",
    "\n",
    "print(\"-\"*30)\n",
    "print(\"dwave_codon (block-size:3)\")\n",
    "print(f\"CAI of dwave_codon for human: {CAI_hu_opt_dwave_3}\")\n",
    "print(f\"CAI of dwave_codon for ecoli: {CAI_ec_opt_dwave_3}\")\n",
    "\n",
    "print(\"-\"*30)\n",
    "print(\"dwave_codon (block-size:5)\")\n",
    "print(f\"CAI of dwave_codon for human: {CAI_hu_opt_dwave_5}\")\n",
    "print(f\"CAI of dwave_codon for ecoli: {CAI_ec_opt_dwave_5}\")\n",
    "\n",
    "\n",
    "\n",
    "## can compare CAI result from genscript website\n",
    "# genscript web link: https://www.genscript.com/tools/rare-codon-analysis\n",
    "# biologics web link: https://www.biologicscorp.com/tools/RareCodonAnalyzer/#.YdZJfd_P1D8"
   ]
  },
  {
   "cell_type": "code",
   "execution_count": null,
   "metadata": {},
   "outputs": [],
   "source": []
  }
 ],
 "metadata": {
  "interpreter": {
   "hash": "f304fe83a987da69560ad8cbf49f5d4b3a11110d6ce26e357909839cba408fe0"
  },
  "kernelspec": {
   "display_name": "Python 3.9.7 64-bit ('bio': conda)",
   "language": "python",
   "name": "python3"
  },
  "language_info": {
   "codemirror_mode": {
    "name": "ipython",
    "version": 3
   },
   "file_extension": ".py",
   "mimetype": "text/x-python",
   "name": "python",
   "nbconvert_exporter": "python",
   "pygments_lexer": "ipython3",
   "version": "3.9.7"
  },
  "orig_nbformat": 4
 },
 "nbformat": 4,
 "nbformat_minor": 2
}
