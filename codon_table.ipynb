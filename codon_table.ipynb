{
 "cells": [
  {
   "cell_type": "code",
   "execution_count": 11,
   "metadata": {},
   "outputs": [],
   "source": [
    "import python_codon_tables as pct\n",
    "import pandas as pd\n",
    "import numpy as np\n",
    "import matplotlib.pyplot as plt\n",
    "# PRINT THE LIST OF NAMES OF ALL AVAILABLE TABLES\n",
    "\n",
    "from codon_hamiltonian import *"
   ]
  },
  {
   "cell_type": "code",
   "execution_count": 12,
   "metadata": {},
   "outputs": [
    {
     "name": "stdout",
     "output_type": "stream",
     "text": [
      "Available tables: ['b_subtilis_1423', 'd_melanogaster_7227', 'm_musculus_domesticus_10092', 'm_musculus_10090', 'e_coli_316407', 'g_gallus_9031', 'c_elegans_6239', 's_cerevisiae_4932', 'h_sapiens_9606']\n"
     ]
    }
   ],
   "source": [
    "print ('Available tables:', pct.available_codon_tables_names)\n",
    "table = pct.get_codons_table('e_coli_316407')"
   ]
  },
  {
   "cell_type": "code",
   "execution_count": null,
   "metadata": {},
   "outputs": [],
   "source": [
    "HPDF_amino = 'EGPALRRSYWRHLRRLVLGPPEPPFSHVCQVGDPVLRGVAAPVERAQLGGPELQRLTQRLVQVMRRRRCVGLSAPQLGVPRQVLALELPEALCRECPPRQRALRQMEPFPLRVFVNPSLRVLDSRLVTFPEGCESVAGFLACVPRFQAVQISGLDPNGEQVVWQASGWAARIIQHEMDHLQGCLFIDKMDSRTFTNVYWMKVND'\n",
    "input_amino = HPDF_amino"
   ]
  },
  {
   "cell_type": "markdown",
   "metadata": {},
   "source": [
    "# Codon Usage Tables"
   ]
  },
  {
   "cell_type": "code",
   "execution_count": null,
   "metadata": {},
   "outputs": [],
   "source": [
    "#Table\n",
    "col1 = input_amino\n",
    "col2 = []\n",
    "for x in input_amino:\n",
    "    value_list = list(table[x].values())\n",
    "    key_list = list(table[x].keys())\n",
    "    col2.append(key_list[value_list.index(max(value_list))].replace('T','U'))\n",
    "\n",
    "\n",
    "two_dim_list = [[col1[x], col2[x]] for x in range(len(input_amino))]\n",
    "\n",
    "\n",
    "my_data = pd.DataFrame(two_dim_list, columns = ['Amino acid sequence', 'Codon with high freq'])\n",
    "pd.set_option('display.max_rows', None)\n",
    "pd.set_option('display.max_columns', None)\n",
    "pd.set_option('display.width', None)\n",
    "print(my_data)"
   ]
  },
  {
   "cell_type": "code",
   "execution_count": 6,
   "metadata": {},
   "outputs": [],
   "source": [
    "table_codon_RNA = \"\".join(col2)\n",
    "table_codon_RNA = [x for x in table_codon_RNA]"
   ]
  },
  {
   "cell_type": "code",
   "execution_count": 5,
   "metadata": {},
   "outputs": [
    {
     "name": "stdout",
     "output_type": "stream",
     "text": [
      "Available tables: ['b_subtilis_1423', 'd_melanogaster_7227', 'm_musculus_domesticus_10092', 'm_musculus_10090', 'e_coli_316407', 'g_gallus_9031', 'c_elegans_6239', 's_cerevisiae_4932', 'h_sapiens_9606']\n"
     ]
    }
   ],
   "source": [
    "print ('Available tables:', pct.available_codon_tables_names)\n",
    "table = pct.get_codons_table('h_sapiens_9606')"
   ]
  },
  {
   "cell_type": "code",
   "execution_count": 7,
   "metadata": {},
   "outputs": [
    {
     "data": {
      "text/plain": [
       "[{'GAA': 0.42, 'GAG': 0.58},\n",
       " {'GGA': 0.25, 'GGC': 0.34, 'GGG': 0.25, 'GGT': 0.16},\n",
       " {'CCA': 0.28, 'CCC': 0.32, 'CCG': 0.11, 'CCT': 0.29},\n",
       " {'GCA': 0.23, 'GCC': 0.4, 'GCG': 0.11, 'GCT': 0.27},\n",
       " {'CTA': 0.07, 'CTC': 0.2, 'CTG': 0.4, 'CTT': 0.13, 'TTA': 0.08, 'TTG': 0.13},\n",
       " {'AGA': 0.21, 'AGG': 0.21, 'CGA': 0.11, 'CGC': 0.18, 'CGG': 0.2, 'CGT': 0.08},\n",
       " {'TGC': 0.54, 'TGT': 0.46}]"
      ]
     },
     "execution_count": 7,
     "metadata": {},
     "output_type": "execute_result"
    }
   ],
   "source": [
    "[table['E'], table['G'], table['P'], table['A'], table['L'], table['R'], table['C']]"
   ]
  },
  {
   "cell_type": "code",
   "execution_count": 14,
   "metadata": {},
   "outputs": [],
   "source": [
    "table = pct.get_codons_table('h_sapiens_9606')"
   ]
  },
  {
   "cell_type": "code",
   "execution_count": 15,
   "metadata": {},
   "outputs": [
    {
     "data": {
      "text/plain": [
       "{'GCA': 0.23, 'GCC': 0.4, 'GCG': 0.11, 'GCT': 0.27}"
      ]
     },
     "execution_count": 15,
     "metadata": {},
     "output_type": "execute_result"
    }
   ],
   "source": [
    "table['A']"
   ]
  },
  {
   "cell_type": "code",
   "execution_count": null,
   "metadata": {},
   "outputs": [],
   "source": []
  },
  {
   "cell_type": "markdown",
   "metadata": {},
   "source": [
    "Codon from D-wave"
   ]
  },
  {
   "cell_type": "code",
   "execution_count": 20,
   "metadata": {},
   "outputs": [],
   "source": [
    "df_opt_codon = pd.read_csv('./result_data/HPDF_bs'+str(4)+'_c_f_1.csv', index_col=0)\n",
    "dwave_codon_RNA = \"\".join(df_opt_codon['codon'])"
   ]
  },
  {
   "cell_type": "markdown",
   "metadata": {},
   "source": [
    "Check coincidence between two seqs"
   ]
  },
  {
   "cell_type": "code",
   "execution_count": 18,
   "metadata": {},
   "outputs": [
    {
     "data": {
      "text/plain": [
       "array([], shape=(0, 1), dtype=int64)"
      ]
     },
     "execution_count": 18,
     "metadata": {},
     "output_type": "execute_result"
    }
   ],
   "source": [
    "np.argwhere(~(np.array(table_codon_RNA) == np.array([x for x in dwave_codon_RNA])))"
   ]
  },
  {
   "cell_type": "markdown",
   "metadata": {},
   "source": [
    "CAI \\& GC"
   ]
  },
  {
   "cell_type": "code",
   "execution_count": 19,
   "metadata": {},
   "outputs": [
    {
     "name": "stdout",
     "output_type": "stream",
     "text": [
      "------------------------------\n",
      "dwave_codon (block-size:5)\n",
      "CAI of dwave_codon for human : 0.7669328657067714\n",
      "CAI of dwave_codon for ecoli : 1.0\n",
      "GC of dwave_codon : 67.81045751633987\n"
     ]
    }
   ],
   "source": [
    "#CAI\n",
    "CAI_hu = CAIs(\"human\")\n",
    "CAI_ec = CAIs(\"ecoli\")\n",
    "\n",
    "CAI_hu(dwave_codon_RNA)\n",
    "CAI_ec(dwave_codon_RNA)\n",
    "\n",
    "print(\"-\"*30)\n",
    "print(\"dwave_codon (block-size:5)\")\n",
    "print(f\"CAI of dwave_codon for human : {CAI_hu(dwave_codon_RNA)}\")\n",
    "print(f\"CAI of dwave_codon for ecoli : {CAI_ec(dwave_codon_RNA)}\")\n",
    "\n",
    "#GC\n",
    "from Bio.SeqUtils import GC\n",
    "GC_dwave = GC(dwave_codon_RNA)\n",
    "print(f\"GC of dwave_codon : {GC_dwave}\")"
   ]
  },
  {
   "cell_type": "markdown",
   "metadata": {},
   "source": [
    "# Count GC"
   ]
  },
  {
   "cell_type": "code",
   "execution_count": 37,
   "metadata": {},
   "outputs": [],
   "source": [
    "input_list = []\n",
    "codon_freq_list = []\n",
    "GC_list = []\n",
    "\n",
    "for aa, val in table.items():\n",
    "    #print('Amino Acid:', aa)\n",
    "    for cd, cuf in val.items():\n",
    "        input = aa + ': ' + cd\n",
    "        input_list.append(input)\n",
    "        \n",
    "        # codon usage frequency\n",
    "        codon_freq_list.append(cuf)\n",
    "\n",
    "        # Counting G and C\n",
    "        counts_G = cd.count('G')\n",
    "        counts_C = cd.count('C')\n",
    "        GC_list.append(counts_G+counts_C)"
   ]
  },
  {
   "cell_type": "code",
   "execution_count": 39,
   "metadata": {},
   "outputs": [
    {
     "data": {
      "text/plain": [
       "64"
      ]
     },
     "execution_count": 39,
     "metadata": {},
     "output_type": "execute_result"
    }
   ],
   "source": [
    "len(codon_freq_list)"
   ]
  },
  {
   "cell_type": "code",
   "execution_count": 40,
   "metadata": {},
   "outputs": [
    {
     "data": {
      "text/plain": [
       "64"
      ]
     },
     "execution_count": 40,
     "metadata": {},
     "output_type": "execute_result"
    }
   ],
   "source": [
    "len(GC_list)"
   ]
  },
  {
   "cell_type": "code",
   "execution_count": 57,
   "metadata": {},
   "outputs": [
    {
     "data": {
      "image/png": "[encoded data removed]",
      "text/plain": [
       "<Figure size 2160x720 with 1 Axes>"
      ]
     },
     "metadata": {
      "needs_background": "light"
     },
     "output_type": "display_data"
    }
   ],
   "source": [
    "rslt_df = pd.DataFrame(list(zip(codon_freq_list, GC_list)),\n",
    "                        columns=['codon frequency', \"the number of GC\"],\n",
    "                        index = input_list)\n",
    "rslt_df.plot.bar(figsize=(30,10), fontsize=20)\n",
    "plt.legend(fontsize=20)\n",
    "plt.show()"
   ]
  },
  {
   "cell_type": "code",
   "execution_count": 46,
   "metadata": {},
   "outputs": [
    {
     "data": {
      "text/plain": [
       "1.5238095238095237"
      ]
     },
     "execution_count": 46,
     "metadata": {},
     "output_type": "execute_result"
    }
   ],
   "source": [
    "sum(GC_list)/63"
   ]
  },
  {
   "cell_type": "code",
   "execution_count": null,
   "metadata": {},
   "outputs": [],
   "source": []
  }
 ],
 "metadata": {
  "interpreter": {
   "hash": "abe626738721236f1504eb894511b6169afd3345fc40cffcbaf0df64abc2480c"
  },
  "kernelspec": {
   "display_name": "Python 3.9.7 64-bit ('dwave_ocean': conda)",
   "language": "python",
   "name": "python3"
  },
  "language_info": {
   "codemirror_mode": {
    "name": "ipython",
    "version": 3
   },
   "file_extension": ".py",
   "mimetype": "text/x-python",
   "name": "python",
   "nbconvert_exporter": "python",
   "pygments_lexer": "ipython3",
   "version": "3.10.2"
  },
  "orig_nbformat": 4
 },
 "nbformat": 4,
 "nbformat_minor": 2
}
