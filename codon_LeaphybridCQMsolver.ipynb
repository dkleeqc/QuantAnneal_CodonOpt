{
 "cells": [
  {
   "cell_type": "code",
   "execution_count": 1,
   "metadata": {},
   "outputs": [],
   "source": [
    "import os\n",
    "import functools\n",
    "from itertools import groupby\n",
    "import operator\n",
    "from collections import defaultdict, Counter\n",
    "\n",
    "import numpy as np\n",
    "import pandas as pd\n",
    "import matplotlib.pyplot as plt\n",
    "\n",
    "from Bio.SeqUtils.ProtParam import ProteinAnalysis\n",
    "from Bio.Seq import Seq\n",
    "\n",
    "from dwave.system import LeapHybridCQMSampler\n",
    "from dimod import Binary, ConstrainedQuadraticModel\n",
    "\n",
    "from codon_hamiltonian import *"
   ]
  },
  {
   "cell_type": "code",
   "execution_count": 2,
   "metadata": {},
   "outputs": [],
   "source": [
    "ref_HPDF_DNA = 'GAGGGCCCGGCGCTGCGGCGCTCCTATTGGCGCCACCTGAGGCGTCTGGTGCTGGGTCCTCCCGAACCGCCGTTCTCGCACGTGTGCCAAGTCGGGGACCCGGTGCTGCGCGGCGTGGCGGCCCCGGTGGAGCGGGCGCAGCTAGGCGGGCCCGAGCTGCAGCGGCTGACGCAACGGCTGGTCCAGGTGATGCGGCGGCGGCGCTGCGTGGGCCTAAGCGCGCCGCAGCTGGGGGTGCCGCGGCAGGTGCTGGCGCTGGAGCTCCCCGAGGCGCTGTGTCGGGAGTGCCCGCCCCGCCAGCGCGCGCTCCGCCAAATGGAGCCCTTCCCCCTGCGCGTGTTCGTGAACCCCAGCCTGCGAGTGCTTGACAGCCGCCTGGTCACCTTTCCCGAGGGCTGCGAGAGCGTCGCCGGCTTCCTGGCCTGCGTGCCCCGCTTCCAGGCGGTGCAGATCTCAGGGCTGGACCCCAATGGAGAACAGGTGGTGTGGCAGGCGAGCGGGTGGGCAGCCCGCATCATCCAGCACGAGATGGACCACCTGCAGGGCTGCCTGTTTATTGACAAAATGGACAGCAGGACGTTCACAAACGTCTATTGGATGAAGGTGAATGAC'\n",
    "HPDF_amino = 'EGPALRRSYWRHLRRLVLGPPEPPFSHVCQVGDPVLRGVAAPVERAQLGGPELQRLTQRLVQVMRRRRCVGLSAPQLGVPRQVLALELPEALCRECPPRQRALRQMEPFPLRVFVNPSLRVLDSRLVTFPEGCESVAGFLACVPRFQAVQISGLDPNGEQVVWQASGWAARIIQHEMDHLQGCLFIDKMDSRTFTNVYWMKVND'"
   ]
  },
  {
   "cell_type": "markdown",
   "metadata": {},
   "source": [
    "## 1. Construct Constraint Quadratic Models"
   ]
  },
  {
   "cell_type": "markdown",
   "metadata": {},
   "source": [
    "### 1-1. Codon Objectives"
   ]
  },
  {
   "cell_type": "code",
   "execution_count": 3,
   "metadata": {},
   "outputs": [],
   "source": [
    "block_size = 5\n",
    "block_position = 0\n",
    "\n",
    "#amino_fragment = fragmenting_amino_acid_seq(HPDF_amino, block_size, block_position)\n",
    "#H_codon = Codon_Hamiltonian(amino_fragment, weight_params={})\n",
    "H_codon = Codon_Hamiltonian(HPDF_amino, weight_params={})\n",
    "\n",
    "cqm = ConstrainedQuadraticModel()"
   ]
  },
  {
   "cell_type": "markdown",
   "metadata": {},
   "source": [
    "#### 1-1-1. Codon Usage Bias"
   ]
  },
  {
   "cell_type": "markdown",
   "metadata": {},
   "source": [
    "$$\n",
    "\\min \\sum^N_{i} - (\\log f_i)q_i,\n",
    "$$\n",
    "where $f_{i|k}$ is the frequency of codon usage for $i$th synonymous codon in amino acid $k$. <br>\n",
    "One can find these values from the codon usage table."
   ]
  },
  {
   "cell_type": "code",
   "execution_count": 4,
   "metadata": {},
   "outputs": [],
   "source": [
    "var_q = [Binary(f'q_{i}') for i in range(H_codon.N)]\n",
    "cub_ec_obj = sum((-1) * H_codon.vec_zeta(host='e_coli_316407') * var_q)\n",
    "cub_hu_obj = sum((-1) * H_codon.vec_zeta(host='h_sapiens_9606') * var_q)\n",
    "#cqm.set_objective(codon_objective)"
   ]
  },
  {
   "cell_type": "code",
   "execution_count": 5,
   "metadata": {},
   "outputs": [],
   "source": [
    "cub_obj = cub_ec_obj + cub_hu_obj\n",
    "#cub_obj"
   ]
  },
  {
   "cell_type": "markdown",
   "metadata": {},
   "source": [
    "#### 1-1-2. Codon Pair Usage Bias"
   ]
  },
  {
   "cell_type": "markdown",
   "metadata": {},
   "source": [
    "**Codon Pair Score**\n",
    "$$\n",
    "CPS(i, l, j, l+1) = \\ln f_{ij|l(l+1)} - \\ln f_{i|l} - \\ln f_{j|l+1}\n",
    "$$"
   ]
  },
  {
   "cell_type": "code",
   "execution_count": 6,
   "metadata": {},
   "outputs": [
    {
     "data": {
      "text/html": [
       "<div>\n",
       "<style scoped>\n",
       "    .dataframe tbody tr th:only-of-type {\n",
       "        vertical-align: middle;\n",
       "    }\n",
       "\n",
       "    .dataframe tbody tr th {\n",
       "        vertical-align: top;\n",
       "    }\n",
       "\n",
       "    .dataframe thead th {\n",
       "        text-align: right;\n",
       "    }\n",
       "</style>\n",
       "<table border=\"1\" class=\"dataframe\">\n",
       "  <thead>\n",
       "    <tr style=\"text-align: right;\">\n",
       "      <th></th>\n",
       "      <th>AminoPair</th>\n",
       "      <th>CodonPair</th>\n",
       "      <th>Observed</th>\n",
       "      <th>Expected</th>\n",
       "      <th>Ob/Ex</th>\n",
       "      <th>CPS</th>\n",
       "    </tr>\n",
       "  </thead>\n",
       "  <tbody>\n",
       "    <tr>\n",
       "      <th>0</th>\n",
       "      <td>AA</td>\n",
       "      <td>GCTGCA</td>\n",
       "      <td>1078</td>\n",
       "      <td>849.0720</td>\n",
       "      <td>1.269621</td>\n",
       "      <td>0.238719</td>\n",
       "    </tr>\n",
       "    <tr>\n",
       "      <th>1</th>\n",
       "      <td>AA</td>\n",
       "      <td>GCCGCG</td>\n",
       "      <td>1751</td>\n",
       "      <td>2456.2440</td>\n",
       "      <td>0.712877</td>\n",
       "      <td>-0.338446</td>\n",
       "    </tr>\n",
       "    <tr>\n",
       "      <th>2</th>\n",
       "      <td>AA</td>\n",
       "      <td>GCCGCA</td>\n",
       "      <td>1725</td>\n",
       "      <td>1432.8090</td>\n",
       "      <td>1.203929</td>\n",
       "      <td>0.185590</td>\n",
       "    </tr>\n",
       "    <tr>\n",
       "      <th>3</th>\n",
       "      <td>AA</td>\n",
       "      <td>GCCGCC</td>\n",
       "      <td>2238</td>\n",
       "      <td>1842.1830</td>\n",
       "      <td>1.214863</td>\n",
       "      <td>0.194631</td>\n",
       "    </tr>\n",
       "    <tr>\n",
       "      <th>4</th>\n",
       "      <td>AA</td>\n",
       "      <td>GCCGCT</td>\n",
       "      <td>1314</td>\n",
       "      <td>1091.6640</td>\n",
       "      <td>1.203667</td>\n",
       "      <td>0.185373</td>\n",
       "    </tr>\n",
       "    <tr>\n",
       "      <th>...</th>\n",
       "      <td>...</td>\n",
       "      <td>...</td>\n",
       "      <td>...</td>\n",
       "      <td>...</td>\n",
       "      <td>...</td>\n",
       "      <td>...</td>\n",
       "    </tr>\n",
       "    <tr>\n",
       "      <th>3716</th>\n",
       "      <td>YW</td>\n",
       "      <td>TACTGG</td>\n",
       "      <td>996</td>\n",
       "      <td>493.2100</td>\n",
       "      <td>2.019424</td>\n",
       "      <td>0.702812</td>\n",
       "    </tr>\n",
       "    <tr>\n",
       "      <th>3717</th>\n",
       "      <td>YY</td>\n",
       "      <td>TATTAT</td>\n",
       "      <td>547</td>\n",
       "      <td>833.0436</td>\n",
       "      <td>0.656628</td>\n",
       "      <td>-0.420637</td>\n",
       "    </tr>\n",
       "    <tr>\n",
       "      <th>3718</th>\n",
       "      <td>YY</td>\n",
       "      <td>TATTAC</td>\n",
       "      <td>906</td>\n",
       "      <td>628.4364</td>\n",
       "      <td>1.441673</td>\n",
       "      <td>0.365804</td>\n",
       "    </tr>\n",
       "    <tr>\n",
       "      <th>3719</th>\n",
       "      <td>YY</td>\n",
       "      <td>TACTAT</td>\n",
       "      <td>428</td>\n",
       "      <td>628.4364</td>\n",
       "      <td>0.681055</td>\n",
       "      <td>-0.384112</td>\n",
       "    </tr>\n",
       "    <tr>\n",
       "      <th>3720</th>\n",
       "      <td>YY</td>\n",
       "      <td>TACTAC</td>\n",
       "      <td>683</td>\n",
       "      <td>474.0836</td>\n",
       "      <td>1.440674</td>\n",
       "      <td>0.365111</td>\n",
       "    </tr>\n",
       "  </tbody>\n",
       "</table>\n",
       "<p>3721 rows × 6 columns</p>\n",
       "</div>"
      ],
      "text/plain": [
       "     AminoPair CodonPair  Observed   Expected     Ob/Ex       CPS\n",
       "0           AA    GCTGCA      1078   849.0720  1.269621  0.238719\n",
       "1           AA    GCCGCG      1751  2456.2440  0.712877 -0.338446\n",
       "2           AA    GCCGCA      1725  1432.8090  1.203929  0.185590\n",
       "3           AA    GCCGCC      2238  1842.1830  1.214863  0.194631\n",
       "4           AA    GCCGCT      1314  1091.6640  1.203667  0.185373\n",
       "...        ...       ...       ...        ...       ...       ...\n",
       "3716        YW    TACTGG       996   493.2100  2.019424  0.702812\n",
       "3717        YY    TATTAT       547   833.0436  0.656628 -0.420637\n",
       "3718        YY    TATTAC       906   628.4364  1.441673  0.365804\n",
       "3719        YY    TACTAT       428   628.4364  0.681055 -0.384112\n",
       "3720        YY    TACTAC       683   474.0836  1.440674  0.365111\n",
       "\n",
       "[3721 rows x 6 columns]"
      ]
     },
     "execution_count": 6,
     "metadata": {},
     "output_type": "execute_result"
    }
   ],
   "source": [
    "host = 'ecoli' #'human'\n",
    "pcpt = pd.read_csv('./CodonPair_jhlee/CPS_'+host+'.csv')\n",
    "pcpt"
   ]
  },
  {
   "cell_type": "markdown",
   "metadata": {},
   "source": [
    "$$\n",
    "\\min \\sum^{N-1}_{l=1} - CPS(i,l,j,l+1)q_{i|l}q_{j|l+1},\n",
    "$$"
   ]
  },
  {
   "cell_type": "code",
   "execution_count": 7,
   "metadata": {},
   "outputs": [],
   "source": [
    "mat_ec = H_codon.matrix_CPS(host='ecoli')\n",
    "mat_hu = H_codon.matrix_CPS(host='human')\n",
    "nonzeros = np.argwhere(mat_ec)\n",
    "cpub_ec_obj = 0\n",
    "cpub_hu_obj = 0\n",
    "for pos in nonzeros:\n",
    "    i,j = pos\n",
    "    cpub_ec_obj -= mat_ec[i,j] * var_q[i] * var_q[j]\n",
    "    cpub_hu_obj -= mat_hu[i,j] * var_q[i] * var_q[j]"
   ]
  },
  {
   "cell_type": "markdown",
   "metadata": {},
   "source": [
    "#### 1-1-3. Repeated Nucleotides"
   ]
  },
  {
   "cell_type": "markdown",
   "metadata": {},
   "source": [
    "$$\n",
    "\\mathcal{H}_R = c_R\\sum^N_i\\sum^{N}_{j<i} R_{ij}q_iq_j,\n",
    "$$\n",
    "$$\n",
    "R_{ij} = r(C_i, C_J) \\kappa_{i,j}\n",
    "$$"
   ]
  },
  {
   "cell_type": "code",
   "execution_count": 8,
   "metadata": {},
   "outputs": [],
   "source": [
    "H_codon.matrix_R()\n",
    "\n",
    "R = H_codon.matrix_R()\n",
    "nonzeros = np.argwhere(R)\n",
    "rep_nuc_obj = 0\n",
    "for pos in nonzeros:\n",
    "    i,j = pos\n",
    "    #print(R[i,j],f\"({i},{j})\")\n",
    "    rep_nuc_obj += R[i,j] * var_q[i] * var_q[j]\n",
    "#codon_objective2 = 0.1 * codon_objective2\n",
    "#cqm.set_objective(codon_objective2)"
   ]
  },
  {
   "cell_type": "markdown",
   "metadata": {},
   "source": [
    "* test"
   ]
  },
  {
   "cell_type": "code",
   "execution_count": 9,
   "metadata": {},
   "outputs": [],
   "source": [
    "wp = {'cub_ec': 1, 'cub_hu': 1, 'cpub_ec': 1, 'cpub_hu': 1, 'rep_nuc': 1}\n",
    "cqm.set_objective(wp['cub_ec']*cub_ec_obj + wp['cub_hu']*cub_hu_obj \\\n",
    "                    + wp['cpub_ec']*cpub_ec_obj + wp['cpub_hu']*cpub_hu_obj + wp['rep_nuc']*rep_nuc_obj)"
   ]
  },
  {
   "cell_type": "markdown",
   "metadata": {},
   "source": [
    "### 1-2 Constraints"
   ]
  },
  {
   "cell_type": "markdown",
   "metadata": {},
   "source": [
    "#### Constraint 1: Only one codon per amino acid"
   ]
  },
  {
   "cell_type": "markdown",
   "metadata": {},
   "source": [
    "$$\n",
    "\\sum_{i_a=1}^{N_a} q_i = 1, \\forall a \\in \\text{amino acid seq}\n",
    "$$\n",
    "$i_a$ denotes possible codon in position $i$ for an amino acid $a$ <br>\n",
    "$N_a$ denotes the number of all possible codons for an amino acid $a$"
   ]
  },
  {
   "cell_type": "code",
   "execution_count": 10,
   "metadata": {},
   "outputs": [],
   "source": [
    "N_accumulated = 0\n",
    "for aa in range(H_codon.len_aa_seq):\n",
    "    #print('amino acid:',aa)\n",
    "    \n",
    "    # the number of codons per amino acid\n",
    "    num_c_per_aa = len(H_codon.list_all_possible_codons[aa])\n",
    "\n",
    "    # Constraints per amino acid\n",
    "    one_amino_acid = [var_q[i] for i in range(N_accumulated, N_accumulated+num_c_per_aa)]\n",
    "\n",
    "    # Add Constraints\n",
    "    cqm.add_constraint(sum(one_amino_acid) == 1, label=f'Codon Selection in position {aa}, \"{H_codon.amino_acid_seq[aa]}\"')\n",
    "        \n",
    "    # the cumulative number of all possible codons\n",
    "    N_accumulated += num_c_per_aa"
   ]
  },
  {
   "cell_type": "markdown",
   "metadata": {},
   "source": [
    "#### Constraint 2: GC contents"
   ]
  },
  {
   "cell_type": "markdown",
   "metadata": {},
   "source": [
    "$$\n",
    "\\rho_{GC} := \\frac{1}{L}\\sum_i s_iq_i \n",
    "$$"
   ]
  },
  {
   "cell_type": "code",
   "execution_count": 11,
   "metadata": {},
   "outputs": [],
   "source": [
    "gc_avg_constraint = sum(H_codon.vec_s() * var_q) / H_codon.L"
   ]
  },
  {
   "cell_type": "markdown",
   "metadata": {},
   "source": [
    "$$\n",
    "\\rho_{GC} = \\rho_T\n",
    "$$"
   ]
  },
  {
   "cell_type": "code",
   "execution_count": 12,
   "metadata": {},
   "outputs": [],
   "source": [
    "rho_T= 0.7\n",
    "bound = 0.0\n",
    "#cqm.add_constraint(gc_avg_constraint == rho_T, label=f'GC average: {rho_T}')"
   ]
  },
  {
   "cell_type": "markdown",
   "metadata": {},
   "source": [
    "$$\n",
    "|\\rho_{GC}-\\rho_T | \\le B_\\rho\n",
    "$$"
   ]
  },
  {
   "cell_type": "code",
   "execution_count": 13,
   "metadata": {},
   "outputs": [
    {
     "data": {
      "text/plain": [
       "'lower bound of GC average: 0.7'"
      ]
     },
     "execution_count": 13,
     "metadata": {},
     "output_type": "execute_result"
    }
   ],
   "source": [
    "rho_T= 0.7\n",
    "bound = 0.0\n",
    "cqm.add_constraint(gc_avg_constraint - rho_T <= bound, label=f'upper bound of GC average: {rho_T}')\n",
    "cqm.add_constraint(gc_avg_constraint - rho_T >= - bound, label=f'lower bound of GC average: {rho_T}')"
   ]
  },
  {
   "cell_type": "markdown",
   "metadata": {},
   "source": [
    "### 1-2. LeaphybridCQMSolver"
   ]
  },
  {
   "cell_type": "code",
   "execution_count": 14,
   "metadata": {},
   "outputs": [],
   "source": [
    "sampler = LeapHybridCQMSampler()"
   ]
  },
  {
   "cell_type": "code",
   "execution_count": null,
   "metadata": {},
   "outputs": [],
   "source": [
    "sampleset = sampler.sample_cqm(cqm,\n",
    "                                #time_limit=20,    \n",
    "                                label=\"Codon CQM\")\n",
    "feasible_sampleset = sampleset.filter(lambda row: row.is_feasible)\n",
    "if len(feasible_sampleset):\n",
    "    best = feasible_sampleset.first\n",
    "    print(\"{} feasible solutions of {}.\".format(\n",
    "        len(feasible_sampleset), len(sampleset)))"
   ]
  },
  {
   "cell_type": "code",
   "execution_count": null,
   "metadata": {},
   "outputs": [
    {
     "ename": "NameError",
     "evalue": "name 'best' is not defined",
     "output_type": "error",
     "traceback": [
      "\u001b[0;31m---------------------------------------------------------------------------\u001b[0m",
      "\u001b[0;31mNameError\u001b[0m                                 Traceback (most recent call last)",
      "\u001b[1;32m/Users/Mac_DK/Documents/python/codon_hamiltonian/codon_LeaphybridCQMsolver.ipynb Cell 35'\u001b[0m in \u001b[0;36m<module>\u001b[0;34m\u001b[0m\n\u001b[0;32m----> <a href='vscode-notebook-cell:/Users/Mac_DK/Documents/python/codon_hamiltonian/codon_LeaphybridCQMsolver.ipynb#ch0000037?line=0'>1</a>\u001b[0m selected_codon \u001b[39m=\u001b[39m [key \u001b[39mfor\u001b[39;00m key, val \u001b[39min\u001b[39;00m best\u001b[39m.\u001b[39msample\u001b[39m.\u001b[39mitems() \u001b[39mif\u001b[39;00m \u001b[39m'\u001b[39m\u001b[39mq\u001b[39m\u001b[39m'\u001b[39m \u001b[39min\u001b[39;00m key \u001b[39mand\u001b[39;00m val]\n\u001b[1;32m      <a href='vscode-notebook-cell:/Users/Mac_DK/Documents/python/codon_hamiltonian/codon_LeaphybridCQMsolver.ipynb#ch0000037?line=1'>2</a>\u001b[0m selected_codon\n",
      "\u001b[0;31mNameError\u001b[0m: name 'best' is not defined"
     ]
    }
   ],
   "source": [
    "selected_codon = [key for key, val in best.sample.items() if 'q' in key and val]\n",
    "selected_codon"
   ]
  },
  {
   "cell_type": "code",
   "execution_count": 18,
   "metadata": {},
   "outputs": [
    {
     "data": {
      "text/plain": [
       "Sample(sample={'q_0': 1.0, 'q_1': 0.0, 'q_10': 1.0, 'q_11': 0.0, 'q_12': 0.0, 'q_13': 0.0, 'q_14': 0.0, 'q_15': 0.0, 'q_16': 1.0, 'q_17': 0.0, 'q_18': 0.0, 'q_19': 0.0, 'q_2': 0.0, 'q_3': 0.0, 'q_4': 0.0, 'q_5': 1.0, 'q_6': 0.0, 'q_7': 0.0, 'q_8': 0.0, 'q_9': 1.0}, energy=20.020053441245608, num_occurrences=1, is_feasible=True, is_satisfied=array([ True,  True,  True,  True,  True,  True]))"
      ]
     },
     "execution_count": 18,
     "metadata": {},
     "output_type": "execute_result"
    }
   ],
   "source": [
    "feasible_sampleset.first"
   ]
  },
  {
   "cell_type": "markdown",
   "metadata": {},
   "source": [
    "## 2. Simuluation"
   ]
  },
  {
   "cell_type": "code",
   "execution_count": 3,
   "metadata": {},
   "outputs": [
    {
     "data": {
      "text/plain": [
       "204"
      ]
     },
     "execution_count": 3,
     "metadata": {},
     "output_type": "execute_result"
    }
   ],
   "source": [
    "len(HPDF_amino)"
   ]
  },
  {
   "cell_type": "code",
   "execution_count": 4,
   "metadata": {},
   "outputs": [],
   "source": [
    "block_size = 204\n",
    "block_position = 0\n",
    "\n",
    "weight_params = {'c_f': 0.01, 'c_GC': 10, 'c_R': 0.01, 'rho_T': 0.6, 'epsilon': 2, 'infty': 4}\n",
    "amino_fragment = fragmenting_amino_acid_seq(HPDF_amino, block_size, block_position)\n",
    "H_codon = Codon_Hamiltonian(amino_fragment, weight_params)\n",
    "\n",
    "cqm = ConstrainedQuadraticModel()"
   ]
  },
  {
   "cell_type": "markdown",
   "metadata": {},
   "source": [
    "#### Objective and Constraints"
   ]
  },
  {
   "cell_type": "code",
   "execution_count": 5,
   "metadata": {},
   "outputs": [
    {
     "data": {
      "text/plain": [
       "'upper bound of GC average: 0.6'"
      ]
     },
     "execution_count": 5,
     "metadata": {},
     "output_type": "execute_result"
    }
   ],
   "source": [
    "weight_params = {'c_f': 0.01, 'c_GC': 10, 'c_R': 0.01, 'rho_T': 0.6}\n",
    "\n",
    "# Objective\n",
    "# 1. codon usage bias\n",
    "var_q = [Binary(f'q_{i}') for i in range(H_codon.N)]\n",
    "cub_ecoli = sum((-1) * H_codon.vec_zeta(host='e_coli_316407') * var_q)\n",
    "cub_human = sum((-1) * H_codon.vec_zeta(host='h_sapiens_9606') * var_q)\n",
    "\n",
    "# 2. repeated nucleotide sequence\n",
    "#H_codon.matrix_R()\n",
    "R = H_codon.matrix_R()\n",
    "nonzeros = np.argwhere(R)\n",
    "repeated_ncltd = 0\n",
    "for pos in nonzeros:\n",
    "    i,j = pos\n",
    "    repeated_ncltd += R[i,j] * var_q[i] * var_q[j]\n",
    "\n",
    "cqm.set_objective(cub_ecoli + cub_human + repeated_ncltd) #+ cub_human\n",
    "\n",
    "# Constraint 1\n",
    "N_accumulated = 0\n",
    "for aa in range(H_codon.len_aa_seq):\n",
    "    #print('amino acid:',aa)\n",
    "    \n",
    "    # the number of codons per amino acid\n",
    "    num_c_per_aa = len(H_codon.list_all_possible_codons[aa])\n",
    "\n",
    "    # Constraints per amino acid\n",
    "    one_amino_acid = [var_q[i] for i in range(N_accumulated, N_accumulated+num_c_per_aa)]\n",
    "\n",
    "    # Add Constraints\n",
    "    cqm.add_constraint(sum(one_amino_acid) == 1, label=f'Codon Selection in position {aa}, \"{HPDF_amino[aa]}\"')\n",
    "        \n",
    "    # the cumulative number of all possible codons\n",
    "    N_accumulated += num_c_per_aa\n",
    "\n",
    "# Constraint 2\n",
    "gc_avg_constraint = sum(H_codon.vec_s() * var_q) / H_codon.L\n",
    "rho_T= 0.6\n",
    "# Inequality Constraint for GC avg\n",
    "cqm.add_constraint(gc_avg_constraint <= (rho_T), label=f'upper bound of GC average: {rho_T}')\n",
    "# Equality Constraint for GC avg\n",
    "#cqm.add_constraint(gc_avg_constraint == rho_T, label=f'GC average: {rho_T}')\n"
   ]
  },
  {
   "cell_type": "markdown",
   "metadata": {},
   "source": [
    "#### Sampling"
   ]
  },
  {
   "cell_type": "code",
   "execution_count": 6,
   "metadata": {},
   "outputs": [
    {
     "name": "stdout",
     "output_type": "stream",
     "text": [
      "46 feasible solutions of 51.\n",
      "[0, 5, 8, 13, 16, 25, 29, 32, 38, 40, 46, 48, 51, 60, 66, 68, 75, 78, 86, 87, 91, 95, 97, 103, 105, 109, 114, 117, 120, 122, 124, 130, 132, 136, 139, 143, 150, 154, 158, 161, 167, 169, 174, 178, 182, 188, 190, 192, 198, 204, 205, 210, 213, 218, 224, 227, 234, 236, 242, 244, 251, 254, 257, 259, 265, 271, 272, 281, 284, 287, 293, 296, 300, 306, 310, 315, 317, 325, 328, 333, 339, 341, 344, 347, 355, 357, 363, 366, 372, 374, 376, 382, 387, 391, 395, 397, 398, 402, 406, 413, 417, 423, 426, 435, 437, 438, 439, 441, 445, 447, 453, 462, 465, 467, 472, 474, 475, 480, 487, 496, 499, 502, 508, 509, 515, 522, 529, 531, 535, 539, 541, 544, 547, 550, 551, 558, 561, 566, 569, 572, 577, 581, 585, 587, 591, 597, 600, 601, 607, 610, 612, 614, 621, 626, 631, 635, 637, 639, 643, 645, 647, 652, 654, 656, 660, 661, 668, 671, 672, 679, 683, 687, 689, 693, 695, 697, 698, 700, 702, 705, 709, 714, 716, 719, 723, 726, 729, 731, 732, 734, 736, 744, 749, 751, 754, 757, 761, 764, 765, 766, 768, 771, 774, 776]\n"
     ]
    }
   ],
   "source": [
    "sampler = LeapHybridCQMSampler()\n",
    "\n",
    "sampleset = sampler.sample_cqm(cqm,\n",
    "                                #time_limit=20,    \n",
    "                                label=\"Codon CQM\")\n",
    "feasible_sampleset = sampleset.filter(lambda row: row.is_feasible)\n",
    "if len(feasible_sampleset):\n",
    "    best = feasible_sampleset.first\n",
    "    print(\"{} feasible solutions of {}.\".format(\n",
    "        len(feasible_sampleset), len(sampleset)))\n",
    "\n",
    "selected_codon = [key for key, val in best.sample.items() if 'q' in key and val]\n",
    "#print(selected_codon)\n",
    "selected_codon = sorted([int(x[2:]) for x in selected_codon])\n",
    "print(selected_codon)"
   ]
  },
  {
   "cell_type": "markdown",
   "metadata": {},
   "source": [
    "#### Codon Outcomes"
   ]
  },
  {
   "cell_type": "code",
   "execution_count": 8,
   "metadata": {},
   "outputs": [],
   "source": [
    "def outcome_codon_seq_cqm(selected_codon, base):\n",
    "\n",
    "    #flattening\n",
    "    flattening_all_possible_codons = sum(H_codon.list_all_possible_codons, [])\n",
    "\n",
    "    if base == 'RNA':\n",
    "        res_codon_frag = [flattening_all_possible_codons[c] for c in selected_codon]\n",
    "\n",
    "    elif base == 'DNA':\n",
    "        res_codon_frag = [flattening_all_possible_codons[c].replace(\"U\", \"T\") for c in selected_codon]\n",
    "\n",
    "    return res_codon_frag"
   ]
  },
  {
   "cell_type": "code",
   "execution_count": 14,
   "metadata": {},
   "outputs": [
    {
     "name": "stdout",
     "output_type": "stream",
     "text": [
      "Optimal Codon Seq by using Hybrid Solver\n",
      "----------------------------------------\n",
      "CAI for human: 0.7579211103912575\n",
      "CAI for ecoli: 0.6798178201236033\n",
      "CPB for human: -0.22269619080578776\n",
      "CPB for ecoli: -0.07071254698023753\n",
      "Effective number of codons: 37.627191334969176\n",
      "GC: 59.967320261437905\n",
      "GC3: 59.31372549019608\n"
     ]
    },
    {
     "data": {
      "image/png": "[encoded data removed]",
      "text/plain": [
       "<Figure size 720x360 with 1 Axes>"
      ]
     },
     "metadata": {
      "needs_background": "light"
     },
     "output_type": "display_data"
    }
   ],
   "source": [
    "codon_opt = outcome_codon_seq_cqm(selected_codon, 'DNA')\n",
    "opt_codon_seq = [\"\".join(c) for c in [codon_opt]][0]\n",
    "dp_metrics('Optimal Codon Seq by using Hybrid Solver', opt_codon_seq)"
   ]
  },
  {
   "cell_type": "markdown",
   "metadata": {},
   "source": [
    "## 3. Results"
   ]
  },
  {
   "cell_type": "code",
   "execution_count": 15,
   "metadata": {},
   "outputs": [
    {
     "name": "stdout",
     "output_type": "stream",
     "text": [
      "46 feasible solutions of 52.\n",
      "Optimal Codon Seq by using Hybrid Solver\n",
      "----------------------------------------\n",
      "CAI for human: 0.6394400137350943\n",
      "CAI for ecoli: 0.8696531616573949\n",
      "CPB for human: -0.047794168853049955\n",
      "CPB for ecoli: 0.206776566681687\n",
      "Effective number of codons: 28.71699694865958\n",
      "Similarity to ref_codon: 0.7875816993464052\n",
      "GC: 59.967320261437905\n",
      "GC3: 58.333333333333336\n"
     ]
    },
    {
     "data": {
      "image/png": "[encoded data removed]",
      "text/plain": [
       "<Figure size 720x360 with 1 Axes>"
      ]
     },
     "metadata": {
      "needs_background": "light"
     },
     "output_type": "display_data"
    }
   ],
   "source": [
    "weight_params = {'cub_ec': 1, 'cub_hu': 0, 'cpub_ec': 1, 'cpub_hu': 0, 'rep_nuc': 0, 'rho_T': 0.55, 'B_rho': 0.05}\n",
    "H_codon = Codon_Hamiltonian(HPDF_amino, weight_params)\n",
    "codon_opt = H_codon.run_Hybrid()\n",
    "\n",
    "opt_codon_seq = [\"\".join(c) for c in [codon_opt]][0]\n",
    "dp_metrics('Optimal Codon Seq by using Hybrid Solver', opt_codon_seq, ref_codon=ref_HPDF_DNA)"
   ]
  },
  {
   "cell_type": "code",
   "execution_count": 16,
   "metadata": {},
   "outputs": [
    {
     "name": "stdout",
     "output_type": "stream",
     "text": [
      "43 feasible solutions of 51.\n",
      "Optimal Codon Seq by using Hybrid Solver\n",
      "----------------------------------------\n",
      "CAI for human: 0.6521516203596237\n",
      "CAI for ecoli: 0.7267317709970225\n",
      "CPB for human: -0.18012531517751462\n",
      "CPB for ecoli: 0.13983310323513423\n",
      "Effective number of codons: 33.24035479882746\n",
      "Similarity to ref_codon: 0.7810457516339869\n",
      "GC: 59.967320261437905\n",
      "GC3: 57.35294117647059\n"
     ]
    },
    {
     "data": {
      "image/png": "[encoded data removed]",
      "text/plain": [
       "<Figure size 720x360 with 1 Axes>"
      ]
     },
     "metadata": {
      "needs_background": "light"
     },
     "output_type": "display_data"
    }
   ],
   "source": [
    "weight_params = {'cub_ec': 1, 'cub_hu': 0, 'cpub_ec': 1, 'cpub_hu': 0, 'rep_nuc': 1, 'rho_T': 0.55, 'B_rho': 0.05}\n",
    "H_codon = Codon_Hamiltonian(HPDF_amino, weight_params)\n",
    "codon_opt = H_codon.run_Hybrid()\n",
    "\n",
    "opt_codon_seq = [\"\".join(c) for c in [codon_opt]][0]\n",
    "dp_metrics('Optimal Codon Seq by using Hybrid Solver', opt_codon_seq, ref_codon=ref_HPDF_DNA)"
   ]
  },
  {
   "cell_type": "code",
   "execution_count": 17,
   "metadata": {},
   "outputs": [
    {
     "name": "stdout",
     "output_type": "stream",
     "text": [
      "43 feasible solutions of 52.\n",
      "Optimal Codon Seq by using Hybrid Solver\n",
      "----------------------------------------\n",
      "CAI for human: 0.8089417353063131\n",
      "CAI for ecoli: 0.7587040657977652\n",
      "CPB for human: 0.16457549911142852\n",
      "CPB for ecoli: 0.1400254383707891\n",
      "Effective number of codons: 30.312500508596955\n",
      "Similarity to ref_codon: 0.7941176470588235\n",
      "GC: 59.967320261437905\n",
      "GC3: 60.294117647058826\n"
     ]
    },
    {
     "data": {
      "image/png": "[encoded data removed]",
      "text/plain": [
       "<Figure size 720x360 with 1 Axes>"
      ]
     },
     "metadata": {
      "needs_background": "light"
     },
     "output_type": "display_data"
    }
   ],
   "source": [
    "weight_params = {'cub_ec': 1, 'cub_hu': 1, 'cpub_ec': 1, 'cpub_hu': 1, 'rep_nuc': 0, 'rho_T': 0.55, 'B_rho': 0.05}\n",
    "H_codon = Codon_Hamiltonian(HPDF_amino, weight_params)\n",
    "codon_opt = H_codon.run_Hybrid()\n",
    "\n",
    "opt_codon_seq = [\"\".join(c) for c in [codon_opt]][0]\n",
    "dp_metrics('Optimal Codon Seq by using Hybrid Solver', opt_codon_seq, ref_codon=ref_HPDF_DNA)"
   ]
  },
  {
   "cell_type": "code",
   "execution_count": null,
   "metadata": {},
   "outputs": [],
   "source": []
  }
 ],
 "metadata": {
  "interpreter": {
   "hash": "b9ebc5d4cce93af4d43c96f0a633e6cd983abbdc7f2adcdd5a60f958ce818e37"
  },
  "kernelspec": {
   "display_name": "Python 3.10.2 ('dwave')",
   "language": "python",
   "name": "python3"
  },
  "language_info": {
   "codemirror_mode": {
    "name": "ipython",
    "version": 3
   },
   "file_extension": ".py",
   "mimetype": "text/x-python",
   "name": "python",
   "nbconvert_exporter": "python",
   "pygments_lexer": "ipython3",
   "version": "3.10.2"
  },
  "orig_nbformat": 4
 },
 "nbformat": 4,
 "nbformat_minor": 2
}
