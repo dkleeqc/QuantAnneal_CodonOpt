{
 "cells": [
  {
   "cell_type": "code",
   "execution_count": 2,
   "metadata": {},
   "outputs": [],
   "source": [
    "import os\n",
    "import functools\n",
    "from itertools import groupby\n",
    "import operator\n",
    "from collections import defaultdict, Counter\n",
    "\n",
    "import numpy as np\n",
    "import pandas as pd\n",
    "import matplotlib.pyplot as plt\n",
    "\n",
    "from Bio.SeqUtils.ProtParam import ProteinAnalysis\n",
    "from Bio.Seq import Seq\n",
    "from Bio import SeqIO\n",
    "\n",
    "from dwave.system import LeapHybridCQMSampler\n",
    "from dimod import Binary, ConstrainedQuadraticModel\n",
    "\n",
    "from codon_optimization import *"
   ]
  },
  {
   "attachments": {},
   "cell_type": "markdown",
   "metadata": {},
   "source": [
    "## 1. SPIKE_SARS2 Spike glycoprotein <br>\n",
    "### OS=Severe acute respiratory syndrome coronavirus 2 OX=2697049"
   ]
  },
  {
   "cell_type": "markdown",
   "metadata": {},
   "source": [
    "### 1-1 Load sequences"
   ]
  },
  {
   "cell_type": "code",
   "execution_count": null,
   "metadata": {},
   "outputs": [
    {
     "data": {
      "text/plain": [
       "1273"
      ]
     },
     "execution_count": 2,
     "metadata": {},
     "output_type": "execute_result"
    }
   ],
   "source": [
    "sars_cov_protein = SeqIO.read(\"./SARS_Cov2_glycoprotein_YP_009724390_datasets/protein.faa\", \"fasta\").seq\n",
    "sars_cov_gene = SeqIO.read(\"./SARS_Cov2_glycoprotein_YP_009724390_datasets/gene.fna\", \"fasta\").seq\n",
    "\n",
    "len(sars_cov_protein)"
   ]
  },
  {
   "cell_type": "markdown",
   "metadata": {},
   "source": [
    "### 1-2 Run D-Wave"
   ]
  },
  {
   "cell_type": "code",
   "execution_count": null,
   "metadata": {},
   "outputs": [
    {
     "data": {
      "text/plain": [
       "3819"
      ]
     },
     "execution_count": 7,
     "metadata": {},
     "output_type": "execute_result"
    }
   ],
   "source": [
    "aa_seq = sars_cov_protein #amino acide sequence\n",
    "weight_params = {'cub_h1': 1, 'cpub_h1': 1, 'cub_h2': 0, 'cpub_h2': 0, 'rep_nuc': 0.75, 'rho_T': 0.5, 'B_rho': 0.4}\n",
    "organisms = ['h_sapiens', 'sars_cov2']"
   ]
  },
  {
   "cell_type": "code",
   "execution_count": null,
   "metadata": {},
   "outputs": [],
   "source": [
    "H_codon = Codon_Hamiltonian(aa_seq, weight_params)\n",
    "codon_opt = H_codon.run_Hybrid(host=[0], original=organisms[1], sampleset=False)\n",
    "opt_codon_seq = [\"\".join(c) for c in [codon_opt]][0]\n",
    "opt_codon_seq"
   ]
  },
  {
   "cell_type": "markdown",
   "metadata": {},
   "source": [
    "### 1-3 Results"
   ]
  },
  {
   "cell_type": "code",
   "execution_count": null,
   "metadata": {},
   "outputs": [
    {
     "data": {
      "text/html": [
       "<div>\n",
       "<style scoped>\n",
       "    .dataframe tbody tr th:only-of-type {\n",
       "        vertical-align: middle;\n",
       "    }\n",
       "\n",
       "    .dataframe tbody tr th {\n",
       "        vertical-align: top;\n",
       "    }\n",
       "\n",
       "    .dataframe thead tr th {\n",
       "        text-align: left;\n",
       "    }\n",
       "</style>\n",
       "<table border=\"1\" class=\"dataframe\">\n",
       "  <thead>\n",
       "    <tr>\n",
       "      <th></th>\n",
       "      <th colspan=\"7\" halign=\"left\">DNA name: SPIKE_SARS2 Spike glycoprotein</th>\n",
       "    </tr>\n",
       "    <tr>\n",
       "      <th></th>\n",
       "      <th>cub_h1</th>\n",
       "      <th>cpub_h1</th>\n",
       "      <th>cub_h2</th>\n",
       "      <th>cpub_h2</th>\n",
       "      <th>rep_nuc</th>\n",
       "      <th>rho_T</th>\n",
       "      <th>B_rho</th>\n",
       "    </tr>\n",
       "  </thead>\n",
       "  <tbody>\n",
       "    <tr>\n",
       "      <th>Weights</th>\n",
       "      <td>1.0</td>\n",
       "      <td>1.0</td>\n",
       "      <td>0.0</td>\n",
       "      <td>0.0</td>\n",
       "      <td>0.75</td>\n",
       "      <td>0.5</td>\n",
       "      <td>0.4</td>\n",
       "    </tr>\n",
       "  </tbody>\n",
       "</table>\n",
       "</div>"
      ],
      "text/plain": [
       "        DNA name: SPIKE_SARS2 Spike glycoprotein                         \\\n",
       "                                          cub_h1 cpub_h1 cub_h2 cpub_h2   \n",
       "Weights                                      1.0     1.0    0.0     0.0   \n",
       "\n",
       "                             \n",
       "        rep_nuc rho_T B_rho  \n",
       "Weights    0.75   0.5   0.4  "
      ]
     },
     "metadata": {},
     "output_type": "display_data"
    },
    {
     "data": {
      "text/html": [
       "<div>\n",
       "<style scoped>\n",
       "    .dataframe tbody tr th:only-of-type {\n",
       "        vertical-align: middle;\n",
       "    }\n",
       "\n",
       "    .dataframe tbody tr th {\n",
       "        vertical-align: top;\n",
       "    }\n",
       "\n",
       "    .dataframe thead th {\n",
       "        text-align: right;\n",
       "    }\n",
       "</style>\n",
       "<table border=\"1\" class=\"dataframe\">\n",
       "  <thead>\n",
       "    <tr style=\"text-align: right;\">\n",
       "      <th></th>\n",
       "      <th>Optimal Codon Seq</th>\n",
       "    </tr>\n",
       "  </thead>\n",
       "  <tbody>\n",
       "    <tr>\n",
       "      <th>Similarity to ref_codon</th>\n",
       "      <td>0.747578</td>\n",
       "    </tr>\n",
       "    <tr>\n",
       "      <th>Effective number of codons</th>\n",
       "      <td>32.446666</td>\n",
       "    </tr>\n",
       "    <tr>\n",
       "      <th>GC</th>\n",
       "      <td>50.039277</td>\n",
       "    </tr>\n",
       "    <tr>\n",
       "      <th>GC3</th>\n",
       "      <td>61.586803</td>\n",
       "    </tr>\n",
       "  </tbody>\n",
       "</table>\n",
       "</div>"
      ],
      "text/plain": [
       "                            Optimal Codon Seq\n",
       "Similarity to ref_codon              0.747578\n",
       "Effective number of codons          32.446666\n",
       "GC                                  50.039277\n",
       "GC3                                 61.586803"
      ]
     },
     "metadata": {},
     "output_type": "display_data"
    },
    {
     "data": {
      "text/html": [
       "<div>\n",
       "<style scoped>\n",
       "    .dataframe tbody tr th:only-of-type {\n",
       "        vertical-align: middle;\n",
       "    }\n",
       "\n",
       "    .dataframe tbody tr th {\n",
       "        vertical-align: top;\n",
       "    }\n",
       "\n",
       "    .dataframe thead th {\n",
       "        text-align: right;\n",
       "    }\n",
       "</style>\n",
       "<table border=\"1\" class=\"dataframe\">\n",
       "  <thead>\n",
       "    <tr style=\"text-align: right;\">\n",
       "      <th></th>\n",
       "      <th>h_sapiens</th>\n",
       "      <th>sars_cov2</th>\n",
       "    </tr>\n",
       "  </thead>\n",
       "  <tbody>\n",
       "    <tr>\n",
       "      <th>CAI</th>\n",
       "      <td>0.884450</td>\n",
       "      <td>0.481679</td>\n",
       "    </tr>\n",
       "    <tr>\n",
       "      <th>CPB</th>\n",
       "      <td>0.078715</td>\n",
       "      <td>-2.705615</td>\n",
       "    </tr>\n",
       "  </tbody>\n",
       "</table>\n",
       "</div>"
      ],
      "text/plain": [
       "     h_sapiens  sars_cov2\n",
       "CAI   0.884450   0.481679\n",
       "CPB   0.078715  -2.705615"
      ]
     },
     "metadata": {},
     "output_type": "display_data"
    },
    {
     "data": {
      "image/png": "[encoded data removed]",
      "text/plain": [
       "<Figure size 800x400 with 1 Axes>"
      ]
     },
     "metadata": {},
     "output_type": "display_data"
    }
   ],
   "source": [
    "dp_metrics(name='SPIKE_SARS2 Spike glycoprotein', codon_seq=opt_codon_seq, organisms=organisms, weight_params=weight_params, ref_codon=sars_cov_gene[:-3]) #"
   ]
  },
  {
   "cell_type": "markdown",
   "metadata": {},
   "source": [
    "For Human,\n",
    "\n",
    "1. GC ~ mean 40~50%?\n",
    "2. GC3 ~ mean 70-80%\n",
    "3. ENC ~ 45?\n",
    "4. CAI ~ 0.78~0.8\n",
    "5. CPB ~ 0.08?"
   ]
  },
  {
   "attachments": {},
   "cell_type": "markdown",
   "metadata": {},
   "source": [
    "## 2. Insulin_sequence <br>\n",
    "Homo sapiens chromosome 1_On '-' strand of Chromosome 11 (NC_000011.10)"
   ]
  },
  {
   "cell_type": "markdown",
   "metadata": {},
   "source": [
    "### 1-1 Load sequences"
   ]
  },
  {
   "cell_type": "code",
   "execution_count": null,
   "metadata": {},
   "outputs": [
    {
     "data": {
      "text/plain": [
       "110"
      ]
     },
     "execution_count": 2,
     "metadata": {},
     "output_type": "execute_result"
    }
   ],
   "source": [
    "insulin_human_dna = 'ATGGCCCTGTGGATGCGCCTCCTGCCCCTGCTGGCGCTGCTGGCCCTCTGGGGACCTGACCCAGCCGCAGCCTTTGTGAACCAACACCTGTGCGGCTCACACCTGGTGGAAGCTCTCTACCTAGTGTGCGGGGAACGAGGCTTCTTCTACACACCCAAGACCCGCCGGGAGGCAGAGGACCTGCAGGTGGGGCAGGTGGAGCTGGGCGGGGGCCCTGGTGCAGGCAGCCTGCAGCCCTTGGCCCTGGAGGGGTCCCTGCAGAAGCGTGGCATTGTGGAACAATGCTGTACCAGCATCTGCTCCCTCTACCAGCTGGAGAACTACTGCAACTAG'\n",
    "insulin_human_protein = 'MALWMRLLPLLALLALWGPDPAAAFVNQHLCGSHLVEALYLVCGERGFFYTPKTRREAEDLQVGQVELGGGPGAGSLQPLALEGSLQKRGIVEQCCTSICSLYQLENYCN'\n",
    "\n",
    "len(insulin_human_protein)"
   ]
  },
  {
   "cell_type": "markdown",
   "metadata": {},
   "source": [
    "### 1-2 Run D-Wave"
   ]
  },
  {
   "cell_type": "code",
   "execution_count": null,
   "metadata": {},
   "outputs": [],
   "source": [
    "aa_seq = insulin_human_protein # amino acid sequence\n",
    "weight_params = {'cub_h1': 0.02, 'cpub_h1': 0.6, 'cub_h2': 0, 'cpub_h2': 0, 'rep_nuc': 1, 'rho_T': 0.46, 'B_rho': 0.048}\n",
    "organisms = ['e_coli', 'h_sapiens'] # = [host organism, original organism]"
   ]
  },
  {
   "cell_type": "code",
   "execution_count": null,
   "metadata": {},
   "outputs": [],
   "source": [
    "H_codon = Codon_Hamiltonian(aa_seq, weight_params)\n",
    "codon_opt = H_codon.run_Hybrid(host=[0], original=organisms[1], sampleset=False)\n",
    "opt_codon_seq = [\"\".join(c) for c in [codon_opt]][0]\n",
    "opt_codon_seq"
   ]
  },
  {
   "cell_type": "markdown",
   "metadata": {},
   "source": [
    "### 1-3 Results"
   ]
  },
  {
   "cell_type": "code",
   "execution_count": null,
   "metadata": {},
   "outputs": [
    {
     "data": {
      "text/html": [
       "<div>\n",
       "<style scoped>\n",
       "    .dataframe tbody tr th:only-of-type {\n",
       "        vertical-align: middle;\n",
       "    }\n",
       "\n",
       "    .dataframe tbody tr th {\n",
       "        vertical-align: top;\n",
       "    }\n",
       "\n",
       "    .dataframe thead tr th {\n",
       "        text-align: left;\n",
       "    }\n",
       "</style>\n",
       "<table border=\"1\" class=\"dataframe\">\n",
       "  <thead>\n",
       "    <tr>\n",
       "      <th></th>\n",
       "      <th colspan=\"7\" halign=\"left\">DNA name: Insulin</th>\n",
       "    </tr>\n",
       "    <tr>\n",
       "      <th></th>\n",
       "      <th>cub_h1</th>\n",
       "      <th>cpub_h1</th>\n",
       "      <th>cub_h2</th>\n",
       "      <th>cpub_h2</th>\n",
       "      <th>rep_nuc</th>\n",
       "      <th>rho_T</th>\n",
       "      <th>B_rho</th>\n",
       "    </tr>\n",
       "  </thead>\n",
       "  <tbody>\n",
       "    <tr>\n",
       "      <th>Weights</th>\n",
       "      <td>0.02</td>\n",
       "      <td>0.6</td>\n",
       "      <td>0.0</td>\n",
       "      <td>0.0</td>\n",
       "      <td>1.0</td>\n",
       "      <td>0.46</td>\n",
       "      <td>0.048</td>\n",
       "    </tr>\n",
       "  </tbody>\n",
       "</table>\n",
       "</div>"
      ],
      "text/plain": [
       "        DNA name: Insulin                                            \n",
       "                   cub_h1 cpub_h1 cub_h2 cpub_h2 rep_nuc rho_T  B_rho\n",
       "Weights              0.02     0.6    0.0     0.0     1.0  0.46  0.048"
      ]
     },
     "metadata": {},
     "output_type": "display_data"
    },
    {
     "data": {
      "text/html": [
       "<div>\n",
       "<style scoped>\n",
       "    .dataframe tbody tr th:only-of-type {\n",
       "        vertical-align: middle;\n",
       "    }\n",
       "\n",
       "    .dataframe tbody tr th {\n",
       "        vertical-align: top;\n",
       "    }\n",
       "\n",
       "    .dataframe thead th {\n",
       "        text-align: right;\n",
       "    }\n",
       "</style>\n",
       "<table border=\"1\" class=\"dataframe\">\n",
       "  <thead>\n",
       "    <tr style=\"text-align: right;\">\n",
       "      <th></th>\n",
       "      <th>Optimal Codon Seq</th>\n",
       "    </tr>\n",
       "  </thead>\n",
       "  <tbody>\n",
       "    <tr>\n",
       "      <th>Similarity to ref_codon</th>\n",
       "      <td>0.730303</td>\n",
       "    </tr>\n",
       "    <tr>\n",
       "      <th>Effective number of codons</th>\n",
       "      <td>32.514179</td>\n",
       "    </tr>\n",
       "    <tr>\n",
       "      <th>GC</th>\n",
       "      <td>50.606061</td>\n",
       "    </tr>\n",
       "    <tr>\n",
       "      <th>GC3</th>\n",
       "      <td>38.181818</td>\n",
       "    </tr>\n",
       "  </tbody>\n",
       "</table>\n",
       "</div>"
      ],
      "text/plain": [
       "                            Optimal Codon Seq\n",
       "Similarity to ref_codon              0.730303\n",
       "Effective number of codons          32.514179\n",
       "GC                                  50.606061\n",
       "GC3                                 38.181818"
      ]
     },
     "metadata": {},
     "output_type": "display_data"
    },
    {
     "data": {
      "text/html": [
       "<div>\n",
       "<style scoped>\n",
       "    .dataframe tbody tr th:only-of-type {\n",
       "        vertical-align: middle;\n",
       "    }\n",
       "\n",
       "    .dataframe tbody tr th {\n",
       "        vertical-align: top;\n",
       "    }\n",
       "\n",
       "    .dataframe thead th {\n",
       "        text-align: right;\n",
       "    }\n",
       "</style>\n",
       "<table border=\"1\" class=\"dataframe\">\n",
       "  <thead>\n",
       "    <tr style=\"text-align: right;\">\n",
       "      <th></th>\n",
       "      <th>e_coli</th>\n",
       "      <th>h_sapiens</th>\n",
       "    </tr>\n",
       "  </thead>\n",
       "  <tbody>\n",
       "    <tr>\n",
       "      <th>CAI</th>\n",
       "      <td>0.399218</td>\n",
       "      <td>0.578754</td>\n",
       "    </tr>\n",
       "    <tr>\n",
       "      <th>CPB</th>\n",
       "      <td>0.158323</td>\n",
       "      <td>-0.071552</td>\n",
       "    </tr>\n",
       "  </tbody>\n",
       "</table>\n",
       "</div>"
      ],
      "text/plain": [
       "       e_coli  h_sapiens\n",
       "CAI  0.399218   0.578754\n",
       "CPB  0.158323  -0.071552"
      ]
     },
     "metadata": {},
     "output_type": "display_data"
    },
    {
     "data": {
      "image/png": "[encoded data removed]",
      "text/plain": [
       "<Figure size 800x400 with 1 Axes>"
      ]
     },
     "metadata": {},
     "output_type": "display_data"
    }
   ],
   "source": [
    "dp_metrics(name='Insulin', codon_seq=opt_codon_seq, organisms=organisms, weight_params=weight_params, ref_codon=insulin_human_dna[:-3])"
   ]
  }
 ],
 "metadata": {
  "kernelspec": {
   "display_name": "dwave",
   "language": "python",
   "name": "python3"
  },
  "language_info": {
   "codemirror_mode": {
    "name": "ipython",
    "version": 3
   },
   "file_extension": ".py",
   "mimetype": "text/x-python",
   "name": "python",
   "nbconvert_exporter": "python",
   "pygments_lexer": "ipython3",
   "version": "3.10.13"
  },
  "orig_nbformat": 4
 },
 "nbformat": 4,
 "nbformat_minor": 2
}
